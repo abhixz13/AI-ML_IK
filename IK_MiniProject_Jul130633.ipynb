{
  "cells": [
    {
      "cell_type": "markdown",
      "metadata": {
        "id": "view-in-github",
        "colab_type": "text"
      },
      "source": [
        "<a href=\"https://colab.research.google.com/github/abhixz13/AI-ML_IK/blob/main/IK_MiniProject_Jul130633.ipynb\" target=\"_parent\"><img src=\"https://colab.research.google.com/assets/colab-badge.svg\" alt=\"Open In Colab\"/></a>"
      ]
    },
    {
      "cell_type": "code",
      "execution_count": 29,
      "metadata": {
        "colab": {
          "base_uri": "https://localhost:8080/"
        },
        "id": "X_SumEsuGMN5",
        "outputId": "59407f37-640a-414f-ec1b-0b1633f34e3e"
      },
      "outputs": [
        {
          "output_type": "stream",
          "name": "stderr",
          "text": [
            "[nltk_data] Downloading package stopwords to /root/nltk_data...\n",
            "[nltk_data]   Package stopwords is already up-to-date!\n",
            "[nltk_data] Downloading package punkt to /root/nltk_data...\n",
            "[nltk_data]   Package punkt is already up-to-date!\n",
            "[nltk_data] Downloading package wordnet to /root/nltk_data...\n",
            "[nltk_data]   Package wordnet is already up-to-date!\n"
          ]
        },
        {
          "output_type": "execute_result",
          "data": {
            "text/plain": [
              "True"
            ]
          },
          "metadata": {},
          "execution_count": 29
        }
      ],
      "source": [
        "import os\n",
        "import gdown\n",
        "import zipfile\n",
        "import pandas as pd\n",
        "import numpy as np\n",
        "\n",
        "import nltk\n",
        "nltk.download('stopwords')\n",
        "nltk.download('punkt') # provides pre-trained models for tokenizing text into sentences and words.\n",
        "nltk.download('wordnet') #is a lexical database for the English language."
      ]
    },
    {
      "cell_type": "code",
      "source": [
        "from sklearn.model_selection import train_test_split\n",
        "from sklearn.ensemble import RandomForestClassifier, AdaBoostClassifier\n",
        "from sklearn.naive_bayes import GaussianNB\n",
        "from sklearn.linear_model import LogisticRegression\n",
        "from sklearn.metrics import accuracy_score, roc_auc_score\n",
        "\n",
        "import matplotlib.pyplot as plt\n",
        "import seaborn as sns"
      ],
      "metadata": {
        "id": "bC39KeNsJxi3"
      },
      "execution_count": 30,
      "outputs": []
    },
    {
      "cell_type": "code",
      "source": [
        "from sklearn.feature_extraction.text import TfidfVectorizer\n",
        "from sklearn.metrics.pairwise import cosine_similarity\n",
        "from sklearn.metrics import accuracy_score, classification_report, confusion_matrix, ConfusionMatrixDisplay\n",
        "from sklearn.feature_extraction.text import CountVectorizer\n",
        "from joblib import Parallel, delayed"
      ],
      "metadata": {
        "id": "FHL56_73l_oe"
      },
      "execution_count": 31,
      "outputs": []
    },
    {
      "cell_type": "code",
      "execution_count": 32,
      "metadata": {
        "colab": {
          "base_uri": "https://localhost:8080/"
        },
        "id": "nC2FgIqmItk5",
        "outputId": "f1aac4e5-a783-43b8-e5bf-e620c7a5f64d"
      },
      "outputs": [
        {
          "output_type": "stream",
          "name": "stdout",
          "text": [
            "Drive already mounted at /content/drive; to attempt to forcibly remount, call drive.mount(\"/content/drive\", force_remount=True).\n"
          ]
        }
      ],
      "source": [
        "from google.colab import drive\n",
        "drive.mount('/content/drive')"
      ]
    },
    {
      "cell_type": "code",
      "execution_count": null,
      "metadata": {
        "colab": {
          "base_uri": "https://localhost:8080/"
        },
        "id": "4gHBr2a1It31",
        "outputId": "73ab79d2-850a-4881-cfda-e72c8fbd9104"
      },
      "outputs": [
        {
          "output_type": "stream",
          "name": "stdout",
          "text": [
            "Dataset downloaded and extracted successfully.\n"
          ]
        }
      ],
      "source": [
        "# Define the URL and file paths\n",
        "zip_url = \"https://drive.google.com/uc?export=download&id=16zn74iUWV-Qiv4yYkaMY-spr-LJIys9Z\"\n",
        "dataset_path = os.path.join(\"/content/drive/MyDrive/IK_Mini_Project2\", \"imdb_spoiler\")\n",
        "zip_file_path = os.path.join(dataset_path, \"imdb_spoiler_dataset.zip\")\n",
        "\n",
        "# Create the dataset directory if it doesn't exist\n",
        "if not os.path.exists(dataset_path):\n",
        "    os.makedirs(dataset_path)\n",
        "\n",
        "# Download the zip file if it doesn't exist\n",
        "if not os.path.exists(zip_file_path):\n",
        "    gdown.download(zip_url, zip_file_path, quiet=False)\n",
        "\n",
        "# Extract the zip file\n",
        "with zipfile.ZipFile(zip_file_path, \"r\") as zip_ref:\n",
        "    zip_ref.extractall(dataset_path)\n",
        "\n",
        "print(\"Dataset downloaded and extracted successfully.\")"
      ]
    },
    {
      "cell_type": "markdown",
      "metadata": {
        "id": "uEOhLywpJb9D"
      },
      "source": []
    },
    {
      "cell_type": "code",
      "execution_count": null,
      "metadata": {
        "colab": {
          "base_uri": "https://localhost:8080/"
        },
        "id": "_tSHBKBYJwif",
        "outputId": "e1ca4867-525d-464e-bf70-195d811e4b32"
      },
      "outputs": [
        {
          "output_type": "stream",
          "name": "stdout",
          "text": [
            "files in dataset directory:['imdb_spoiler_dataset.zip', 'IMDB_movie_details.json', 'IMDB_reviews.json']\n"
          ]
        }
      ],
      "source": [
        "# List the files\n",
        "files = os.listdir(os.path.join(\"/content/drive/MyDrive/IK_Mini_Project2\", \"imdb_spoiler\"))\n",
        "print(f\"files in dataset directory:{files}\")"
      ]
    },
    {
      "cell_type": "code",
      "execution_count": null,
      "metadata": {
        "id": "EpFZoDwVJSgc"
      },
      "outputs": [],
      "source": [
        "#Reading the files\n",
        "\n",
        "for file in files:\n",
        "  file_path = os.path.join(dataset_path, file)\n",
        "\n",
        "  if file.endswith('.json'):\n",
        "    data = pd.read_json(file_path, lines= True)\n",
        "\n",
        "    if 'review' in file.lower():\n",
        "      reviews = data\n",
        "    else:\n",
        "      movies = data"
      ]
    },
    {
      "cell_type": "code",
      "execution_count": null,
      "metadata": {
        "id": "GDlbKgtKT8XS",
        "colab": {
          "base_uri": "https://localhost:8080/",
          "height": 241
        },
        "outputId": "9dd6d2cd-fdb5-4cdd-a4b5-3521d4213023"
      },
      "outputs": [
        {
          "output_type": "display_data",
          "data": {
            "text/plain": [
              "    movie_id                                       plot_summary  duration  \\\n",
              "0  tt0105112  Former CIA analyst, Jack Ryan is in England wi...  1h 57min   \n",
              "1  tt1204975  Billy (Michael Douglas), Paddy (Robert De Niro...  1h 45min   \n",
              "2  tt0243655  The setting is Camp Firewood, the year 1981. I...  1h 37min   \n",
              "3  tt0040897  Fred C. Dobbs and Bob Curtin, both down on the...   2h 6min   \n",
              "4  tt0126886  Tracy Flick is running unopposed for this year...  1h 43min   \n",
              "\n",
              "                         genre  rating release_date  \\\n",
              "0           [Action, Thriller]     6.9   1992-06-05   \n",
              "1                     [Comedy]     6.6   2013-11-01   \n",
              "2            [Comedy, Romance]     6.7   2002-04-11   \n",
              "3  [Adventure, Drama, Western]     8.3   1948-01-24   \n",
              "4     [Comedy, Drama, Romance]     7.3   1999-05-07   \n",
              "\n",
              "                                       plot_synopsis  \n",
              "0  Jack Ryan (Ford) is on a \"working vacation\" in...  \n",
              "1  Four boys around the age of 10 are friends in ...  \n",
              "2                                                     \n",
              "3  Fred Dobbs (Humphrey Bogart) and Bob Curtin (T...  \n",
              "4  Jim McAllister (Matthew Broderick) is a much-a...  "
            ],
            "text/html": [
              "\n",
              "  <div id=\"df-3108e6e5-7973-49f4-9963-0ac70faf812c\" class=\"colab-df-container\">\n",
              "    <div>\n",
              "<style scoped>\n",
              "    .dataframe tbody tr th:only-of-type {\n",
              "        vertical-align: middle;\n",
              "    }\n",
              "\n",
              "    .dataframe tbody tr th {\n",
              "        vertical-align: top;\n",
              "    }\n",
              "\n",
              "    .dataframe thead th {\n",
              "        text-align: right;\n",
              "    }\n",
              "</style>\n",
              "<table border=\"1\" class=\"dataframe\">\n",
              "  <thead>\n",
              "    <tr style=\"text-align: right;\">\n",
              "      <th></th>\n",
              "      <th>movie_id</th>\n",
              "      <th>plot_summary</th>\n",
              "      <th>duration</th>\n",
              "      <th>genre</th>\n",
              "      <th>rating</th>\n",
              "      <th>release_date</th>\n",
              "      <th>plot_synopsis</th>\n",
              "    </tr>\n",
              "  </thead>\n",
              "  <tbody>\n",
              "    <tr>\n",
              "      <th>0</th>\n",
              "      <td>tt0105112</td>\n",
              "      <td>Former CIA analyst, Jack Ryan is in England wi...</td>\n",
              "      <td>1h 57min</td>\n",
              "      <td>[Action, Thriller]</td>\n",
              "      <td>6.9</td>\n",
              "      <td>1992-06-05</td>\n",
              "      <td>Jack Ryan (Ford) is on a \"working vacation\" in...</td>\n",
              "    </tr>\n",
              "    <tr>\n",
              "      <th>1</th>\n",
              "      <td>tt1204975</td>\n",
              "      <td>Billy (Michael Douglas), Paddy (Robert De Niro...</td>\n",
              "      <td>1h 45min</td>\n",
              "      <td>[Comedy]</td>\n",
              "      <td>6.6</td>\n",
              "      <td>2013-11-01</td>\n",
              "      <td>Four boys around the age of 10 are friends in ...</td>\n",
              "    </tr>\n",
              "    <tr>\n",
              "      <th>2</th>\n",
              "      <td>tt0243655</td>\n",
              "      <td>The setting is Camp Firewood, the year 1981. I...</td>\n",
              "      <td>1h 37min</td>\n",
              "      <td>[Comedy, Romance]</td>\n",
              "      <td>6.7</td>\n",
              "      <td>2002-04-11</td>\n",
              "      <td></td>\n",
              "    </tr>\n",
              "    <tr>\n",
              "      <th>3</th>\n",
              "      <td>tt0040897</td>\n",
              "      <td>Fred C. Dobbs and Bob Curtin, both down on the...</td>\n",
              "      <td>2h 6min</td>\n",
              "      <td>[Adventure, Drama, Western]</td>\n",
              "      <td>8.3</td>\n",
              "      <td>1948-01-24</td>\n",
              "      <td>Fred Dobbs (Humphrey Bogart) and Bob Curtin (T...</td>\n",
              "    </tr>\n",
              "    <tr>\n",
              "      <th>4</th>\n",
              "      <td>tt0126886</td>\n",
              "      <td>Tracy Flick is running unopposed for this year...</td>\n",
              "      <td>1h 43min</td>\n",
              "      <td>[Comedy, Drama, Romance]</td>\n",
              "      <td>7.3</td>\n",
              "      <td>1999-05-07</td>\n",
              "      <td>Jim McAllister (Matthew Broderick) is a much-a...</td>\n",
              "    </tr>\n",
              "  </tbody>\n",
              "</table>\n",
              "</div>\n",
              "    <div class=\"colab-df-buttons\">\n",
              "\n",
              "  <div class=\"colab-df-container\">\n",
              "    <button class=\"colab-df-convert\" onclick=\"convertToInteractive('df-3108e6e5-7973-49f4-9963-0ac70faf812c')\"\n",
              "            title=\"Convert this dataframe to an interactive table.\"\n",
              "            style=\"display:none;\">\n",
              "\n",
              "  <svg xmlns=\"http://www.w3.org/2000/svg\" height=\"24px\" viewBox=\"0 -960 960 960\">\n",
              "    <path d=\"M120-120v-720h720v720H120Zm60-500h600v-160H180v160Zm220 220h160v-160H400v160Zm0 220h160v-160H400v160ZM180-400h160v-160H180v160Zm440 0h160v-160H620v160ZM180-180h160v-160H180v160Zm440 0h160v-160H620v160Z\"/>\n",
              "  </svg>\n",
              "    </button>\n",
              "\n",
              "  <style>\n",
              "    .colab-df-container {\n",
              "      display:flex;\n",
              "      gap: 12px;\n",
              "    }\n",
              "\n",
              "    .colab-df-convert {\n",
              "      background-color: #E8F0FE;\n",
              "      border: none;\n",
              "      border-radius: 50%;\n",
              "      cursor: pointer;\n",
              "      display: none;\n",
              "      fill: #1967D2;\n",
              "      height: 32px;\n",
              "      padding: 0 0 0 0;\n",
              "      width: 32px;\n",
              "    }\n",
              "\n",
              "    .colab-df-convert:hover {\n",
              "      background-color: #E2EBFA;\n",
              "      box-shadow: 0px 1px 2px rgba(60, 64, 67, 0.3), 0px 1px 3px 1px rgba(60, 64, 67, 0.15);\n",
              "      fill: #174EA6;\n",
              "    }\n",
              "\n",
              "    .colab-df-buttons div {\n",
              "      margin-bottom: 4px;\n",
              "    }\n",
              "\n",
              "    [theme=dark] .colab-df-convert {\n",
              "      background-color: #3B4455;\n",
              "      fill: #D2E3FC;\n",
              "    }\n",
              "\n",
              "    [theme=dark] .colab-df-convert:hover {\n",
              "      background-color: #434B5C;\n",
              "      box-shadow: 0px 1px 3px 1px rgba(0, 0, 0, 0.15);\n",
              "      filter: drop-shadow(0px 1px 2px rgba(0, 0, 0, 0.3));\n",
              "      fill: #FFFFFF;\n",
              "    }\n",
              "  </style>\n",
              "\n",
              "    <script>\n",
              "      const buttonEl =\n",
              "        document.querySelector('#df-3108e6e5-7973-49f4-9963-0ac70faf812c button.colab-df-convert');\n",
              "      buttonEl.style.display =\n",
              "        google.colab.kernel.accessAllowed ? 'block' : 'none';\n",
              "\n",
              "      async function convertToInteractive(key) {\n",
              "        const element = document.querySelector('#df-3108e6e5-7973-49f4-9963-0ac70faf812c');\n",
              "        const dataTable =\n",
              "          await google.colab.kernel.invokeFunction('convertToInteractive',\n",
              "                                                    [key], {});\n",
              "        if (!dataTable) return;\n",
              "\n",
              "        const docLinkHtml = 'Like what you see? Visit the ' +\n",
              "          '<a target=\"_blank\" href=https://colab.research.google.com/notebooks/data_table.ipynb>data table notebook</a>'\n",
              "          + ' to learn more about interactive tables.';\n",
              "        element.innerHTML = '';\n",
              "        dataTable['output_type'] = 'display_data';\n",
              "        await google.colab.output.renderOutput(dataTable, element);\n",
              "        const docLink = document.createElement('div');\n",
              "        docLink.innerHTML = docLinkHtml;\n",
              "        element.appendChild(docLink);\n",
              "      }\n",
              "    </script>\n",
              "  </div>\n",
              "\n",
              "\n",
              "<div id=\"df-c4d257aa-701c-473e-94d0-d46612d280a8\">\n",
              "  <button class=\"colab-df-quickchart\" onclick=\"quickchart('df-c4d257aa-701c-473e-94d0-d46612d280a8')\"\n",
              "            title=\"Suggest charts\"\n",
              "            style=\"display:none;\">\n",
              "\n",
              "<svg xmlns=\"http://www.w3.org/2000/svg\" height=\"24px\"viewBox=\"0 0 24 24\"\n",
              "     width=\"24px\">\n",
              "    <g>\n",
              "        <path d=\"M19 3H5c-1.1 0-2 .9-2 2v14c0 1.1.9 2 2 2h14c1.1 0 2-.9 2-2V5c0-1.1-.9-2-2-2zM9 17H7v-7h2v7zm4 0h-2V7h2v10zm4 0h-2v-4h2v4z\"/>\n",
              "    </g>\n",
              "</svg>\n",
              "  </button>\n",
              "\n",
              "<style>\n",
              "  .colab-df-quickchart {\n",
              "      --bg-color: #E8F0FE;\n",
              "      --fill-color: #1967D2;\n",
              "      --hover-bg-color: #E2EBFA;\n",
              "      --hover-fill-color: #174EA6;\n",
              "      --disabled-fill-color: #AAA;\n",
              "      --disabled-bg-color: #DDD;\n",
              "  }\n",
              "\n",
              "  [theme=dark] .colab-df-quickchart {\n",
              "      --bg-color: #3B4455;\n",
              "      --fill-color: #D2E3FC;\n",
              "      --hover-bg-color: #434B5C;\n",
              "      --hover-fill-color: #FFFFFF;\n",
              "      --disabled-bg-color: #3B4455;\n",
              "      --disabled-fill-color: #666;\n",
              "  }\n",
              "\n",
              "  .colab-df-quickchart {\n",
              "    background-color: var(--bg-color);\n",
              "    border: none;\n",
              "    border-radius: 50%;\n",
              "    cursor: pointer;\n",
              "    display: none;\n",
              "    fill: var(--fill-color);\n",
              "    height: 32px;\n",
              "    padding: 0;\n",
              "    width: 32px;\n",
              "  }\n",
              "\n",
              "  .colab-df-quickchart:hover {\n",
              "    background-color: var(--hover-bg-color);\n",
              "    box-shadow: 0 1px 2px rgba(60, 64, 67, 0.3), 0 1px 3px 1px rgba(60, 64, 67, 0.15);\n",
              "    fill: var(--button-hover-fill-color);\n",
              "  }\n",
              "\n",
              "  .colab-df-quickchart-complete:disabled,\n",
              "  .colab-df-quickchart-complete:disabled:hover {\n",
              "    background-color: var(--disabled-bg-color);\n",
              "    fill: var(--disabled-fill-color);\n",
              "    box-shadow: none;\n",
              "  }\n",
              "\n",
              "  .colab-df-spinner {\n",
              "    border: 2px solid var(--fill-color);\n",
              "    border-color: transparent;\n",
              "    border-bottom-color: var(--fill-color);\n",
              "    animation:\n",
              "      spin 1s steps(1) infinite;\n",
              "  }\n",
              "\n",
              "  @keyframes spin {\n",
              "    0% {\n",
              "      border-color: transparent;\n",
              "      border-bottom-color: var(--fill-color);\n",
              "      border-left-color: var(--fill-color);\n",
              "    }\n",
              "    20% {\n",
              "      border-color: transparent;\n",
              "      border-left-color: var(--fill-color);\n",
              "      border-top-color: var(--fill-color);\n",
              "    }\n",
              "    30% {\n",
              "      border-color: transparent;\n",
              "      border-left-color: var(--fill-color);\n",
              "      border-top-color: var(--fill-color);\n",
              "      border-right-color: var(--fill-color);\n",
              "    }\n",
              "    40% {\n",
              "      border-color: transparent;\n",
              "      border-right-color: var(--fill-color);\n",
              "      border-top-color: var(--fill-color);\n",
              "    }\n",
              "    60% {\n",
              "      border-color: transparent;\n",
              "      border-right-color: var(--fill-color);\n",
              "    }\n",
              "    80% {\n",
              "      border-color: transparent;\n",
              "      border-right-color: var(--fill-color);\n",
              "      border-bottom-color: var(--fill-color);\n",
              "    }\n",
              "    90% {\n",
              "      border-color: transparent;\n",
              "      border-bottom-color: var(--fill-color);\n",
              "    }\n",
              "  }\n",
              "</style>\n",
              "\n",
              "  <script>\n",
              "    async function quickchart(key) {\n",
              "      const quickchartButtonEl =\n",
              "        document.querySelector('#' + key + ' button');\n",
              "      quickchartButtonEl.disabled = true;  // To prevent multiple clicks.\n",
              "      quickchartButtonEl.classList.add('colab-df-spinner');\n",
              "      try {\n",
              "        const charts = await google.colab.kernel.invokeFunction(\n",
              "            'suggestCharts', [key], {});\n",
              "      } catch (error) {\n",
              "        console.error('Error during call to suggestCharts:', error);\n",
              "      }\n",
              "      quickchartButtonEl.classList.remove('colab-df-spinner');\n",
              "      quickchartButtonEl.classList.add('colab-df-quickchart-complete');\n",
              "    }\n",
              "    (() => {\n",
              "      let quickchartButtonEl =\n",
              "        document.querySelector('#df-c4d257aa-701c-473e-94d0-d46612d280a8 button');\n",
              "      quickchartButtonEl.style.display =\n",
              "        google.colab.kernel.accessAllowed ? 'block' : 'none';\n",
              "    })();\n",
              "  </script>\n",
              "</div>\n",
              "\n",
              "    </div>\n",
              "  </div>\n"
            ],
            "application/vnd.google.colaboratory.intrinsic+json": {
              "type": "dataframe",
              "summary": "{\n  \"name\": \"print (f\\\"Contents of file movies:\\\\n {display(movies\",\n  \"rows\": 5,\n  \"fields\": [\n    {\n      \"column\": \"movie_id\",\n      \"properties\": {\n        \"dtype\": \"string\",\n        \"num_unique_values\": 5,\n        \"samples\": [\n          \"tt1204975\",\n          \"tt0126886\",\n          \"tt0243655\"\n        ],\n        \"semantic_type\": \"\",\n        \"description\": \"\"\n      }\n    },\n    {\n      \"column\": \"plot_summary\",\n      \"properties\": {\n        \"dtype\": \"string\",\n        \"num_unique_values\": 5,\n        \"samples\": [\n          \"Billy (Michael Douglas), Paddy (Robert De Niro), Archie (Morgan Freeman) and Sam (Kevin Kline) have been best friends since childhood. So when Billy, the group's sworn bachelor, finally proposes to his thirty-something (of course) girlfriend, the four head to Las Vegas with a plan to stop acting their age and relive their glory days. However, upon arriving, the four quickly realize that the decades have transformed Sin City and tested their friendship in ways they never imagined. The Rat Pack may have once played the Sands and Cirque du Soleil may now rule the Strip, but it's these four who are taking over Vegas.                Written by\\nProduction\",\n          \"Tracy Flick is running unopposed for this year's high school student election. But school civics teacher Jim McAllister has a different plan. Partly to establish a more democratic election, and partly to satisfy some deep personal anger toward Tracy, Jim talks popular varsity football player Paul Metzler to run for president as well. Chaos ensues.                Written by\\nR. P. Falvey <falvey@scf.usc.edu>\",\n          \"The setting is Camp Firewood, the year 1981. It's the last day before everyone goes back to the real world, but there's still a summer's worth of unfinished business to resolve. At the center of the action is camp director Beth, who struggles to keep order while she falls in love with the local astrophysics professor. He is busy trying to save the camp from a deadly piece of NASA's Skylab which is hurtling toward earth. All that, plus: a dangerous waterfall rescue, love triangles, misfits, cool kids, and talking vegetable cans. The questions will all be resolved, of course, at the big talent show at the end of the day.                Written by\\nSujit R. Varma\"\n        ],\n        \"semantic_type\": \"\",\n        \"description\": \"\"\n      }\n    },\n    {\n      \"column\": \"duration\",\n      \"properties\": {\n        \"dtype\": \"string\",\n        \"num_unique_values\": 5,\n        \"samples\": [\n          \"1h 45min\",\n          \"1h 43min\",\n          \"1h 37min\"\n        ],\n        \"semantic_type\": \"\",\n        \"description\": \"\"\n      }\n    },\n    {\n      \"column\": \"genre\",\n      \"properties\": {\n        \"dtype\": \"object\",\n        \"semantic_type\": \"\",\n        \"description\": \"\"\n      }\n    },\n    {\n      \"column\": \"rating\",\n      \"properties\": {\n        \"dtype\": \"number\",\n        \"std\": 0.6913754406977445,\n        \"min\": 6.6,\n        \"max\": 8.3,\n        \"num_unique_values\": 5,\n        \"samples\": [\n          6.6,\n          7.3,\n          6.7\n        ],\n        \"semantic_type\": \"\",\n        \"description\": \"\"\n      }\n    },\n    {\n      \"column\": \"release_date\",\n      \"properties\": {\n        \"dtype\": \"object\",\n        \"num_unique_values\": 5,\n        \"samples\": [\n          \"2013-11-01\",\n          \"1999-05-07\",\n          \"2002-04-11\"\n        ],\n        \"semantic_type\": \"\",\n        \"description\": \"\"\n      }\n    },\n    {\n      \"column\": \"plot_synopsis\",\n      \"properties\": {\n        \"dtype\": \"string\",\n        \"num_unique_values\": 5,\n        \"samples\": [\n          \"Four boys around the age of 10 are friends in Brooklyn during the '50s. They have a nickname, the Flatbush Four, and also pal around with a girl. One day they get into a scuffle at a store with a young thug, and steal a bottle of scotch as they run away.58 years later: Sam has retired with his wife to Naples, FL; Archie is living with his son in New Jersey; Paddy lives alone in Brooklyn after his wife Sophie died a year earlier; Billy is wealthy and living in Malibu, CA with a young woman named Lisa.Billy goes to the funeral for his friend Ronnie, and in the process of eulogizing him, while commenting on the shortness of life and love, he spontaneously proposes to Lisa.Billy conference calls Sam and Archie to tell them he is getting married that weekend in Las Vegas, and they not only want to come to the wedding, they want to throw him a bachelor party the night before. All three of them dread calling Paddy though.Sam's wife sends him off to Vegas with a condom, telling him he can do what he likes to get some life back in him. Sam goes to New Jersey and picks up Archie, and they both go to see Paddy, but he is reluctant to go with them to Vegas. He begins complaining about their old friend Billy, and continues to ruminate about him for the whole trip.When the three friends get to the Vegas airport, Paddy is unhappy when Billy meets them there, still upset about something in their recent past.They go to Binion's casino downtown, but soon learn that the hotel portion is closed. They hear a singer in the lounge named Diana and they invite her to have a drink with them. Paddy explains that the reason they have been arguing is that Billy did not come to the funeral for his wife Sophie a year ago.They invite Diana to walk down the Strip with them to the Aria, where Billy is planning his wedding service.Sam chats up a woman at the Aria bar who turns out to be a drag queen. Billy goes to survey the hotel chapel with Diana. Paddy watches Archie win $87,000 on a blackjack table. All four of them are invited to judge a bikini contest at the pool.The Aria management approaches Archie and invites him to stay in a luxury suite with his friends because he won so much. The men like the swank penthouse, but Paddy is still bitter toward Billy and refuses to go with them to the hotel's nightclub.The other three go to the nightclub, where they pay an outrageous fee to get a VIP table. They drink well, chat up some young women, and almost get into a fight with a young thug, whom Paddy shows up to beat down.The next morning, Paddy visits Diana at Binion's, and takes her on a walk to tell her more about his life after his wife died. He clearly feels sweet toward her.Paddy finds Billy back at the Aria and asks him if he really loves Lisa, pointing out that he is 69 and Lisa is 31, and he does not seem to really love her. Before they can finish talking, Sam and Archie come by, and a hotel agent brings the thug from the night before to apologize to them.Billy goes to visit Diana at Binion's, and explains that when the guys were 17, Sophie loved him and Paddy both. Because he could tell Paddy was better for her, he told her to choose Paddy. Now he clearly feels sweet toward Diana.After much local advertising, the guys throw a huge party in their suite, with beaucoup dancing and drinking. Archie is surprised when his son shows up out of concern about him, but Archie explains that he is finally having some fun. Sam gets a girl to go to a bedroom with him, ready to have sex, but then tells her he can't do it because he's thinking of his wife. Curtis \\\"50 Cent\\\" Jackson shows up but he can't get in.Billy realizes that Paddy has invited Diana to the party, and Paddy realizes that Billy is attracted to her as well. When she shows up, Billy bumps Paddy into a small pool and takes Diana to a room. As Diana begins to protest that Billy wants to push Paddy on her just like he did with Sophie when they were teens, Paddy overhears and becomes quite upset.The next morning by the hotel pool, Paddy tells Billy that he can tell he does not really love Lisa and should not marry her. Just then Lisa shows up for the wedding, but Paddy pushes Billy into the pool and approaches Lisa to say he is simply returning the favor of making sure Billy ends up with the right woman.Billy and Lisa evidently break up as the other guys watch from a distance.Back in the hotel suite, Billy gets upset in front of the other guys, confessing he is scared of being old, and his life is \\\"winding up a little too fast.\\\" He apologizes to Paddy for not coming to Sophie's funeral. They all affirm their friendship, and Paddy tells Billy he should go see Diana.Billy goes to Binion's lounge and slowly takes Diana in an embrace. Good kiss.As they are preparing to leave the suite, the four friends open the bottle of scotch they had stolen 58 years earlier, and make a toast. Alas, the scotch has not aged as well as they have.The four friends separate at the airport, and wonder about what they could do the next year to get together for fun.58 days later: Billy calls his three friends from Malibu to tell them he's getting married to Diana. Paddy is happy for him, but has to get going to a concert with a neighbor lady. Archie is happy too, but is tending to his grandson. Sam can't quite answer the phone, because he's been in bed making love with his wife.\",\n          \"Jim McAllister (Matthew Broderick) is a much-admired high school history teacher living in the suburbs of Omaha, Nebraska, who is actively involved in many after-school activities, one of which is overseeing the student government election process.Tracy Flick (Reese Witherspoon) is an overachieving junior with an insufferable air of self-importance. She lives with her bitter and divorced mother who encourages her to \\\"to whatever it takes\\\" to succeed in life. Earlier in the year, another teacher, Jim's best friend Dave Novotny (Mark Harelik) was fired from his job and divorced by his wife, Linda (Delaney Driscoll) after it came out that he and Tracy were having a sexual affair, while Tracy's reputation was unscathed.Against this backdrop, Tracy announces that she is running for student council president. Initially she is unopposed, as she is widely seen as the natural candidate for the job. When Tracy presents Mr. McAllister with her list of nominating signatures to qualify for the election ballot, she makes a remark about \\\"working closely\\\" together... which he interprets as an indication she may later try to seduce him as she did with Dave. Perhaps annoyed by Tracy's presumptuousness, and/or concerned that he might give in to this seduction and share the same fate as his friend Dave, Mr. McAllister decides to persuade junior Paul Metzler (Chris Klein), a slow-witted, but affable and popular football player to enter the race. Paul is unable to play football as he is recovering from a ski injury that resulted in his left leg being broken, and Mr. McAllister suggests a new way to explore his talents through student council. Although Paul is ambivalent at first, he agrees to run, much to Tracy's consternation.Meanwhile, Paul's adopted younger sister Tammy (Jessica Campbell) is rejected by her romantic interest Lisa (Frankie Ingrassia), who dismisses their time together as \\\"experimenting.\\\" Lisa then engages in a passionate relationship with Paul. In retaliation, Tammy decides to run for school president as well. During a school assembly to hear the candidate's speeches, after Tracy only draws polite applause and Paul is barely able to read his speech, Tammy announces that the office of school president is useless and promises nothing, except to try and dissolve student government. The speech rallies the students to a standing ovation, but her subversive diatribe results in her getting a suspension from school.While working on another project after school, Tracy has an uncharacteristic fit of rage and destroys all of Paul's campaign posters. She then drives to a local power plant to dispose of the shredded posters in a nearby dumpster. Unbeknownst to Tracy, her attempted cover-up is witnessed by Tammy who was meditating near her favorite spot, an electric substation. The next day, when Mr. McAllister confronts Tracy about the missing posters and lectures her that \\\"all of our actions can carry serious consequences,\\\" Tracy adamantly claims innocence, despite his insistence that all evidence points to her as the chief suspect. At that moment, Tammy knocks on the door and tells Mr. MacAllister she knows who tore down the posters. Tracy is asked to wait outside the room while Tammy speaks to Mr. McAllister. Tracy experiences a moment of sheer panic when she peers in the window only to see Tammy revealing the shredded posters. What Tracy can't hear is that Tammy is falsely confessing to a skeptical Mr. McAllister that it is she, not Tracy, who perpetrated the poster sabotage. As a result, Tammy is disqualified from the election and expelled from school. Tracy is now off the hook. But this clearly does not sit well with Jim, who still suspects Tracy is the guilty party. Meanwhile, Tammy's punishment of being sent to an all-girls Catholic school secretly pleases her and is the reason she took the blame for the vandalism.The day before the election, Linda Novotny asks Jim to come over to help unclog her bathtub drain. After Jim completes the job, Linda unexpectedly initiates a sexual liaison with him and then suggests that he book a motel room for them to continue their dalliance later that day, a proposition Jim himself had half-jokingly made to Linda shortly after her breakup with Dave. However, Linda apparently has a change of heart and is nowhere to be found when Jim arrives at her house to pick her up for their tryst. Not knowing where Linda could be, Jim walks into her backyard where he has the misfortune of being stung by a bee on his right eyelid, causing a terribly painful and unsightly allergic reaction. He then drives back to the motel and desperately tries to reach Linda by phone, but to no avail. Jim eventually returns to his own house later that evening only to find Linda and his wife (Molly Hagan) huddled together crying in the living room. Realizing that Linda has disclosed the infidelity to his wife and that he is no longer welcome at home, Jim spends a miserable night sleeping in his car outside Linda's house.The next day election day Jim oversees the counting of the ballots, though by now his right eyelid is grotesquely swollen and almost completely shut as a result of the bee sting. Paul had voted for Tracy, feeling that it would be arrogant to vote for himself. But this turns out to be a costly decision. The ballots are meticulously counted by a duo of student auditors, who determine that Tracy has prevailed by a single vote. It is then up to Jim to perform a final ballot count to certify the outcome. When Jim happens to spot Tracy dancing excitedly in the hall, he deduces that she may have been tipped off about the vote count. Angered by Tracy's unseemly display of glee and her dirty-tricks campaign tactics, Jim decides to take matters into his own hands by surreptitiously disposing of two of Tracy's ballots and declaring Paul the official victor. This turnabout elicits incredulity and shock from the two student auditors, who are certain that their original vote count was accurate. Tracy is shocked and despondent upon hearing the unexpected news of her defeat. Jim goes to the same motel he intended to commit adultery in, only this time to actually use it for lodging.The next morning, Jim wakes up and is confident of patching things up with his wife now that the election is behind him. However, the school janitor, to whom Jim had been unknowingly rude earlier by creating unneeded extra work for him, discovers the two discarded ballots in the trash and presents them to the principal. When Jim is confronted with the evidence of his fraudulent intervention, he admits everything and resigns from his job. The rigged election becomes a nationwide email trope, and as a result Jim's wife fails to forgive him.Divorced, publicly humiliated and ostracized by everyone he knows for this one half-hearted attempt to thwart Tracy's evil schemes to win the election, Jim leaves Nebraska forever, choosing to fulfill his longtime dream of moving to New York City, where he becomes a tour guide at the American Museum of Natural History and begins a quiet relationship with a new woman.After serving her senior year as the new hard-line and strict dictator-like class president, Tracy graduates at the top of her class and gets accepted into Georgetown University in Washington D.C., with a full scholarship and a desire to go into politics as both her major and future career, but she soon finds the experience disappointing. Despite having gotten everything she ever wanted in life, Tracy still has no friends, no social life, and cannot fit in anywhere at the university as most outgoing students there have slid-on-by connections. Tracy comes to accept the fact that it is indeed lonely being at the top of everything.Despite losing the student body president election, Paul enjoys a mostly happy-go-lucky senior year highlighted by being elected homecoming king and prom king, though he ends up getting dumped by his girlfriend, Lisa. After graduation, Paul gets into the University of Nebraska with a scholarship of his own where he joins a popular fraternity, makes many new friends, and resumes his career at playing football for the university.The misanthropic Tammy becomes romantically involved with a fellow student at the all-girls Catholic school that her parents made her enroll, and later runs away with her for places unknown.Jim's friend, Dave, moves to Milwaukee, Wisconsin and takes a low-paying job stocking shelves at a local supermarket.As the film draws to a close, the film skips forward seven years after Jim's dismissal from Nebraska where Jim recalls a final encounter he had with Tracy. On one cold winter day, Jim is at a conference in Washington D.C. and while walking the streets, he sees Tracy from a distance as she enters a limousine outside a fancy hotel with a congressman (revealed to be Mike Geiger, a Republican representative from Nebraska) whom she appears to work for as a member of his congressional staff. Suddenly enraged at the thought of Tracy, yet again, lying, cheating, seducing and manipulating her way into political success for her own selfish reasons, Jim hurls a soda cup at the limousine, and then makes a quick getaway.The film ends with Jim safely back in New York City at his tour guide job posing questions to a group of young elementary school children who are visiting the museum, deliberately ignoring the raised hand of an overeager little blonde-haired girl who reminds him of the ruthless and insufferable overachiever Tracy Flick.\",\n          \"\"\n        ],\n        \"semantic_type\": \"\",\n        \"description\": \"\"\n      }\n    }\n  ]\n}"
            }
          },
          "metadata": {}
        },
        {
          "output_type": "stream",
          "name": "stdout",
          "text": [
            "Contents of file movies:\n",
            " None\n"
          ]
        }
      ],
      "source": [
        "print (f\"Contents of file movies:\\n {display(movies.head())}\")"
      ]
    },
    {
      "cell_type": "code",
      "execution_count": null,
      "metadata": {
        "id": "aJSwWeqyUEfo",
        "colab": {
          "base_uri": "https://localhost:8080/",
          "height": 241
        },
        "outputId": "f7371092-23d3-46a1-8c27-5cb1af7d2139"
      },
      "outputs": [
        {
          "output_type": "stream",
          "name": "stdout",
          "text": [
            "Contents of file movie reviews:\n",
            "\n"
          ]
        },
        {
          "output_type": "display_data",
          "data": {
            "text/plain": [
              "        review_date   movie_id    user_id  is_spoiler  \\\n",
              "0  10 February 2006  tt0111161  ur1898687        True   \n",
              "1  6 September 2000  tt0111161  ur0842118        True   \n",
              "2     3 August 2001  tt0111161  ur1285640        True   \n",
              "3  1 September 2002  tt0111161  ur1003471        True   \n",
              "4       20 May 2004  tt0111161  ur0226855        True   \n",
              "\n",
              "                                         review_text  rating  \\\n",
              "0  In its Oscar year, Shawshank Redemption (writt...      10   \n",
              "1  The Shawshank Redemption is without a doubt on...      10   \n",
              "2  I believe that this film is the best story eve...       8   \n",
              "3  **Yes, there are SPOILERS here**This film has ...      10   \n",
              "4  At the heart of this extraordinary movie is a ...       8   \n",
              "\n",
              "                                  review_summary  \n",
              "0  A classic piece of unforgettable film-making.  \n",
              "1     Simply amazing. The best film of the 90's.  \n",
              "2               The best story ever told on film  \n",
              "3                     Busy dying or busy living?  \n",
              "4         Great story, wondrously told and acted  "
            ],
            "text/html": [
              "\n",
              "  <div id=\"df-7ba7ba1d-e644-4869-b3a6-ccf28b3d4ac4\" class=\"colab-df-container\">\n",
              "    <div>\n",
              "<style scoped>\n",
              "    .dataframe tbody tr th:only-of-type {\n",
              "        vertical-align: middle;\n",
              "    }\n",
              "\n",
              "    .dataframe tbody tr th {\n",
              "        vertical-align: top;\n",
              "    }\n",
              "\n",
              "    .dataframe thead th {\n",
              "        text-align: right;\n",
              "    }\n",
              "</style>\n",
              "<table border=\"1\" class=\"dataframe\">\n",
              "  <thead>\n",
              "    <tr style=\"text-align: right;\">\n",
              "      <th></th>\n",
              "      <th>review_date</th>\n",
              "      <th>movie_id</th>\n",
              "      <th>user_id</th>\n",
              "      <th>is_spoiler</th>\n",
              "      <th>review_text</th>\n",
              "      <th>rating</th>\n",
              "      <th>review_summary</th>\n",
              "    </tr>\n",
              "  </thead>\n",
              "  <tbody>\n",
              "    <tr>\n",
              "      <th>0</th>\n",
              "      <td>10 February 2006</td>\n",
              "      <td>tt0111161</td>\n",
              "      <td>ur1898687</td>\n",
              "      <td>True</td>\n",
              "      <td>In its Oscar year, Shawshank Redemption (writt...</td>\n",
              "      <td>10</td>\n",
              "      <td>A classic piece of unforgettable film-making.</td>\n",
              "    </tr>\n",
              "    <tr>\n",
              "      <th>1</th>\n",
              "      <td>6 September 2000</td>\n",
              "      <td>tt0111161</td>\n",
              "      <td>ur0842118</td>\n",
              "      <td>True</td>\n",
              "      <td>The Shawshank Redemption is without a doubt on...</td>\n",
              "      <td>10</td>\n",
              "      <td>Simply amazing. The best film of the 90's.</td>\n",
              "    </tr>\n",
              "    <tr>\n",
              "      <th>2</th>\n",
              "      <td>3 August 2001</td>\n",
              "      <td>tt0111161</td>\n",
              "      <td>ur1285640</td>\n",
              "      <td>True</td>\n",
              "      <td>I believe that this film is the best story eve...</td>\n",
              "      <td>8</td>\n",
              "      <td>The best story ever told on film</td>\n",
              "    </tr>\n",
              "    <tr>\n",
              "      <th>3</th>\n",
              "      <td>1 September 2002</td>\n",
              "      <td>tt0111161</td>\n",
              "      <td>ur1003471</td>\n",
              "      <td>True</td>\n",
              "      <td>**Yes, there are SPOILERS here**This film has ...</td>\n",
              "      <td>10</td>\n",
              "      <td>Busy dying or busy living?</td>\n",
              "    </tr>\n",
              "    <tr>\n",
              "      <th>4</th>\n",
              "      <td>20 May 2004</td>\n",
              "      <td>tt0111161</td>\n",
              "      <td>ur0226855</td>\n",
              "      <td>True</td>\n",
              "      <td>At the heart of this extraordinary movie is a ...</td>\n",
              "      <td>8</td>\n",
              "      <td>Great story, wondrously told and acted</td>\n",
              "    </tr>\n",
              "  </tbody>\n",
              "</table>\n",
              "</div>\n",
              "    <div class=\"colab-df-buttons\">\n",
              "\n",
              "  <div class=\"colab-df-container\">\n",
              "    <button class=\"colab-df-convert\" onclick=\"convertToInteractive('df-7ba7ba1d-e644-4869-b3a6-ccf28b3d4ac4')\"\n",
              "            title=\"Convert this dataframe to an interactive table.\"\n",
              "            style=\"display:none;\">\n",
              "\n",
              "  <svg xmlns=\"http://www.w3.org/2000/svg\" height=\"24px\" viewBox=\"0 -960 960 960\">\n",
              "    <path d=\"M120-120v-720h720v720H120Zm60-500h600v-160H180v160Zm220 220h160v-160H400v160Zm0 220h160v-160H400v160ZM180-400h160v-160H180v160Zm440 0h160v-160H620v160ZM180-180h160v-160H180v160Zm440 0h160v-160H620v160Z\"/>\n",
              "  </svg>\n",
              "    </button>\n",
              "\n",
              "  <style>\n",
              "    .colab-df-container {\n",
              "      display:flex;\n",
              "      gap: 12px;\n",
              "    }\n",
              "\n",
              "    .colab-df-convert {\n",
              "      background-color: #E8F0FE;\n",
              "      border: none;\n",
              "      border-radius: 50%;\n",
              "      cursor: pointer;\n",
              "      display: none;\n",
              "      fill: #1967D2;\n",
              "      height: 32px;\n",
              "      padding: 0 0 0 0;\n",
              "      width: 32px;\n",
              "    }\n",
              "\n",
              "    .colab-df-convert:hover {\n",
              "      background-color: #E2EBFA;\n",
              "      box-shadow: 0px 1px 2px rgba(60, 64, 67, 0.3), 0px 1px 3px 1px rgba(60, 64, 67, 0.15);\n",
              "      fill: #174EA6;\n",
              "    }\n",
              "\n",
              "    .colab-df-buttons div {\n",
              "      margin-bottom: 4px;\n",
              "    }\n",
              "\n",
              "    [theme=dark] .colab-df-convert {\n",
              "      background-color: #3B4455;\n",
              "      fill: #D2E3FC;\n",
              "    }\n",
              "\n",
              "    [theme=dark] .colab-df-convert:hover {\n",
              "      background-color: #434B5C;\n",
              "      box-shadow: 0px 1px 3px 1px rgba(0, 0, 0, 0.15);\n",
              "      filter: drop-shadow(0px 1px 2px rgba(0, 0, 0, 0.3));\n",
              "      fill: #FFFFFF;\n",
              "    }\n",
              "  </style>\n",
              "\n",
              "    <script>\n",
              "      const buttonEl =\n",
              "        document.querySelector('#df-7ba7ba1d-e644-4869-b3a6-ccf28b3d4ac4 button.colab-df-convert');\n",
              "      buttonEl.style.display =\n",
              "        google.colab.kernel.accessAllowed ? 'block' : 'none';\n",
              "\n",
              "      async function convertToInteractive(key) {\n",
              "        const element = document.querySelector('#df-7ba7ba1d-e644-4869-b3a6-ccf28b3d4ac4');\n",
              "        const dataTable =\n",
              "          await google.colab.kernel.invokeFunction('convertToInteractive',\n",
              "                                                    [key], {});\n",
              "        if (!dataTable) return;\n",
              "\n",
              "        const docLinkHtml = 'Like what you see? Visit the ' +\n",
              "          '<a target=\"_blank\" href=https://colab.research.google.com/notebooks/data_table.ipynb>data table notebook</a>'\n",
              "          + ' to learn more about interactive tables.';\n",
              "        element.innerHTML = '';\n",
              "        dataTable['output_type'] = 'display_data';\n",
              "        await google.colab.output.renderOutput(dataTable, element);\n",
              "        const docLink = document.createElement('div');\n",
              "        docLink.innerHTML = docLinkHtml;\n",
              "        element.appendChild(docLink);\n",
              "      }\n",
              "    </script>\n",
              "  </div>\n",
              "\n",
              "\n",
              "<div id=\"df-d7d625b1-f0c1-4e40-9678-b9f1cffde2f2\">\n",
              "  <button class=\"colab-df-quickchart\" onclick=\"quickchart('df-d7d625b1-f0c1-4e40-9678-b9f1cffde2f2')\"\n",
              "            title=\"Suggest charts\"\n",
              "            style=\"display:none;\">\n",
              "\n",
              "<svg xmlns=\"http://www.w3.org/2000/svg\" height=\"24px\"viewBox=\"0 0 24 24\"\n",
              "     width=\"24px\">\n",
              "    <g>\n",
              "        <path d=\"M19 3H5c-1.1 0-2 .9-2 2v14c0 1.1.9 2 2 2h14c1.1 0 2-.9 2-2V5c0-1.1-.9-2-2-2zM9 17H7v-7h2v7zm4 0h-2V7h2v10zm4 0h-2v-4h2v4z\"/>\n",
              "    </g>\n",
              "</svg>\n",
              "  </button>\n",
              "\n",
              "<style>\n",
              "  .colab-df-quickchart {\n",
              "      --bg-color: #E8F0FE;\n",
              "      --fill-color: #1967D2;\n",
              "      --hover-bg-color: #E2EBFA;\n",
              "      --hover-fill-color: #174EA6;\n",
              "      --disabled-fill-color: #AAA;\n",
              "      --disabled-bg-color: #DDD;\n",
              "  }\n",
              "\n",
              "  [theme=dark] .colab-df-quickchart {\n",
              "      --bg-color: #3B4455;\n",
              "      --fill-color: #D2E3FC;\n",
              "      --hover-bg-color: #434B5C;\n",
              "      --hover-fill-color: #FFFFFF;\n",
              "      --disabled-bg-color: #3B4455;\n",
              "      --disabled-fill-color: #666;\n",
              "  }\n",
              "\n",
              "  .colab-df-quickchart {\n",
              "    background-color: var(--bg-color);\n",
              "    border: none;\n",
              "    border-radius: 50%;\n",
              "    cursor: pointer;\n",
              "    display: none;\n",
              "    fill: var(--fill-color);\n",
              "    height: 32px;\n",
              "    padding: 0;\n",
              "    width: 32px;\n",
              "  }\n",
              "\n",
              "  .colab-df-quickchart:hover {\n",
              "    background-color: var(--hover-bg-color);\n",
              "    box-shadow: 0 1px 2px rgba(60, 64, 67, 0.3), 0 1px 3px 1px rgba(60, 64, 67, 0.15);\n",
              "    fill: var(--button-hover-fill-color);\n",
              "  }\n",
              "\n",
              "  .colab-df-quickchart-complete:disabled,\n",
              "  .colab-df-quickchart-complete:disabled:hover {\n",
              "    background-color: var(--disabled-bg-color);\n",
              "    fill: var(--disabled-fill-color);\n",
              "    box-shadow: none;\n",
              "  }\n",
              "\n",
              "  .colab-df-spinner {\n",
              "    border: 2px solid var(--fill-color);\n",
              "    border-color: transparent;\n",
              "    border-bottom-color: var(--fill-color);\n",
              "    animation:\n",
              "      spin 1s steps(1) infinite;\n",
              "  }\n",
              "\n",
              "  @keyframes spin {\n",
              "    0% {\n",
              "      border-color: transparent;\n",
              "      border-bottom-color: var(--fill-color);\n",
              "      border-left-color: var(--fill-color);\n",
              "    }\n",
              "    20% {\n",
              "      border-color: transparent;\n",
              "      border-left-color: var(--fill-color);\n",
              "      border-top-color: var(--fill-color);\n",
              "    }\n",
              "    30% {\n",
              "      border-color: transparent;\n",
              "      border-left-color: var(--fill-color);\n",
              "      border-top-color: var(--fill-color);\n",
              "      border-right-color: var(--fill-color);\n",
              "    }\n",
              "    40% {\n",
              "      border-color: transparent;\n",
              "      border-right-color: var(--fill-color);\n",
              "      border-top-color: var(--fill-color);\n",
              "    }\n",
              "    60% {\n",
              "      border-color: transparent;\n",
              "      border-right-color: var(--fill-color);\n",
              "    }\n",
              "    80% {\n",
              "      border-color: transparent;\n",
              "      border-right-color: var(--fill-color);\n",
              "      border-bottom-color: var(--fill-color);\n",
              "    }\n",
              "    90% {\n",
              "      border-color: transparent;\n",
              "      border-bottom-color: var(--fill-color);\n",
              "    }\n",
              "  }\n",
              "</style>\n",
              "\n",
              "  <script>\n",
              "    async function quickchart(key) {\n",
              "      const quickchartButtonEl =\n",
              "        document.querySelector('#' + key + ' button');\n",
              "      quickchartButtonEl.disabled = true;  // To prevent multiple clicks.\n",
              "      quickchartButtonEl.classList.add('colab-df-spinner');\n",
              "      try {\n",
              "        const charts = await google.colab.kernel.invokeFunction(\n",
              "            'suggestCharts', [key], {});\n",
              "      } catch (error) {\n",
              "        console.error('Error during call to suggestCharts:', error);\n",
              "      }\n",
              "      quickchartButtonEl.classList.remove('colab-df-spinner');\n",
              "      quickchartButtonEl.classList.add('colab-df-quickchart-complete');\n",
              "    }\n",
              "    (() => {\n",
              "      let quickchartButtonEl =\n",
              "        document.querySelector('#df-d7d625b1-f0c1-4e40-9678-b9f1cffde2f2 button');\n",
              "      quickchartButtonEl.style.display =\n",
              "        google.colab.kernel.accessAllowed ? 'block' : 'none';\n",
              "    })();\n",
              "  </script>\n",
              "</div>\n",
              "\n",
              "    </div>\n",
              "  </div>\n"
            ],
            "application/vnd.google.colaboratory.intrinsic+json": {
              "type": "dataframe",
              "summary": "{\n  \"name\": \"display(reviews\",\n  \"rows\": 5,\n  \"fields\": [\n    {\n      \"column\": \"review_date\",\n      \"properties\": {\n        \"dtype\": \"object\",\n        \"num_unique_values\": 5,\n        \"samples\": [\n          \"6 September 2000\",\n          \"20 May 2004\",\n          \"3 August 2001\"\n        ],\n        \"semantic_type\": \"\",\n        \"description\": \"\"\n      }\n    },\n    {\n      \"column\": \"movie_id\",\n      \"properties\": {\n        \"dtype\": \"category\",\n        \"num_unique_values\": 1,\n        \"samples\": [\n          \"tt0111161\"\n        ],\n        \"semantic_type\": \"\",\n        \"description\": \"\"\n      }\n    },\n    {\n      \"column\": \"user_id\",\n      \"properties\": {\n        \"dtype\": \"string\",\n        \"num_unique_values\": 5,\n        \"samples\": [\n          \"ur0842118\"\n        ],\n        \"semantic_type\": \"\",\n        \"description\": \"\"\n      }\n    },\n    {\n      \"column\": \"is_spoiler\",\n      \"properties\": {\n        \"dtype\": \"boolean\",\n        \"num_unique_values\": 1,\n        \"samples\": [\n          true\n        ],\n        \"semantic_type\": \"\",\n        \"description\": \"\"\n      }\n    },\n    {\n      \"column\": \"review_text\",\n      \"properties\": {\n        \"dtype\": \"string\",\n        \"num_unique_values\": 5,\n        \"samples\": [\n          \"The Shawshank Redemption is without a doubt one of the most brilliant movies I have ever seen. Similar to The Green Mile in many respects (and better than it in almost all of them), these two movies have shown us that Stephen King is a master not only of horror but also of prose that shakes the soul and moves the heart. The plot is average, but King did great things with it in his novella that are only furthered by the direction, and the acting is so top-rate it's almost scary.Tim Robbins plays Andy Dufrane, wrongly imprisoned for 20 years for the murder of his wife. The story focuses on Andy's relationship with \\\"Red\\\" Redding (Morgan Freeman, in probably his best role) and his attempts to escape from Shawshank. Bob Gunton is positively evil and frightening as Warden Norton, and there are great performances and cameos all around; the most prominent one being Gil Bellows (late as Billy of Ally McBeal) as Tommy, a fellow inmate of Andy's who suffers under the iron will of Norton.If you haven't seen this movie, GO AND RENT IT NOW. You will not be disappointed. It is positively the best movie of the '90's, and one of my Top 3 of all time. This movie is a spectacle to move the mind, soul, and heart. 10/10\"\n        ],\n        \"semantic_type\": \"\",\n        \"description\": \"\"\n      }\n    },\n    {\n      \"column\": \"rating\",\n      \"properties\": {\n        \"dtype\": \"number\",\n        \"std\": 1,\n        \"min\": 8,\n        \"max\": 10,\n        \"num_unique_values\": 2,\n        \"samples\": [\n          8\n        ],\n        \"semantic_type\": \"\",\n        \"description\": \"\"\n      }\n    },\n    {\n      \"column\": \"review_summary\",\n      \"properties\": {\n        \"dtype\": \"string\",\n        \"num_unique_values\": 5,\n        \"samples\": [\n          \"Simply amazing. The best film of the 90's.\"\n        ],\n        \"semantic_type\": \"\",\n        \"description\": \"\"\n      }\n    }\n  ]\n}"
            }
          },
          "metadata": {}
        }
      ],
      "source": [
        "print (\"Contents of file movie reviews:\\n\")\n",
        "display(reviews.head())"
      ]
    },
    {
      "cell_type": "code",
      "source": [
        "reviews['is_spoiler'] = reviews['is_spoiler'].astype(np.int32)"
      ],
      "metadata": {
        "id": "OcBQoZkE6ieB"
      },
      "execution_count": null,
      "outputs": []
    },
    {
      "cell_type": "code",
      "execution_count": null,
      "metadata": {
        "id": "mPCNzzmPJrAU"
      },
      "outputs": [],
      "source": [
        "#Adding plot summary and plot synopsis to the review table by merging movies on movie_id\n",
        "merged_reviews = reviews.merge(\n",
        "        movies[['movie_id', 'plot_synopsis', 'plot_summary','genre']],\n",
        "        on='movie_id',\n",
        "        how ='left'\n",
        "    )"
      ]
    },
    {
      "cell_type": "code",
      "execution_count": null,
      "metadata": {
        "colab": {
          "base_uri": "https://localhost:8080/",
          "height": 293
        },
        "id": "9HjSRQoGKU8G",
        "outputId": "81eb9b81-665d-4999-e7f7-29fd4945decf"
      },
      "outputs": [
        {
          "output_type": "display_data",
          "data": {
            "text/plain": [
              "        review_date   movie_id    user_id  is_spoiler  \\\n",
              "0  10 February 2006  tt0111161  ur1898687           1   \n",
              "1  6 September 2000  tt0111161  ur0842118           1   \n",
              "2     3 August 2001  tt0111161  ur1285640           1   \n",
              "3  1 September 2002  tt0111161  ur1003471           1   \n",
              "4       20 May 2004  tt0111161  ur0226855           1   \n",
              "\n",
              "                                         review_text  rating  \\\n",
              "0  In its Oscar year, Shawshank Redemption (writt...      10   \n",
              "1  The Shawshank Redemption is without a doubt on...      10   \n",
              "2  I believe that this film is the best story eve...       8   \n",
              "3  **Yes, there are SPOILERS here**This film has ...      10   \n",
              "4  At the heart of this extraordinary movie is a ...       8   \n",
              "\n",
              "                                  review_summary  \\\n",
              "0  A classic piece of unforgettable film-making.   \n",
              "1     Simply amazing. The best film of the 90's.   \n",
              "2               The best story ever told on film   \n",
              "3                     Busy dying or busy living?   \n",
              "4         Great story, wondrously told and acted   \n",
              "\n",
              "                                       plot_synopsis  \\\n",
              "0  In 1947, Andy Dufresne (Tim Robbins), a banker...   \n",
              "1  In 1947, Andy Dufresne (Tim Robbins), a banker...   \n",
              "2  In 1947, Andy Dufresne (Tim Robbins), a banker...   \n",
              "3  In 1947, Andy Dufresne (Tim Robbins), a banker...   \n",
              "4  In 1947, Andy Dufresne (Tim Robbins), a banker...   \n",
              "\n",
              "                                        plot_summary           genre  \n",
              "0  Chronicles the experiences of a formerly succe...  [Crime, Drama]  \n",
              "1  Chronicles the experiences of a formerly succe...  [Crime, Drama]  \n",
              "2  Chronicles the experiences of a formerly succe...  [Crime, Drama]  \n",
              "3  Chronicles the experiences of a formerly succe...  [Crime, Drama]  \n",
              "4  Chronicles the experiences of a formerly succe...  [Crime, Drama]  "
            ],
            "text/html": [
              "\n",
              "  <div id=\"df-a9cc0389-f318-4d1d-886c-8c1b92e4672c\" class=\"colab-df-container\">\n",
              "    <div>\n",
              "<style scoped>\n",
              "    .dataframe tbody tr th:only-of-type {\n",
              "        vertical-align: middle;\n",
              "    }\n",
              "\n",
              "    .dataframe tbody tr th {\n",
              "        vertical-align: top;\n",
              "    }\n",
              "\n",
              "    .dataframe thead th {\n",
              "        text-align: right;\n",
              "    }\n",
              "</style>\n",
              "<table border=\"1\" class=\"dataframe\">\n",
              "  <thead>\n",
              "    <tr style=\"text-align: right;\">\n",
              "      <th></th>\n",
              "      <th>review_date</th>\n",
              "      <th>movie_id</th>\n",
              "      <th>user_id</th>\n",
              "      <th>is_spoiler</th>\n",
              "      <th>review_text</th>\n",
              "      <th>rating</th>\n",
              "      <th>review_summary</th>\n",
              "      <th>plot_synopsis</th>\n",
              "      <th>plot_summary</th>\n",
              "      <th>genre</th>\n",
              "    </tr>\n",
              "  </thead>\n",
              "  <tbody>\n",
              "    <tr>\n",
              "      <th>0</th>\n",
              "      <td>10 February 2006</td>\n",
              "      <td>tt0111161</td>\n",
              "      <td>ur1898687</td>\n",
              "      <td>1</td>\n",
              "      <td>In its Oscar year, Shawshank Redemption (writt...</td>\n",
              "      <td>10</td>\n",
              "      <td>A classic piece of unforgettable film-making.</td>\n",
              "      <td>In 1947, Andy Dufresne (Tim Robbins), a banker...</td>\n",
              "      <td>Chronicles the experiences of a formerly succe...</td>\n",
              "      <td>[Crime, Drama]</td>\n",
              "    </tr>\n",
              "    <tr>\n",
              "      <th>1</th>\n",
              "      <td>6 September 2000</td>\n",
              "      <td>tt0111161</td>\n",
              "      <td>ur0842118</td>\n",
              "      <td>1</td>\n",
              "      <td>The Shawshank Redemption is without a doubt on...</td>\n",
              "      <td>10</td>\n",
              "      <td>Simply amazing. The best film of the 90's.</td>\n",
              "      <td>In 1947, Andy Dufresne (Tim Robbins), a banker...</td>\n",
              "      <td>Chronicles the experiences of a formerly succe...</td>\n",
              "      <td>[Crime, Drama]</td>\n",
              "    </tr>\n",
              "    <tr>\n",
              "      <th>2</th>\n",
              "      <td>3 August 2001</td>\n",
              "      <td>tt0111161</td>\n",
              "      <td>ur1285640</td>\n",
              "      <td>1</td>\n",
              "      <td>I believe that this film is the best story eve...</td>\n",
              "      <td>8</td>\n",
              "      <td>The best story ever told on film</td>\n",
              "      <td>In 1947, Andy Dufresne (Tim Robbins), a banker...</td>\n",
              "      <td>Chronicles the experiences of a formerly succe...</td>\n",
              "      <td>[Crime, Drama]</td>\n",
              "    </tr>\n",
              "    <tr>\n",
              "      <th>3</th>\n",
              "      <td>1 September 2002</td>\n",
              "      <td>tt0111161</td>\n",
              "      <td>ur1003471</td>\n",
              "      <td>1</td>\n",
              "      <td>**Yes, there are SPOILERS here**This film has ...</td>\n",
              "      <td>10</td>\n",
              "      <td>Busy dying or busy living?</td>\n",
              "      <td>In 1947, Andy Dufresne (Tim Robbins), a banker...</td>\n",
              "      <td>Chronicles the experiences of a formerly succe...</td>\n",
              "      <td>[Crime, Drama]</td>\n",
              "    </tr>\n",
              "    <tr>\n",
              "      <th>4</th>\n",
              "      <td>20 May 2004</td>\n",
              "      <td>tt0111161</td>\n",
              "      <td>ur0226855</td>\n",
              "      <td>1</td>\n",
              "      <td>At the heart of this extraordinary movie is a ...</td>\n",
              "      <td>8</td>\n",
              "      <td>Great story, wondrously told and acted</td>\n",
              "      <td>In 1947, Andy Dufresne (Tim Robbins), a banker...</td>\n",
              "      <td>Chronicles the experiences of a formerly succe...</td>\n",
              "      <td>[Crime, Drama]</td>\n",
              "    </tr>\n",
              "  </tbody>\n",
              "</table>\n",
              "</div>\n",
              "    <div class=\"colab-df-buttons\">\n",
              "\n",
              "  <div class=\"colab-df-container\">\n",
              "    <button class=\"colab-df-convert\" onclick=\"convertToInteractive('df-a9cc0389-f318-4d1d-886c-8c1b92e4672c')\"\n",
              "            title=\"Convert this dataframe to an interactive table.\"\n",
              "            style=\"display:none;\">\n",
              "\n",
              "  <svg xmlns=\"http://www.w3.org/2000/svg\" height=\"24px\" viewBox=\"0 -960 960 960\">\n",
              "    <path d=\"M120-120v-720h720v720H120Zm60-500h600v-160H180v160Zm220 220h160v-160H400v160Zm0 220h160v-160H400v160ZM180-400h160v-160H180v160Zm440 0h160v-160H620v160ZM180-180h160v-160H180v160Zm440 0h160v-160H620v160Z\"/>\n",
              "  </svg>\n",
              "    </button>\n",
              "\n",
              "  <style>\n",
              "    .colab-df-container {\n",
              "      display:flex;\n",
              "      gap: 12px;\n",
              "    }\n",
              "\n",
              "    .colab-df-convert {\n",
              "      background-color: #E8F0FE;\n",
              "      border: none;\n",
              "      border-radius: 50%;\n",
              "      cursor: pointer;\n",
              "      display: none;\n",
              "      fill: #1967D2;\n",
              "      height: 32px;\n",
              "      padding: 0 0 0 0;\n",
              "      width: 32px;\n",
              "    }\n",
              "\n",
              "    .colab-df-convert:hover {\n",
              "      background-color: #E2EBFA;\n",
              "      box-shadow: 0px 1px 2px rgba(60, 64, 67, 0.3), 0px 1px 3px 1px rgba(60, 64, 67, 0.15);\n",
              "      fill: #174EA6;\n",
              "    }\n",
              "\n",
              "    .colab-df-buttons div {\n",
              "      margin-bottom: 4px;\n",
              "    }\n",
              "\n",
              "    [theme=dark] .colab-df-convert {\n",
              "      background-color: #3B4455;\n",
              "      fill: #D2E3FC;\n",
              "    }\n",
              "\n",
              "    [theme=dark] .colab-df-convert:hover {\n",
              "      background-color: #434B5C;\n",
              "      box-shadow: 0px 1px 3px 1px rgba(0, 0, 0, 0.15);\n",
              "      filter: drop-shadow(0px 1px 2px rgba(0, 0, 0, 0.3));\n",
              "      fill: #FFFFFF;\n",
              "    }\n",
              "  </style>\n",
              "\n",
              "    <script>\n",
              "      const buttonEl =\n",
              "        document.querySelector('#df-a9cc0389-f318-4d1d-886c-8c1b92e4672c button.colab-df-convert');\n",
              "      buttonEl.style.display =\n",
              "        google.colab.kernel.accessAllowed ? 'block' : 'none';\n",
              "\n",
              "      async function convertToInteractive(key) {\n",
              "        const element = document.querySelector('#df-a9cc0389-f318-4d1d-886c-8c1b92e4672c');\n",
              "        const dataTable =\n",
              "          await google.colab.kernel.invokeFunction('convertToInteractive',\n",
              "                                                    [key], {});\n",
              "        if (!dataTable) return;\n",
              "\n",
              "        const docLinkHtml = 'Like what you see? Visit the ' +\n",
              "          '<a target=\"_blank\" href=https://colab.research.google.com/notebooks/data_table.ipynb>data table notebook</a>'\n",
              "          + ' to learn more about interactive tables.';\n",
              "        element.innerHTML = '';\n",
              "        dataTable['output_type'] = 'display_data';\n",
              "        await google.colab.output.renderOutput(dataTable, element);\n",
              "        const docLink = document.createElement('div');\n",
              "        docLink.innerHTML = docLinkHtml;\n",
              "        element.appendChild(docLink);\n",
              "      }\n",
              "    </script>\n",
              "  </div>\n",
              "\n",
              "\n",
              "<div id=\"df-b1034342-27eb-4d9d-b610-ff0b921c7941\">\n",
              "  <button class=\"colab-df-quickchart\" onclick=\"quickchart('df-b1034342-27eb-4d9d-b610-ff0b921c7941')\"\n",
              "            title=\"Suggest charts\"\n",
              "            style=\"display:none;\">\n",
              "\n",
              "<svg xmlns=\"http://www.w3.org/2000/svg\" height=\"24px\"viewBox=\"0 0 24 24\"\n",
              "     width=\"24px\">\n",
              "    <g>\n",
              "        <path d=\"M19 3H5c-1.1 0-2 .9-2 2v14c0 1.1.9 2 2 2h14c1.1 0 2-.9 2-2V5c0-1.1-.9-2-2-2zM9 17H7v-7h2v7zm4 0h-2V7h2v10zm4 0h-2v-4h2v4z\"/>\n",
              "    </g>\n",
              "</svg>\n",
              "  </button>\n",
              "\n",
              "<style>\n",
              "  .colab-df-quickchart {\n",
              "      --bg-color: #E8F0FE;\n",
              "      --fill-color: #1967D2;\n",
              "      --hover-bg-color: #E2EBFA;\n",
              "      --hover-fill-color: #174EA6;\n",
              "      --disabled-fill-color: #AAA;\n",
              "      --disabled-bg-color: #DDD;\n",
              "  }\n",
              "\n",
              "  [theme=dark] .colab-df-quickchart {\n",
              "      --bg-color: #3B4455;\n",
              "      --fill-color: #D2E3FC;\n",
              "      --hover-bg-color: #434B5C;\n",
              "      --hover-fill-color: #FFFFFF;\n",
              "      --disabled-bg-color: #3B4455;\n",
              "      --disabled-fill-color: #666;\n",
              "  }\n",
              "\n",
              "  .colab-df-quickchart {\n",
              "    background-color: var(--bg-color);\n",
              "    border: none;\n",
              "    border-radius: 50%;\n",
              "    cursor: pointer;\n",
              "    display: none;\n",
              "    fill: var(--fill-color);\n",
              "    height: 32px;\n",
              "    padding: 0;\n",
              "    width: 32px;\n",
              "  }\n",
              "\n",
              "  .colab-df-quickchart:hover {\n",
              "    background-color: var(--hover-bg-color);\n",
              "    box-shadow: 0 1px 2px rgba(60, 64, 67, 0.3), 0 1px 3px 1px rgba(60, 64, 67, 0.15);\n",
              "    fill: var(--button-hover-fill-color);\n",
              "  }\n",
              "\n",
              "  .colab-df-quickchart-complete:disabled,\n",
              "  .colab-df-quickchart-complete:disabled:hover {\n",
              "    background-color: var(--disabled-bg-color);\n",
              "    fill: var(--disabled-fill-color);\n",
              "    box-shadow: none;\n",
              "  }\n",
              "\n",
              "  .colab-df-spinner {\n",
              "    border: 2px solid var(--fill-color);\n",
              "    border-color: transparent;\n",
              "    border-bottom-color: var(--fill-color);\n",
              "    animation:\n",
              "      spin 1s steps(1) infinite;\n",
              "  }\n",
              "\n",
              "  @keyframes spin {\n",
              "    0% {\n",
              "      border-color: transparent;\n",
              "      border-bottom-color: var(--fill-color);\n",
              "      border-left-color: var(--fill-color);\n",
              "    }\n",
              "    20% {\n",
              "      border-color: transparent;\n",
              "      border-left-color: var(--fill-color);\n",
              "      border-top-color: var(--fill-color);\n",
              "    }\n",
              "    30% {\n",
              "      border-color: transparent;\n",
              "      border-left-color: var(--fill-color);\n",
              "      border-top-color: var(--fill-color);\n",
              "      border-right-color: var(--fill-color);\n",
              "    }\n",
              "    40% {\n",
              "      border-color: transparent;\n",
              "      border-right-color: var(--fill-color);\n",
              "      border-top-color: var(--fill-color);\n",
              "    }\n",
              "    60% {\n",
              "      border-color: transparent;\n",
              "      border-right-color: var(--fill-color);\n",
              "    }\n",
              "    80% {\n",
              "      border-color: transparent;\n",
              "      border-right-color: var(--fill-color);\n",
              "      border-bottom-color: var(--fill-color);\n",
              "    }\n",
              "    90% {\n",
              "      border-color: transparent;\n",
              "      border-bottom-color: var(--fill-color);\n",
              "    }\n",
              "  }\n",
              "</style>\n",
              "\n",
              "  <script>\n",
              "    async function quickchart(key) {\n",
              "      const quickchartButtonEl =\n",
              "        document.querySelector('#' + key + ' button');\n",
              "      quickchartButtonEl.disabled = true;  // To prevent multiple clicks.\n",
              "      quickchartButtonEl.classList.add('colab-df-spinner');\n",
              "      try {\n",
              "        const charts = await google.colab.kernel.invokeFunction(\n",
              "            'suggestCharts', [key], {});\n",
              "      } catch (error) {\n",
              "        console.error('Error during call to suggestCharts:', error);\n",
              "      }\n",
              "      quickchartButtonEl.classList.remove('colab-df-spinner');\n",
              "      quickchartButtonEl.classList.add('colab-df-quickchart-complete');\n",
              "    }\n",
              "    (() => {\n",
              "      let quickchartButtonEl =\n",
              "        document.querySelector('#df-b1034342-27eb-4d9d-b610-ff0b921c7941 button');\n",
              "      quickchartButtonEl.style.display =\n",
              "        google.colab.kernel.accessAllowed ? 'block' : 'none';\n",
              "    })();\n",
              "  </script>\n",
              "</div>\n",
              "\n",
              "    </div>\n",
              "  </div>\n"
            ],
            "application/vnd.google.colaboratory.intrinsic+json": {
              "type": "dataframe",
              "summary": "{\n  \"name\": \"display(merged_reviews\",\n  \"rows\": 5,\n  \"fields\": [\n    {\n      \"column\": \"review_date\",\n      \"properties\": {\n        \"dtype\": \"object\",\n        \"num_unique_values\": 5,\n        \"samples\": [\n          \"6 September 2000\",\n          \"20 May 2004\",\n          \"3 August 2001\"\n        ],\n        \"semantic_type\": \"\",\n        \"description\": \"\"\n      }\n    },\n    {\n      \"column\": \"movie_id\",\n      \"properties\": {\n        \"dtype\": \"category\",\n        \"num_unique_values\": 1,\n        \"samples\": [\n          \"tt0111161\"\n        ],\n        \"semantic_type\": \"\",\n        \"description\": \"\"\n      }\n    },\n    {\n      \"column\": \"user_id\",\n      \"properties\": {\n        \"dtype\": \"string\",\n        \"num_unique_values\": 5,\n        \"samples\": [\n          \"ur0842118\"\n        ],\n        \"semantic_type\": \"\",\n        \"description\": \"\"\n      }\n    },\n    {\n      \"column\": \"is_spoiler\",\n      \"properties\": {\n        \"dtype\": \"number\",\n        \"std\": 0,\n        \"min\": 1,\n        \"max\": 1,\n        \"num_unique_values\": 1,\n        \"samples\": [\n          1\n        ],\n        \"semantic_type\": \"\",\n        \"description\": \"\"\n      }\n    },\n    {\n      \"column\": \"review_text\",\n      \"properties\": {\n        \"dtype\": \"string\",\n        \"num_unique_values\": 5,\n        \"samples\": [\n          \"The Shawshank Redemption is without a doubt one of the most brilliant movies I have ever seen. Similar to The Green Mile in many respects (and better than it in almost all of them), these two movies have shown us that Stephen King is a master not only of horror but also of prose that shakes the soul and moves the heart. The plot is average, but King did great things with it in his novella that are only furthered by the direction, and the acting is so top-rate it's almost scary.Tim Robbins plays Andy Dufrane, wrongly imprisoned for 20 years for the murder of his wife. The story focuses on Andy's relationship with \\\"Red\\\" Redding (Morgan Freeman, in probably his best role) and his attempts to escape from Shawshank. Bob Gunton is positively evil and frightening as Warden Norton, and there are great performances and cameos all around; the most prominent one being Gil Bellows (late as Billy of Ally McBeal) as Tommy, a fellow inmate of Andy's who suffers under the iron will of Norton.If you haven't seen this movie, GO AND RENT IT NOW. You will not be disappointed. It is positively the best movie of the '90's, and one of my Top 3 of all time. This movie is a spectacle to move the mind, soul, and heart. 10/10\"\n        ],\n        \"semantic_type\": \"\",\n        \"description\": \"\"\n      }\n    },\n    {\n      \"column\": \"rating\",\n      \"properties\": {\n        \"dtype\": \"number\",\n        \"std\": 1,\n        \"min\": 8,\n        \"max\": 10,\n        \"num_unique_values\": 2,\n        \"samples\": [\n          8\n        ],\n        \"semantic_type\": \"\",\n        \"description\": \"\"\n      }\n    },\n    {\n      \"column\": \"review_summary\",\n      \"properties\": {\n        \"dtype\": \"string\",\n        \"num_unique_values\": 5,\n        \"samples\": [\n          \"Simply amazing. The best film of the 90's.\"\n        ],\n        \"semantic_type\": \"\",\n        \"description\": \"\"\n      }\n    },\n    {\n      \"column\": \"plot_synopsis\",\n      \"properties\": {\n        \"dtype\": \"category\",\n        \"num_unique_values\": 1,\n        \"samples\": [\n          \"In 1947, Andy Dufresne (Tim Robbins), a banker in Maine, is convicted of murdering his wife and her lover, a golf pro. Since the state of Maine has no death penalty, he is given two consecutive life sentences and sent to the notoriously harsh Shawshank Prison. Andy always claims his innocence, but his cold and measured demeanor led many to doubt his word.During the first night, the chief guard, Byron Hadley (Clancy Brown), savagely beats an overweight and newly arrived inmate because of his crying and hysterics. The inmate later dies in the infirmary because the prison doctor had left for the night. Meanwhile, Andy remained steadfast and composed. Ellis Boyd Redding (Morgan Freeman), known as Red, bet against others that Andy would be the one to break down first and loses a considerable amount of cash. Red has been in prison for several years having been given three consecutive life sentences for the murder of his wife and two others.About a month later, Andy approaches Red, who runs contraband inside the walls of Shawshank. He asks Red to find him a rock hammer, an instrument he claims is necessary for his hobby of rock collecting and sculpting. Though other prisoners consider Andy \\\"a really cold fish,\\\" Red sees something in Andy, and likes him from the start. Red believes Andy intends to use the hammer to engineer his escape in the future but when the tool arrives and he sees how small it is, Red puts aside the thought that Andy could ever use it to dig his way out of prison.During the first two years of his incarceration, Andy works in the prison laundry. He attracts attention from \\\"the Sisters,\\\" a group of prisoners who sexually assault other prisoners. Though he persistently resists and fights them, Andy is beaten and raped on a regular basis.Red pulls some strings and gets Andy and a few of their mutual friends a break by getting them all on a work detail tarring the roof of one of the prison's buildings. During the job Andy overhears Hadley complaining about having to pay taxes for an upcoming inheritance. Drawing on his expertise as a banker, Andy lets Hadley know how he can shelter his money from the IRS, turning it into a one-time gift for his wife. He says he'll assist in exchange for some cold beers for his fellow inmates while on the tarring job. Though he at first threatens to throw Andy off the roof, Hadley, the most brutal guard in the prison, agrees, providing the men with cold beer before the job is finished. Red remarks that Andy may have engineered the privilege to build favor with the prison guards as much as with his fellow inmates, but Red also thinks Andy did it simply to \\\"feel free.\\\"While watching a movie, Andy demands \\\"Rita Hayworth\\\" from Red. Soon after, Andy once more encounters the Sisters and is brutally beaten, putting him in the infirmary for a month. Boggs (Mark Rolston), the leader of the Sisters, spends a week in solitary for the beating. When he comes out, he finds Hadley and his men waiting in his cell. They beat him so badly he's left paralyzed, transferred to a prison hospital upstate, and the Sisters never bother Andy again. When Andy gets out of the infirmary, he finds a bunch of rocks and a poster of Rita Hayworth in his cell: presents from Red and his buddies.Warden Samuel Norton (Bob Gunton) hears about how Andy helped Hadley and uses a surprise cell inspection to size Andy up. The warden meets with Andy and sends him to work with aging inmate Brooks Hatlen (James Whitmore) in the prison library, where he sets up a make-shift desk to provide services to other guards (and the warden himself) with income tax returns and other financial advice. Andy sees an opportunity to expand the prison library; he starts by asking the Maine state senate for funds. He writes letters every week. His financial support practice is so appreciated that even guards from other prisons, when they visit for inter-prison baseball matches, seek Andy's financial advice. Andy prepares Norton's tax returns the next season.Not long afterward, Brooks, the old librarian, threatens to kill another prisoner, Heywood, in order to avoid being paroled. Andy is able to talk him down and Brooks is paroled. He goes to a halfway house but finds it impossible to adjust to life outside the prison. He eventually commits suicide. When his friends suggest that he was crazy for doing so, Red tells them that Brooks had obviously become \\\"institutionalized,\\\" essentially conditioned to be a prisoner for the rest of his life and unable to adapt to the outside world. Red remarks: \\\"These walls are funny. First you hate 'em, then you get used to 'em. Enough time passes, you get so you depend on them.\\\"After six years of writing letters, Andy receives $200 from the state for the library, along with a collection of old books and phonograph records. Though the state Senate thinks this will be enough to get Andy to halt his letter-writing campaign, he is undaunted and redoubles his efforts.When the donations of old books and records arrive at the warden's office, Andy finds a copy of Mozart's The Marriage of Figaro among the records. He locks the guard assigned to the warden's office in the bathroom and plays the record over the prison's PA system. The entire prison seems captivated by the music &mdash; Red remarks that the voices of the women in the intro made everyone feel free, if only for a brief time. Outside the office, Norton appears, furious at the act of defiance, and orders Andy to turn off the record player. Andy reaches for the needle arm at first, then turns the volume on the phonograph up. The warden orders Hadley to break into the office and Andy is sent immediately to solitary confinement for two weeks. When he gets out, he tells his friends that the stretch was the \\\"easiest time\\\" he ever did in the hole because he spent it thinking about Mozart's Figaro. When the other prisoners tell him how unlikely that is, he replies that hope can sustain them. Red is not convinced and leaves, bitter at the thought.With the enlarged library and more materials, Andy begins to teach those inmates who want to receive their high school diplomas. After Andy is able to secure a steady stream of funding from various sources, the library is further renovated and named for Brooks.Warden Norton profits on Andy's knowledge of accounting and devises a scheme whereby he puts prison inmates to work in public projects which he wins by outbidding other contractors (prisoners are cheap labor). Occasionally, he lets others get some contracts if they bribe him. Andy launders money for the warden by setting up many accounts in different banks, along with several investments, using a fake identity: \\\"Randall Stephens.\\\" He shares the details only with his friend, Red, noting that he had to \\\"go to prison to learn how to be a criminal.\\\"In 1965, a young prisoner named Tommy (Gil Bellows) comes to Shawshank to serve time for armed robbery. Tommy is easy going, charismatic, and popular among the other inmates. Andy suggests that Tommy take up another line of work besides theft. The suggestion really gets to Tommy and he works on earning his high school equivalency diploma. Though Tommy is a good student, he is still frustrated when he takes the exam itself, crumpling it up and tossing it in the trash. Andy retrieves it and sends it in.One day Red tells Tommy about Andy's case. Tommy is visibly upset at hearing Andy's story and tells Andy and Red that he had a cellmate in another prison who boasted about killing a man who was a pro golfer at the country club he worked at, along with his lover. The woman's husband, a banker, had gone to prison for those murders. With this new information, Andy, full of hope, meets with the warden, expecting North to help him get another trial with Tommy as a witness. The reaction from Norton is completely contrary to what Andy hoped for. When Andy says emphatically that he would never reveal the money laundering schemes he set up for Norton over the years, the warden becomes furious and orders him to solitary for a month. The warden later meets with Tommy alone and asks him if he'll testify on Andy's behalf. Tommy enthusiastically agrees and the warden has him shot dead by Hadley.When the warden visits Andy in solitary, he tells him that Tommy was killed while attempting escape. Andy tells Norton that the financial schemes will stop. The warden counters, saying the library will be destroyed and all its materials burned. Andy will also lose his private cell and be sent to the block with the most hardened criminals. The warden gives Andy another month in solitary.Afterwards, Andy returns to the usual daily life at Shawshank, a seemingly broken man. One day he talks to Red, about how although he didn't kill his wife, his personality drove her away, which led to her infidelity and death. He says if he's ever freed or escapes, he'd like to go to Zihuatanejo, a beach town on the Pacific coast of Mexico. He also tells Red how he got engaged. He and his future wife went up to a farm in Buxton, Maine, to a large oak tree at the end of a stone wall. The two made love under the tree, after which he proposed to her. He tells Red that, if he should ever be paroled, he should look for that field, and that oak tree. There, under a large black volcanic rock that would look out of place, Andy has buried a box that he wants Red to have. Andy refuses to reveal what might be in that box.Later, Andy asks for a length of rope, leading Red and his buddies to suspect he will commit suicide. At the end of the day, Norton asks Andy to shine his shoes for him and put his suit in for dry-cleaning before retiring for the night.The following morning, Andy is not accounted for as usual in his cell. At the same time, Norton becomes alarmed when he finds Andy's shoes in his shoebox instead of his own. He rushes to Andy's cell and demands an explanation. Hadley brings in Red, but Red insists he knows nothing of Andy's plans. Becoming increasing hostile and paranoid, Norton starts throwing Andy's sculpted rocks around the cell. When he throws one at Andy's poster of Raquel Welch (in the spot previously occupied by Marilyn Monroe, and before that by Rita Hayworth), the rock punches through and into the wall. Norton tears the poster away from the wall and finds a tunnel just wide enough for a man to crawl through.During the previous night's thunderstorm, Andy wore Norton's shoes to his cell, catching a lucky break when no one notices. He packed some papers and Norton's clothes into a plastic bag, tied it to himself with the rope he'd asked for, and escaped through his hole. The tunnel he'd excavated led him to a space between two walls of the prison where he found a sewer main line. Using a rock, he hit the sewer line in time with the lightning strikes and eventually burst it. Crawling through 500 yards in the pipe and through the raw sewage contained in it, Andy emerged in a brook outside the walls. A search team later found his uniform and his rock hammer, which had been worn nearly to nothing.That morning, Andy walks into the Maine National Bank in Portland, where he had put Warden Norton's money. Using his assumed identity as Randall Stephens, and with all the necessary documentation, he closes the account and walks out with a cashier's check. Before he leaves, he asks them to drop a package in the mail. He continues his visitations to nearly a dozen other local banks, ending up with some $370,000. The package contains Warden Norton's account books, which are delivered straight to the Portland Daily Bugle newspaper.Not long after, the police storm Shawshank Prison. Hadley is arrested for murder; Red says he was taken away \\\"crying like a little girl.\\\" Warden Norton finally opens his safe, which he hadn't touched since Andy escaped, and instead of his books, he finds the Bible he had given Andy. Norton opens it to the book of Exodus and finds that the pages have been cut out in the shape of Andy's rock hammer. Norton walks back to his desk as the police pound on his door, takes out a small revolver and shoots himself under the chin. Red remarks that he wondered if the warden thought, right before pulling the trigger, how \\\"Andy could ever have gotten the best of him.\\\"Shortly after, Red receives a postcard from Fort Hancock, Texas, with nothing written on it. Red takes it as a sign that Andy made it into Mexico to freedom. Red and his buddies kill time talking about Andy's exploits (with a lot of embellishments), but Red just misses his friend.At Red's next parole hearing in 1967, he talks to the parole board about how \\\"rehabilitated\\\" was a made-up word, and how he regretted his actions of the past of murder over 40 years ago and no longer expects anything from them. His parole is granted this time. He goes to work at a grocery store, and stays at the same halfway house room Brooks had stayed in. He frequently walks by a pawn shop which has several guns and compasses in the window. At times he contemplates trying to get back into prison feeling that he has no life outside of prison where he has spent most of his adult life, but he remembers the promise he made to Andy.One day, with a compass he bought from the pawn shop, he follows Andy's instructions, hitchhiking to Buxton and arriving at the stone wall Andy described. Just as Andy said, there was a large black stone. Under it was a small box containing a large sum of cash and instructions to find him. He said he needed somebody \\\"who could get things\\\" for a \\\"project\\\" of his.Red violates parole and leaves the halfway house, unconcerned since no one is likely to do an extensive manhunt for \\\"an old crook like [him].\\\" He takes a bus to Fort Hancock, where he crosses into Mexico. The two friends are finally reunited on the beach of Zihuatanejo on the Pacific coast.\"\n        ],\n        \"semantic_type\": \"\",\n        \"description\": \"\"\n      }\n    },\n    {\n      \"column\": \"plot_summary\",\n      \"properties\": {\n        \"dtype\": \"category\",\n        \"num_unique_values\": 1,\n        \"samples\": [\n          \"Chronicles the experiences of a formerly successful banker as a prisoner in the gloomy jailhouse of Shawshank after being found guilty of a crime he did not commit. The film portrays the man's unique way of dealing with his new, torturous life; along the way he befriends a number of fellow prisoners, most notably a wise long-term inmate named Red.                Written by\\nJ-S-Golden\"\n        ],\n        \"semantic_type\": \"\",\n        \"description\": \"\"\n      }\n    },\n    {\n      \"column\": \"genre\",\n      \"properties\": {\n        \"dtype\": \"object\",\n        \"semantic_type\": \"\",\n        \"description\": \"\"\n      }\n    }\n  ]\n}"
            }
          },
          "metadata": {}
        }
      ],
      "source": [
        "display(merged_reviews.head())"
      ]
    },
    {
      "cell_type": "code",
      "execution_count": null,
      "metadata": {
        "id": "QyONqQ_NKuZ2"
      },
      "outputs": [],
      "source": [
        "#creating a copy of movie_reviews\n",
        "movie_reviews = merged_reviews.copy()"
      ]
    },
    {
      "cell_type": "code",
      "source": [
        "print(f\"movie_reviews:{movie_reviews['review_text'][0]}\")\n",
        "print(f\"review_summary:{movie_reviews['review_summary'][0]}\")"
      ],
      "metadata": {
        "colab": {
          "base_uri": "https://localhost:8080/"
        },
        "id": "LwIR_w9b8Dv4",
        "outputId": "24333dce-8177-421b-b9d7-571c6ce5393a"
      },
      "execution_count": null,
      "outputs": [
        {
          "output_type": "stream",
          "name": "stdout",
          "text": [
            "movie_reviews:In its Oscar year, Shawshank Redemption (written and directed by Frank Darabont, after the novella Rita Hayworth and the Shawshank Redemption, by Stephen King) was nominated for seven Academy Awards, and walked away with zero. Best Picture went to Forrest Gump, while Shawshank and Pulp Fiction were \"just happy to be nominated.\" Of course hindsight is 20/20, but while history looks back on Gump as a good film, Pulp and Redemption are remembered as some of the all-time best. Pulp, however, was a success from the word \"go,\" making a huge splash at Cannes and making its writer-director an American master after only two films. For Andy Dufresne and Co., success didn't come easy. Fortunately, failure wasn't a life sentence.After opening on 33 screens with take of $727,327, the $25M film fell fast from theatres and finished with a mere $28.3M. The reasons for failure are many. Firstly, the title is a clunker. While iconic to fans today, in 1994, people knew not and cared not what a 'Shawshank' was. On the DVD, Tim Robbins laughs recounting fans congratulating him on \"that 'Rickshaw' movie.\" Marketing-wise, the film's a nightmare, as 'prison drama' is a tough sell to women, and the story of love between two best friends doesn't spell winner to men. Worst of all, the movie is slow as molasses. As Desson Thomson writes for the Washington Post, \"it wanders down subplots at every opportunity and ignores an abundance of narrative exit points before settling on its finale.\" But it is these same weaknesses that make the film so strong.Firstly, its setting. The opening aerial shots of the prison are a total eye-opener. This is an amazing piece of architecture, strong and Gothic in design. Immediately, the prison becomes a character. It casts its shadow over most of the film, its tall stone walls stretching above every shot. It towers over the men it contains, blotting out all memories of the outside world. Only Andy (Robbins) holds onto hope. It's in music, it's in the sandy beaches of Zihuatanejo; \"In here's where you need it most,\" he says. \"You need it so you don't forget. Forget that there are places in the world that aren't made out of stone. That there's a - there's a - there's something inside that's yours, that they can't touch.\" Red (Morgan Freeman) doesn't think much of Andy at first, picking \"that tall glass o' milk with the silver spoon up his ass\" as the first new fish to crack. Andy says not a word, and losing his bet, Red resents him for it. But over time, as the two get to know each other, they quickly become the best of friends. This again, is one of the film's major strengths. Many movies are about love, many flicks have a side-kick to the hero, but Shawshank is the only one I can think of that looks honestly at the love between two best friends. It seems odd that Hollywood would skip this relationship time and again, when it's a feeling that weighs so much into everyone's day to day lives. Perhaps it's too sentimental to seem conventional, but Shawshank's core friendship hits all the right notes, and the film is much better for it.It's pacing is deliberate as well. As we spend the film watching the same actors, it is easy to forget that the movie's timeline spans well over 20 years. Such a huge measure of time would pass slowly in reality, and would only be amplified in prison. And it's not as if the film lacks interest in these moments. It still knows where it's going, it merely intends on taking its sweet time getting there. It pays off as well, as the tedium of prison life makes the climax that much more exhilarating. For anyone who sees it, it is a moment never to be forgotten.With themes of faith and hope, there is a definite religious subtext to be found here. Quiet, selfless and carefree, Andy is an obvious Christ figure. Warden Norton (Bob Gunton) is obviously modeled on Richard Nixon, who, in his day, was as close to a personified Satan as they come. But if you aren't looking for subtexts, the movie speaks to anyone in search of hope. It is a compelling drama, and a very moving film, perfectly written, acted and shot. They just don't come much better than this.OVERALL SCORE: 9.8/10 = A+ The Shawshank Redemption served as a message of hope to Hollywood as well. More than any film in memory, it proved there is life after box office. Besting Forrest and Fiction, it ran solely on strong word of mouth and became the hottest rented film of 1995. It currently sits at #2 in the IMDb's Top 250 Films, occasionally swapping spots with The Godfather as the top ranked film of all time -- redemption indeed. If you haven't seen it yet, what the hell are you waiting for? As Andy says, \"It comes down a simple choice, really. Either get busy living, or get busy dying.\"\n",
            "review_summary:A classic piece of unforgettable film-making.\n"
          ]
        }
      ]
    },
    {
      "cell_type": "markdown",
      "source": [
        "**Takeaway**: *Movie review texts has more features or content than review summary.*"
      ],
      "metadata": {
        "id": "tD-nRzBEvAHh"
      }
    },
    {
      "cell_type": "markdown",
      "source": [
        "RAM usage exceeding system RAM on Google Colab Pro so not able to run this descriptive"
      ],
      "metadata": {
        "id": "KAgyC7_bxBql"
      }
    },
    {
      "cell_type": "markdown",
      "source": [
        "### 3. Balance Sampling\n",
        "Using balanced sampling to sample a random set of 10000 *reviews*\n",
        "\n",
        "Also reducing the dataset to 10,000 due to computational constraints"
      ],
      "metadata": {
        "id": "0VEGZgC95zzk"
      }
    },
    {
      "cell_type": "code",
      "source": [
        "from sklearn.utils import resample\n",
        "\n",
        "def balanced_sample(data, target_column, sample_size=10000, random_state=42):\n",
        "  \"\"\"\n",
        "    Create a balanced sample from the dataset.\n",
        "\n",
        "    Parameters:\n",
        "    - data: pd.DataFrame, the input dataset\n",
        "    - target_column: str, the name of the target column for balancing\n",
        "    - sample_size: int, the total number of samples to draw (must be even)\n",
        "    - random_state: int, random state for reproducibility\n",
        "\n",
        "    Returns:\n",
        "    - balanced_sample: pd.DataFrame, the balanced sample\n",
        "  \"\"\"\n",
        "\n",
        "  # Separate the data into two groups based on the target column\n",
        "  class_1 = data[data[target_column] == 1]\n",
        "  class_0 = data[data[target_column] == 0]\n",
        "\n",
        "  num_samples_per_class = sample_size // 2\n",
        "\n",
        "  # Randomly sample from each group\n",
        "  class_1_sampled = resample(class_1,\n",
        "                               replace=False,\n",
        "                               n_samples=num_samples_per_class,\n",
        "                               random_state=random_state)\n",
        "\n",
        "  class_0_sampled = resample(class_0,\n",
        "                               replace=False,\n",
        "                               n_samples=num_samples_per_class,\n",
        "                               random_state=random_state)\n",
        "\n",
        "  # Combine the samples from both groups\n",
        "  balanced_sample = pd.concat([class_1_sampled, class_0_sampled])\n",
        "\n",
        "  # Shuffle the combined sample\n",
        "  balanced_sample = balanced_sample.sample(frac=1, random_state=random_state).reset_index(drop=True)\n",
        "\n",
        "  return balanced_sample\n",
        "\n",
        "\n",
        "# Create a balanced sample\n",
        "sample_size = 10000\n",
        "balanced_sample = balanced_sample(movie_reviews, 'is_spoiler', sample_size)\n",
        "\n",
        "# Save the balanced sample\n",
        "\n",
        "balanced_sample.to_csv('/content/drive/MyDrive/IK_Mini_Project2/movie_reviews_sample.csv', index=False)"
      ],
      "metadata": {
        "id": "V0fE0AMS5zH9"
      },
      "execution_count": null,
      "outputs": []
    },
    {
      "cell_type": "code",
      "source": [
        "df_reviews = balanced_sample.copy()"
      ],
      "metadata": {
        "id": "PQ9aQj1Y6KUh"
      },
      "execution_count": null,
      "outputs": []
    },
    {
      "cell_type": "code",
      "source": [
        "df_reviews.shape"
      ],
      "metadata": {
        "colab": {
          "base_uri": "https://localhost:8080/"
        },
        "id": "M8cNQYanzqKW",
        "outputId": "8209db97-69f0-4fd7-c46d-ca41065262dd"
      },
      "execution_count": null,
      "outputs": [
        {
          "output_type": "execute_result",
          "data": {
            "text/plain": [
              "(10000, 10)"
            ]
          },
          "metadata": {},
          "execution_count": 18
        }
      ]
    },
    {
      "cell_type": "markdown",
      "source": [
        "## Data Preprocessing"
      ],
      "metadata": {
        "id": "pGQ56KVF1pCm"
      }
    },
    {
      "cell_type": "markdown",
      "source": [
        "### 1. Understanding the sample dataset"
      ],
      "metadata": {
        "id": "kO4Bsn7r6Zdx"
      }
    },
    {
      "cell_type": "code",
      "source": [
        "df_reviews['movie_id'].nunique()"
      ],
      "metadata": {
        "colab": {
          "base_uri": "https://localhost:8080/"
        },
        "id": "aleOy1hg6jI6",
        "outputId": "fcd3f393-e17f-422b-c848-ce7e2394700b"
      },
      "execution_count": null,
      "outputs": [
        {
          "output_type": "execute_result",
          "data": {
            "text/plain": [
              "1460"
            ]
          },
          "metadata": {},
          "execution_count": 19
        }
      ]
    },
    {
      "cell_type": "code",
      "source": [
        "df_reviews.info()"
      ],
      "metadata": {
        "colab": {
          "base_uri": "https://localhost:8080/"
        },
        "id": "O6Gux34o6tLi",
        "outputId": "e375ba51-26f7-4b6b-a100-d9a5c5da1d4b"
      },
      "execution_count": null,
      "outputs": [
        {
          "output_type": "stream",
          "name": "stdout",
          "text": [
            "<class 'pandas.core.frame.DataFrame'>\n",
            "RangeIndex: 10000 entries, 0 to 9999\n",
            "Data columns (total 10 columns):\n",
            " #   Column          Non-Null Count  Dtype \n",
            "---  ------          --------------  ----- \n",
            " 0   review_date     10000 non-null  object\n",
            " 1   movie_id        10000 non-null  object\n",
            " 2   user_id         10000 non-null  object\n",
            " 3   is_spoiler      10000 non-null  int32 \n",
            " 4   review_text     10000 non-null  object\n",
            " 5   rating          10000 non-null  int64 \n",
            " 6   review_summary  10000 non-null  object\n",
            " 7   plot_synopsis   10000 non-null  object\n",
            " 8   plot_summary    10000 non-null  object\n",
            " 9   genre           10000 non-null  object\n",
            "dtypes: int32(1), int64(1), object(8)\n",
            "memory usage: 742.3+ KB\n"
          ]
        }
      ]
    },
    {
      "cell_type": "code",
      "source": [
        "#Checking the null values in df_reviews\n",
        "df_reviews.isna().sum()"
      ],
      "metadata": {
        "colab": {
          "base_uri": "https://localhost:8080/"
        },
        "id": "U88HKyGw6w1Y",
        "outputId": "440809f6-faf0-451d-9024-9fd600f3ae02"
      },
      "execution_count": null,
      "outputs": [
        {
          "output_type": "execute_result",
          "data": {
            "text/plain": [
              "review_date       0\n",
              "movie_id          0\n",
              "user_id           0\n",
              "is_spoiler        0\n",
              "review_text       0\n",
              "rating            0\n",
              "review_summary    0\n",
              "plot_synopsis     0\n",
              "plot_summary      0\n",
              "genre             0\n",
              "dtype: int64"
            ]
          },
          "metadata": {},
          "execution_count": 21
        }
      ]
    },
    {
      "cell_type": "markdown",
      "source": [
        "### 2. Data preprocessing"
      ],
      "metadata": {
        "id": "kLDNKmfB7DWo"
      }
    },
    {
      "cell_type": "markdown",
      "source": [
        "#### One Hot Encoding the genre column/ category"
      ],
      "metadata": {
        "id": "FgbMCy31CmBk"
      }
    },
    {
      "cell_type": "code",
      "source": [
        "df_reviews['genre'] = df_reviews['genre'].apply(lambda x: ','.join((map(str, x))))\n",
        "df_reviews.head(2)"
      ],
      "metadata": {
        "colab": {
          "base_uri": "https://localhost:8080/",
          "height": 146
        },
        "id": "rj1PwQQMTM6g",
        "outputId": "010d5117-c31b-4cbc-bfde-feb44eacdb5e",
        "collapsed": true
      },
      "execution_count": null,
      "outputs": [
        {
          "output_type": "execute_result",
          "data": {
            "text/plain": [
              "       review_date   movie_id     user_id  is_spoiler  \\\n",
              "0  16 January 2005  tt0105629   ur3494098           0   \n",
              "1   7 January 2009  tt0455824  ur17306445           1   \n",
              "\n",
              "                                         review_text  rating  \\\n",
              "0  While on the outside the movie seems absurd an...       9   \n",
              "1  I couldn't really decide what this film was, c...       3   \n",
              "\n",
              "                     review_summary  \\\n",
              "0                         Look past   \n",
              "1  Fumbling Antipodean nonsense....   \n",
              "\n",
              "                                       plot_synopsis  \\\n",
              "0  Amid a sea of gently-waving tall grass, lies t...   \n",
              "1  The movie opens with information about World W...   \n",
              "\n",
              "                                        plot_summary                    genre  \n",
              "0  An eccentric toymaker's last wish is that his ...   Adventure,Comedy,Drama  \n",
              "1  In northern Australia at the beginning of Worl...  Adventure,Drama,Romance  "
            ],
            "text/html": [
              "\n",
              "  <div id=\"df-de91ed71-f62b-4f6a-8fe4-c60a3bb10150\" class=\"colab-df-container\">\n",
              "    <div>\n",
              "<style scoped>\n",
              "    .dataframe tbody tr th:only-of-type {\n",
              "        vertical-align: middle;\n",
              "    }\n",
              "\n",
              "    .dataframe tbody tr th {\n",
              "        vertical-align: top;\n",
              "    }\n",
              "\n",
              "    .dataframe thead th {\n",
              "        text-align: right;\n",
              "    }\n",
              "</style>\n",
              "<table border=\"1\" class=\"dataframe\">\n",
              "  <thead>\n",
              "    <tr style=\"text-align: right;\">\n",
              "      <th></th>\n",
              "      <th>review_date</th>\n",
              "      <th>movie_id</th>\n",
              "      <th>user_id</th>\n",
              "      <th>is_spoiler</th>\n",
              "      <th>review_text</th>\n",
              "      <th>rating</th>\n",
              "      <th>review_summary</th>\n",
              "      <th>plot_synopsis</th>\n",
              "      <th>plot_summary</th>\n",
              "      <th>genre</th>\n",
              "    </tr>\n",
              "  </thead>\n",
              "  <tbody>\n",
              "    <tr>\n",
              "      <th>0</th>\n",
              "      <td>16 January 2005</td>\n",
              "      <td>tt0105629</td>\n",
              "      <td>ur3494098</td>\n",
              "      <td>0</td>\n",
              "      <td>While on the outside the movie seems absurd an...</td>\n",
              "      <td>9</td>\n",
              "      <td>Look past</td>\n",
              "      <td>Amid a sea of gently-waving tall grass, lies t...</td>\n",
              "      <td>An eccentric toymaker's last wish is that his ...</td>\n",
              "      <td>Adventure,Comedy,Drama</td>\n",
              "    </tr>\n",
              "    <tr>\n",
              "      <th>1</th>\n",
              "      <td>7 January 2009</td>\n",
              "      <td>tt0455824</td>\n",
              "      <td>ur17306445</td>\n",
              "      <td>1</td>\n",
              "      <td>I couldn't really decide what this film was, c...</td>\n",
              "      <td>3</td>\n",
              "      <td>Fumbling Antipodean nonsense....</td>\n",
              "      <td>The movie opens with information about World W...</td>\n",
              "      <td>In northern Australia at the beginning of Worl...</td>\n",
              "      <td>Adventure,Drama,Romance</td>\n",
              "    </tr>\n",
              "  </tbody>\n",
              "</table>\n",
              "</div>\n",
              "    <div class=\"colab-df-buttons\">\n",
              "\n",
              "  <div class=\"colab-df-container\">\n",
              "    <button class=\"colab-df-convert\" onclick=\"convertToInteractive('df-de91ed71-f62b-4f6a-8fe4-c60a3bb10150')\"\n",
              "            title=\"Convert this dataframe to an interactive table.\"\n",
              "            style=\"display:none;\">\n",
              "\n",
              "  <svg xmlns=\"http://www.w3.org/2000/svg\" height=\"24px\" viewBox=\"0 -960 960 960\">\n",
              "    <path d=\"M120-120v-720h720v720H120Zm60-500h600v-160H180v160Zm220 220h160v-160H400v160Zm0 220h160v-160H400v160ZM180-400h160v-160H180v160Zm440 0h160v-160H620v160ZM180-180h160v-160H180v160Zm440 0h160v-160H620v160Z\"/>\n",
              "  </svg>\n",
              "    </button>\n",
              "\n",
              "  <style>\n",
              "    .colab-df-container {\n",
              "      display:flex;\n",
              "      gap: 12px;\n",
              "    }\n",
              "\n",
              "    .colab-df-convert {\n",
              "      background-color: #E8F0FE;\n",
              "      border: none;\n",
              "      border-radius: 50%;\n",
              "      cursor: pointer;\n",
              "      display: none;\n",
              "      fill: #1967D2;\n",
              "      height: 32px;\n",
              "      padding: 0 0 0 0;\n",
              "      width: 32px;\n",
              "    }\n",
              "\n",
              "    .colab-df-convert:hover {\n",
              "      background-color: #E2EBFA;\n",
              "      box-shadow: 0px 1px 2px rgba(60, 64, 67, 0.3), 0px 1px 3px 1px rgba(60, 64, 67, 0.15);\n",
              "      fill: #174EA6;\n",
              "    }\n",
              "\n",
              "    .colab-df-buttons div {\n",
              "      margin-bottom: 4px;\n",
              "    }\n",
              "\n",
              "    [theme=dark] .colab-df-convert {\n",
              "      background-color: #3B4455;\n",
              "      fill: #D2E3FC;\n",
              "    }\n",
              "\n",
              "    [theme=dark] .colab-df-convert:hover {\n",
              "      background-color: #434B5C;\n",
              "      box-shadow: 0px 1px 3px 1px rgba(0, 0, 0, 0.15);\n",
              "      filter: drop-shadow(0px 1px 2px rgba(0, 0, 0, 0.3));\n",
              "      fill: #FFFFFF;\n",
              "    }\n",
              "  </style>\n",
              "\n",
              "    <script>\n",
              "      const buttonEl =\n",
              "        document.querySelector('#df-de91ed71-f62b-4f6a-8fe4-c60a3bb10150 button.colab-df-convert');\n",
              "      buttonEl.style.display =\n",
              "        google.colab.kernel.accessAllowed ? 'block' : 'none';\n",
              "\n",
              "      async function convertToInteractive(key) {\n",
              "        const element = document.querySelector('#df-de91ed71-f62b-4f6a-8fe4-c60a3bb10150');\n",
              "        const dataTable =\n",
              "          await google.colab.kernel.invokeFunction('convertToInteractive',\n",
              "                                                    [key], {});\n",
              "        if (!dataTable) return;\n",
              "\n",
              "        const docLinkHtml = 'Like what you see? Visit the ' +\n",
              "          '<a target=\"_blank\" href=https://colab.research.google.com/notebooks/data_table.ipynb>data table notebook</a>'\n",
              "          + ' to learn more about interactive tables.';\n",
              "        element.innerHTML = '';\n",
              "        dataTable['output_type'] = 'display_data';\n",
              "        await google.colab.output.renderOutput(dataTable, element);\n",
              "        const docLink = document.createElement('div');\n",
              "        docLink.innerHTML = docLinkHtml;\n",
              "        element.appendChild(docLink);\n",
              "      }\n",
              "    </script>\n",
              "  </div>\n",
              "\n",
              "\n",
              "<div id=\"df-83833adc-fe0d-4377-9d08-692a315dc4a4\">\n",
              "  <button class=\"colab-df-quickchart\" onclick=\"quickchart('df-83833adc-fe0d-4377-9d08-692a315dc4a4')\"\n",
              "            title=\"Suggest charts\"\n",
              "            style=\"display:none;\">\n",
              "\n",
              "<svg xmlns=\"http://www.w3.org/2000/svg\" height=\"24px\"viewBox=\"0 0 24 24\"\n",
              "     width=\"24px\">\n",
              "    <g>\n",
              "        <path d=\"M19 3H5c-1.1 0-2 .9-2 2v14c0 1.1.9 2 2 2h14c1.1 0 2-.9 2-2V5c0-1.1-.9-2-2-2zM9 17H7v-7h2v7zm4 0h-2V7h2v10zm4 0h-2v-4h2v4z\"/>\n",
              "    </g>\n",
              "</svg>\n",
              "  </button>\n",
              "\n",
              "<style>\n",
              "  .colab-df-quickchart {\n",
              "      --bg-color: #E8F0FE;\n",
              "      --fill-color: #1967D2;\n",
              "      --hover-bg-color: #E2EBFA;\n",
              "      --hover-fill-color: #174EA6;\n",
              "      --disabled-fill-color: #AAA;\n",
              "      --disabled-bg-color: #DDD;\n",
              "  }\n",
              "\n",
              "  [theme=dark] .colab-df-quickchart {\n",
              "      --bg-color: #3B4455;\n",
              "      --fill-color: #D2E3FC;\n",
              "      --hover-bg-color: #434B5C;\n",
              "      --hover-fill-color: #FFFFFF;\n",
              "      --disabled-bg-color: #3B4455;\n",
              "      --disabled-fill-color: #666;\n",
              "  }\n",
              "\n",
              "  .colab-df-quickchart {\n",
              "    background-color: var(--bg-color);\n",
              "    border: none;\n",
              "    border-radius: 50%;\n",
              "    cursor: pointer;\n",
              "    display: none;\n",
              "    fill: var(--fill-color);\n",
              "    height: 32px;\n",
              "    padding: 0;\n",
              "    width: 32px;\n",
              "  }\n",
              "\n",
              "  .colab-df-quickchart:hover {\n",
              "    background-color: var(--hover-bg-color);\n",
              "    box-shadow: 0 1px 2px rgba(60, 64, 67, 0.3), 0 1px 3px 1px rgba(60, 64, 67, 0.15);\n",
              "    fill: var(--button-hover-fill-color);\n",
              "  }\n",
              "\n",
              "  .colab-df-quickchart-complete:disabled,\n",
              "  .colab-df-quickchart-complete:disabled:hover {\n",
              "    background-color: var(--disabled-bg-color);\n",
              "    fill: var(--disabled-fill-color);\n",
              "    box-shadow: none;\n",
              "  }\n",
              "\n",
              "  .colab-df-spinner {\n",
              "    border: 2px solid var(--fill-color);\n",
              "    border-color: transparent;\n",
              "    border-bottom-color: var(--fill-color);\n",
              "    animation:\n",
              "      spin 1s steps(1) infinite;\n",
              "  }\n",
              "\n",
              "  @keyframes spin {\n",
              "    0% {\n",
              "      border-color: transparent;\n",
              "      border-bottom-color: var(--fill-color);\n",
              "      border-left-color: var(--fill-color);\n",
              "    }\n",
              "    20% {\n",
              "      border-color: transparent;\n",
              "      border-left-color: var(--fill-color);\n",
              "      border-top-color: var(--fill-color);\n",
              "    }\n",
              "    30% {\n",
              "      border-color: transparent;\n",
              "      border-left-color: var(--fill-color);\n",
              "      border-top-color: var(--fill-color);\n",
              "      border-right-color: var(--fill-color);\n",
              "    }\n",
              "    40% {\n",
              "      border-color: transparent;\n",
              "      border-right-color: var(--fill-color);\n",
              "      border-top-color: var(--fill-color);\n",
              "    }\n",
              "    60% {\n",
              "      border-color: transparent;\n",
              "      border-right-color: var(--fill-color);\n",
              "    }\n",
              "    80% {\n",
              "      border-color: transparent;\n",
              "      border-right-color: var(--fill-color);\n",
              "      border-bottom-color: var(--fill-color);\n",
              "    }\n",
              "    90% {\n",
              "      border-color: transparent;\n",
              "      border-bottom-color: var(--fill-color);\n",
              "    }\n",
              "  }\n",
              "</style>\n",
              "\n",
              "  <script>\n",
              "    async function quickchart(key) {\n",
              "      const quickchartButtonEl =\n",
              "        document.querySelector('#' + key + ' button');\n",
              "      quickchartButtonEl.disabled = true;  // To prevent multiple clicks.\n",
              "      quickchartButtonEl.classList.add('colab-df-spinner');\n",
              "      try {\n",
              "        const charts = await google.colab.kernel.invokeFunction(\n",
              "            'suggestCharts', [key], {});\n",
              "      } catch (error) {\n",
              "        console.error('Error during call to suggestCharts:', error);\n",
              "      }\n",
              "      quickchartButtonEl.classList.remove('colab-df-spinner');\n",
              "      quickchartButtonEl.classList.add('colab-df-quickchart-complete');\n",
              "    }\n",
              "    (() => {\n",
              "      let quickchartButtonEl =\n",
              "        document.querySelector('#df-83833adc-fe0d-4377-9d08-692a315dc4a4 button');\n",
              "      quickchartButtonEl.style.display =\n",
              "        google.colab.kernel.accessAllowed ? 'block' : 'none';\n",
              "    })();\n",
              "  </script>\n",
              "</div>\n",
              "\n",
              "    </div>\n",
              "  </div>\n"
            ],
            "application/vnd.google.colaboratory.intrinsic+json": {
              "type": "dataframe",
              "variable_name": "df_reviews",
              "summary": "{\n  \"name\": \"df_reviews\",\n  \"rows\": 10000,\n  \"fields\": [\n    {\n      \"column\": \"review_date\",\n      \"properties\": {\n        \"dtype\": \"object\",\n        \"num_unique_values\": 4933,\n        \"samples\": [\n          \"23 October 2010\",\n          \"3 February 2008\",\n          \"12 August 2000\"\n        ],\n        \"semantic_type\": \"\",\n        \"description\": \"\"\n      }\n    },\n    {\n      \"column\": \"movie_id\",\n      \"properties\": {\n        \"dtype\": \"category\",\n        \"num_unique_values\": 1460,\n        \"samples\": [\n          \"tt0120794\",\n          \"tt0120855\",\n          \"tt1872181\"\n        ],\n        \"semantic_type\": \"\",\n        \"description\": \"\"\n      }\n    },\n    {\n      \"column\": \"user_id\",\n      \"properties\": {\n        \"dtype\": \"string\",\n        \"num_unique_values\": 8238,\n        \"samples\": [\n          \"ur3020948\",\n          \"ur22709604\",\n          \"ur4294858\"\n        ],\n        \"semantic_type\": \"\",\n        \"description\": \"\"\n      }\n    },\n    {\n      \"column\": \"is_spoiler\",\n      \"properties\": {\n        \"dtype\": \"int32\",\n        \"num_unique_values\": 2,\n        \"samples\": [\n          1,\n          0\n        ],\n        \"semantic_type\": \"\",\n        \"description\": \"\"\n      }\n    },\n    {\n      \"column\": \"review_text\",\n      \"properties\": {\n        \"dtype\": \"string\",\n        \"num_unique_values\": 10000,\n        \"samples\": [\n          \"This movie was filled with dark imagery, pain, and suffering. Some of the scenes in the plot seemed to me forced, as if someone on set said, \\\"and now cue the crying scene!\\\" Everyone did a great job acting and the female lead was naked throughout most of the movie, which was surprising to me. Anyway the movie was short and bitter and certainly not a feel good movie of the summer. However Darren Arnofski's films are never feel good movies with the exception of maybe the Fountain which I am a huge fan of.I would recommend this movie as a back up movie in case you didn't get the one you wanted in Netflix or whatever, but this movie isn't going to knock you off your rocker, nor will it make you wanna wrestle.\",\n          \"Highly offensive film that exploits witch stereotypes in the worst possible ways.I wonder if Sarah Jessica Parker is proud of making this film. She should be ashamed.And what's up with boob-love comments by an eight-year-old and other forms of sexual innuendo? No child should ever watch this film, despite some of the comments posted on IMDb, because it blends quite frightening themes of child abduction, cannibalism, Satanism, and necromancy into a story basically about teenage kids.Bette Midler has lost all of my respect and so has Kathy Najimy. Their willingness to whore themselves for such stereotypical garbage is embarrassing. And Hollywood's enduring connection between witchcraft and Satanism is both poorly informed and highly destructive.This film is, in short, a careless exploitation of witchcraft for petty profit. Leave it on the shelf.\"\n        ],\n        \"semantic_type\": \"\",\n        \"description\": \"\"\n      }\n    },\n    {\n      \"column\": \"rating\",\n      \"properties\": {\n        \"dtype\": \"number\",\n        \"std\": 2,\n        \"min\": 1,\n        \"max\": 10,\n        \"num_unique_values\": 10,\n        \"samples\": [\n          1,\n          3\n        ],\n        \"semantic_type\": \"\",\n        \"description\": \"\"\n      }\n    },\n    {\n      \"column\": \"review_summary\",\n      \"properties\": {\n        \"dtype\": \"string\",\n        \"num_unique_values\": 9723,\n        \"samples\": [\n          \"Exceptional Fantasy\",\n          \"Tom & Cuba\"\n        ],\n        \"semantic_type\": \"\",\n        \"description\": \"\"\n      }\n    },\n    {\n      \"column\": \"plot_synopsis\",\n      \"properties\": {\n        \"dtype\": \"category\",\n        \"num_unique_values\": 1285,\n        \"samples\": [\n          \"The Columbia torch buzzes then flashes like a neuralizer.A video shows Mysteries in History: Episode 27 -- Men in Black (the host: Peter Graves narrates): \\\"Although no one has been able to prove their existence, a quasi-government agency known as the Men in Black supposedly carries out secret operations here on Earth in order to keep us safe from aliens throughout the galaxies. Here is one of their stories that (making quotations marks with his fingers) 'never happened', from one of their files that doesn't exist.\\\" Crude props and effects accompany the story:\\\"1978. Leaders of Zartha flee their planet in order to escape the clutches of the evil Kylothian Serleena.\\\" (Serleena is represented by a jumbled mass of hoses). \\\"Arriving on Earth, the Zarthans bring with them their greatest treasure -- the Light of Zartha -- a cosmic force so powerful, that, in the wrong hands, it could spell the annihilation of Zartha. The Zarthans' princess, Lauranna (Paige Brooks), beseeched the Men in Black to hide the Light from Serleena. But they had no choice. Intervention would have meant the destruction of the Earth.\\\" (Serleena's space ship lands. It looks like an 8-ft tall metal ice cream drumstick with three landing legs.) \\\"However, in an act of galactic bravery, the Men in Black subdued Serleena, allowing the Zarthans to escape so they might hide the Light on another planet. Serleena, released from her captors, vowed that the Light would be hers, and that she would destroy any planet that stood in her way.\\\" (The reenactment ends.)Peter Graves finishes: \\\"And so, never knowing what happened, the people of Earth were once again saved by a secret society of protectors known as the Men in Black.\\\"Over the opening credits, Serleena's space ship flies through space, destroying planets it passes. It finally reaches Earth in July 2002.A dog in New York Central Park barks at the sky. The dog runs and gets away from the owner. Serleena's ship crash-lands in Central Park. The landing legs protrude and then extend to upright the ship. Out of the bottom opening, a tiny creature (Serleena) ejects onto the ground. The dog catches up to the ship (which is only a few inches tall) and barks at the creature, which looks like a strange mouthless serpent. The serpent's head opens up and roars loudly, scaring the dog away. The serpent slithers across the ground, coming across a magazine. Wind blows the pages open to an ad for Victoria's Secret; the female model wears black lingerie. The head opens wide and then hundreds of serpents come out, screeching and shrieking, forming a full-sized replica of the model in the magazine (Lara Flynn Boyle). Immediately after Serleena fully forms, a rapist dressed in leather grabs her and holds a knife to her neck. He licks her and tells her that she tastes good, and then drags her to a nearby bush. Hidden from view, Serleena roars and eats the man, his legs visible as she eats him upside down. Serleena says, \\\"Yeah, you too.\\\" She walks back from the bush, her stuffed stomach sloshing and gurgling, and then looks at the ad again. She growls then walks back to the bush and vomits the rapist, then comes back out slim again, carrying his clothing, then walks away.Men in Black (MiB) Agent J, \\\"Jay\\\", (Will Smith) and his latest partner, Agent T, \\\"Tee\\\", (Patrick Warburton), encounter a flower protruding from a sidewalk grating. Jay tells Tee, \\\"Nothing fancy, no heroics, by the book this time.\\\" Tee replies, \\\"Got it,\\\" then kicks the flower. Jay talks into the grating, telling \\\"Jeff\\\" that they're wondering what he's doing here. Tee kicks the flower again, and Jay looks at him, irritated. Jay continues his rebuke of Jeff, reiterating their arrangement: as long as Jeff stays within the \\\"E\\\", \\\"F\\\", and \\\"R\\\" subway lines, he can eat all the inorganic matter he wants. Tee grabs the flower and pulls on it, asking \\\"worm boy\\\" what he's doing. The grating shakes and Jay tries to calm Jeff. Jeff, a giant worm hundreds of feet long, bursts through the grating. Jeff takes Tee screaming with it into the air, holding onto the flower on its head. As Jeff takes Tee up, Jay apologizes to Jeff for his partner, who is \\\"new and kind of stupid.\\\" Jeff throws Tee onto the ground, and then withdraws back into the hole. Jeff's tail bursts out of the ground nearby and knocks Jay screaming into a fruit stand.Jay jumps into the first hole, landing on Jeff as it speeds through a subway tunnel. Jay bumps his head on the overhead, and then holds onto the flower. Jay's head knocks into some passing overhanging metal, and then he injects Jeff with the tranquilizer. After dodging more overhanging metal and some signals he pokes his hand and bumps his head again. Commuters are waiting by a station. They watch a subway train pass by, then watch Jeff pass by shrieking the other direction with Jay yelling. The commuters look back at their phones, magazines, and newspapers as if nothing abnormal happened. Jay has the hypo ready and raises it up to inject Jeff again, but it throws him screaming through the window of the subway car up ahead. Jay gets up and shows his MiB ID card to the passengers, telling them that he's from the Transit Authority. He tells them to move to the forward car because \\\"there's a bug in the electrical system,\\\" but no one even notices him. Jay repeats his request, telling them that there's a bug in the electrical system, then looks back. On cue, Jeff takes a bite out of the rear of the subway car, then the passengers scream and run to the forward car. Jay sarcastically tells them to sit down because it's only a 600-foot worm. Jeff takes another bite of the subway car. Jay tells the motorman, Capt. Larry Bridgewater (Peter Spellos), to \\\"put the hammer down,\\\" but he tells Jay that he decides what happens on the train. Jeff then takes a bite out of that subway car, and Capt. Bridgewater rushes to the control console. Jay walks to the rear of the subway car and threatens Jeff with his blaster, so Jeff closes its mouth and stops chasing them. Sparking as metal drags the ground, the shredded subway car limps into the 81st Street Station. Jay announces the arrival to the passengers. He steps out and zaps the passengers with his neuralizer, then sarcastically thanks them for participating in New York City's drill; had it been an actual emergency, they would have been eaten. He then lectures them about not listening, being ignorant and \\\"seeing it all,\\\" and ignoring his request to move to the next car. They recover, and Jay zaps them with the neuralizer again. He thanks them for participating in a drill, and hopes they enjoy the new smaller, more energy efficient subway cars. Jay walks away and zaps the motorman too.Jay calls MiB headquarters to secure the perimeter and to send a clean up crew to 81st and Central Park West. He then orders MiB to revoke Jeff's movement privileges immediately and escort him back to the Chamber St. station. He finally requests a check of the expiration date on the unipod worm tranquilizer. When he climbs the stairs out of the station, he tells two men that the station is closed for a drill; they become indignant. Jay says, \\\"You're welcome.\\\"Jay sits on a bench and Tee comes back to sit with him. Tee knows that he didn't go \\\"by the book.\\\" Jay asks him when he last looked at the stars, and if he ever felt alone in the universe. Tee isn't much for conversation. Finally Jay takes Tee to eat some pie.Scrad (Johnny Knoxville), a two-headed humanoid alien, returns to his place after a night on the town. His other head grows out of his back on a tentacle -- it's his smaller twin Charlie (Johnny Knoxville) whom he keeps in a backpack; both are equally stupid. Scrad is scolding Charlie for \\\"talking behind my back\\\" and chasing away a woman at a bar. Scrad turns around and sees Serleena, but doesn't recognize her. Charlie tries his pick-up line on her. Serleena strangles them with her serpent tentacles, and Scrad finally recognizes her. She tells him that she got his message, and asks where the Light is. Charlie wants $50 million to tell her, but Serleena puts tentacles through their ears and noses. Scrad tells her that although they couldn't find the Light, they tracked it to a guy who might know where it is; he runs a pizza parlor on Spring St. They all leave.Jay and Tee eat pie at the Empire Diner. It has a flying saucer sticking out of the roof, as if it crashed. Tee starts blubbering because he knows that Jay's going to neuralize him. Jay tells him to stop making a scene, and then asks him why he joined MiB. Tee replies that after six years in the Marines, he likes to serve, likes the action, and likes to protect the planet. Jay tells him that since he likes being a hero, he joined the wrong organization. Jay asks Tee if he heard of James Edwards (himself), but Tee says no. Jay says that he saved the lives of 85 people on the subway, but no one knows that he exists; therefore, how can anyone ever love him. Tee sobs loudly some more. Jay zaps Tee with the neuralizer. Jay tells Tee to get married and have a bunch of kids. As Jay leaves, he tells a waitress that his buddy is kind of shy, but thinks that she is hot. The waitress and Tee smile at each other.At Famous Ben's Pizza of Soho, Ben (Jack Kehler) (Laura's boss) presents Laura Vasquez (Rosario Dawson) with the \\\"Employee of the Month\\\" plaque on the wall. She gets a case of Mountain Dew from the basement. When she returns to the parlor, Serleena is holding Ben in the air, and is demanding that he give her information about the Light of Zartha. Ben claims that he doesn't know anything. Laura calls on the phone to report a robbery, then the back door pops open. Serleena repeatedly orders the dense Scrad to check on the door, so Laura hides under the counter. Scrad reports that the wind blew the door open. Serleena tells Ben that although she traveled the universe for 25 years looking for the Light, it never left Earth; they (the Zarthans) kept it on Earth. Ben still claims that he doesn't know what she's talking about. Laura peeks over the counter. Serleena tells Ben that even though they hid the Light, she will find it, and then Zartha will be theirs (the Kylothians). Ben finally answers in a deep alien voice that she's too late; at midnight the Light will leave the 3rd planet and be back home. Serleena growls then slashes him with a tentacle, splitting him in two and killing him, and his skin (a rubber-like suit) falls to the floor. Charlie complains that Ben is dead, and they didn't get any information from him. Serleena reminds the idiot that Ben said \\\"third planet.\\\" Serleena tells them that the Light is on Earth, and she knows who will tell her where it is. She takes a pan of pizza and they all leave. Laura cries silently while she sits on the floor behind the counter. Thunder rumbles then she looks up and it rains.Jay returns to MiB headquarters. The guard (Alpheus Merchant) wonders if Jay ever goes home and remarks that he neuralized another partner. When he goes to the customs bay, Jay immediately gives orders to various personnel how to do their jobs. He finally asks why a dead Tricrainasloph is going through passport control. (It looks like a giant pink blob with many tentacles.) Several men are trying to move it, including using a pallet jack. Jay goes to Zed's office, and Zed (Rip Torn) congratulates him on his work at the subway. Jay asks Zed what he has for him. Zed replies that others work at MiB too and can handle it. Jay asks again, but Zed refuses again. Jay tells Zed that he'll be in the gym if Zed needs him, so Zed finally tells him about the killing at the pizza parlor. Zed tells Jay to take Tee with him and make a report. Jay tries to tell Zed about Tee, but Frank (the alien talking pug) (voiced by Tim Blaney) comes in and interrupts them. Zed tells Jay to stop neuralizing MiB personnel, but Jay says that Tee was crying in the diner. Jay adds that Elle (Dr. Laurel Weaver, Linda Fiorentino, seen in Men in Black (1997)) doesn't count, because she wanted to go back to the morgue. Zed tells Jay that he needs a partner and Frank volunteers.In the garage, Frank, wearing a black suit, runs to keep up with Jay. Jay makes him remove the suit. Frank then talks endlessly as Jay brings his car out with a remote: a black 2003 Mercedes-Benz E-Class W211. A man (later revealed as the automatic pilot) is at the wheel. Jay drives down the street, and Frank hangs his head out the window while singing the song \\\"I Will Survive\\\". Jay makes Frank come back inside the car, but he hums the song instead. Finally Jay makes him be quiet.When they reach Famous Ben's Pizza, Frank wants to do the \\\"good cop/bad cop\\\" routine, but Jay tells him to just shut up. Jay meets two MiB agents in the parlor, who tell him that there's a phosphorous residue on the wall and floor, which they sent to MiB for analysis. Frank makes a joke about Ben, still on the floor: \\\"Zero percent body fat.\\\" The two MiB agents laugh but stop when Jay stares at them. They tell Jay that there was a witness, Laura Vasquez, whose name they wrote on a napkin. The napkin shows a pizza slice pointing at the Statue of Liberty, whose torch points at a star in the sky. Another MiB agent in the kitchen is questioning Laura, who wants answers of her own. Jay goes to the kitchen to handle it, but makes Frank stay there and \\\"sniff around.\\\" The agent in the kitchen is telling Laura that everything will be all right, but Jay counters that and makes him leave. When she describes what she saw, Jay tells her that Ben's skin isn't really skin, but is a protoplasma polymer chemically similar to material used in baseball card gum. He then takes her to eat pie.At Empire Diner, Laura tells Jay that Serleena kept asking Ben about a light, the Light of Zartha. He asks her if she's OK, but she sarcastically tells him that an hour ago a man she's known her entire life vanished in front of her eyes because of a woman with things coming out of her fingers and a two-headed guy with the \\\"IQ of a cannoli\\\", but everything is OK. Laura says that she knows what she saw, and asks Jay what she's supposed to believe. He tells her that he's a member of a secret organization that polices and monitors alien activity on Planet Earth; Ben was an alien, and so were the people who killed him. Jay says that he doesn't know why they killed Ben, but he will find out. Jay pulls out his neuralizer and points it at her, and she expects that he'll kill her. He tells her that it will flash and put everything back the way it was before. She wonders that after he \\\"flashes\\\" her, if she'll know it's him if she sees him again. He replies that he'll see her but she won't see him. He points the neuralizer at her, but she tells him that it must be hard and lonely. A bicycle bell rings, and Jay looks out the window to see two people riding a tandem bicycle again, their clothing and the bike covered with lights (as seen in Men in Black (1997)). One of Jay's devices beeps, and he puts away the neuralizer. She asks about the \\\"flashy thing\\\", and he tells her that he'll flash her some other time. Jay goes outside and finds Frank in the car barking rhythmically to the song, \\\"Who Let the Dogs Out\\\" (by Baha Men). Jay turns off the radio and then gets in and starts the car. Frank asks Jay if he told the girl that he loves her, but he replies that she's just a witness to a crime. Frank knows that Jay is attracted to her, but Jay refuses to take his advice.Jay and Frank arrive at the park where Serleena landed and killed the rapist. Many MiB personnel are there and have secured the area. When Jay and Frank get out, Frank tries to act important, telling everyone that he's Agent Eff, Agent Jay's new partner. An agent laughs at Frank, so Frank attacks him. Jay goes inside a tent and finds Serleena's spaceship, then calls Zed on a communicator, which looks like a cross between a videophone, a Game Boy, and a PDA. Jay tells Zed that the space ship is Kylothian, Class \\\"C\\\". Zed replies that it's Serleena's. Jay tells Zed that the witness said that the perps were looking for the Light of (Zed finishes) Zartha. Zed replies that it doesn't make sense, because the Light is not on Earth; they took care of that a long time ago. Jay retorts that obviously they didn't. Zed tells Jay that it's very bad news; 25 years ago the Zarthans came to Earth to hide the Light from Serleena. Jay says that they don't do that. Zed replies that it's why he ordered it off the planet. Jay asks Zed if he's sure the Light isn't still here, because of the Kylothian ship in the park. Zed replies that he's positive, because his best agent carried it out, just as if he ordered Jay to do it. Jay says that they should ask the agent, but Zed replies that they can't -- he's \\\"dead\\\" -- he works at the Post Office. Jay is shocked. Zed tells him that if Serleena gets to Kay before they do, he's dead; Earth's existence may depend on Kay's knowledge, but Jay wiped out Kay's memory of it. Zed orders Jay to bring Kay in.Jay and Frank go to retrieve Kay. Frank rambles on about how cool it is to get the great agent Kay, Jay's mentor. They arrive at the small town of Truro, Massachusetts, and Jay tells Frank to stay in the car. Inside the post office, Kay grins when he sees that the former Agent Kay, Kevin Brown (Tommy Lee Jones), is now the postmaster. Kevin is reminding customers to properly wrap their packages. Jay walks up and addresses Kevin as Kay, but he replies, \\\"C, Express Mail, two-day air.\\\" Jay tells Kevin that although he doesn't remember Jay, they used to work together. Kevin replies that he never worked in a funeral home and asks \\\"slick\\\" how he can help him. Jay tells him that Kay is a former agent of a top-secret organization that monitors extraterrestrials on Earth; they are the Men in Black, have a situation, and need his help. Kevin tells him to go to the free mental health clinic. Kevin calls the next customer, a girl (Chloe Sonnenfeld) who wants to buy some \\\"Rugrats\\\" stamps. Jay picks up the girl and sets her back in line. He tells Kevin that there was no coma; it was a cover up. Kevin orders him to leave, but Jay calls him Kay again. Kevin walks to the back office and Jay follows him in. Kevin informs the postal employees that they've had a breach, then orders them to cordon off the area and do a full wipe down, and to escort nonessential civilian personnel off the site (acting like he still works at MiB). As Kevin looks on, Jay researches one of the employees on his communicator. Jay speaks to him in an alien language that sounds like beatboxing. The man (Biz Markie responds in the alien language. All the other employees (including one that looks like Howard Stern) stop work to observe the conversation. Kevin looks around in disbelief as the other employees reveal themselves to be aliens too. Jay tells Kevin that the reason why he's so comfortable there is that just about everybody who works in the Post Office is an alien. Jay opens the mail-sorting machine, revealing a eight-armed alien (Jeremy Howard) instead of machinery. (The song \\\"Speed Demon\\\" plays.) Kevin removes the alien's cigarette and tells him, \\\"No smoking.\\\" When Kevin gets back up, the alien puts another cigarette in his mouth and continues sorting mail. Jay catches up to Kevin, who is trying unsuccessfully to start his Jeep. Kevin tells him that in Las Vegas he and his wife saw Siegfried and Roy fly a white tiger around a room; Jay's act is nothing special. Jay responds that when Kevin looks up at the stars he feels like he doesn't know who he is, like he knows more about what's going on out there than down here. Jay tells him that it's why his wife left him and Kevin punches Jay in the nose. Jay tells Kevin that if he wants to know who he really is, to come ride with him; otherwise he can give people their TV Guides. Kevin gets in the car and tells Jay that he's just going for a ride; if things don't add up he will leave. Frank asks Kevin, \\\"How's it hanging,\\\" but he just stares at the dog.At MiB headquarters, the guard greets Kay, but he doesn't recognize the guard. In the main bay, two men and a flying device greet Kay. Agent Gee (Sid Hillman) is awestruck by Kay, \\\"the legend, the most respected agent in the history of MiB, the most feared human in the universe -- in the flesh.\\\" He goes to get coffee for Kay, but runs away before Jay can give him his coffee request. Michael Jackson (Michael Jackson) calls Zed from amongst a flock of penguins in Antarctica. He reports that the Drolocks are gone and the treaty is signed. Zed tells him that it's good work. He asks Zed about the position at MiB that Zed promised him, but Zed replies that they're still working on the alien Affirmative Action program. He tells Zed that he wants to be Agent M, but Zed hangs up. Zed greets Kay and tells him that the Earth might be in trouble and he's the only one who can save it. Kay starts quoting the Post Office motto (\\\"Neither rain nor sleet nor snow...\\\"). Zed tells Jay to get Kay armed, up to speed, and to deneuralization. As Jay and Kay leave, Zed makes Frank stay behind because he needs Jay and Kay together on this assignment. Zed tells Frank that he's looking for a new assistant; although it's not fieldwork, it provides better dental coverage. Frank smiles appreciatively, showing his bad teeth.Jay takes Kay into the tech unit, which holds the most advanced technologies from all over the universe. Kay sees a blue globe on a stand and sticks a finger in the globe. The globe is actually a miniature planet full of tiny aliens, who scream at the finger coming from the sky and run away. Jay hears the screams and tells Kay not to touch it; he quickly removes his finger and says that he didn't do anything. Jay tells Kay to put his hands in his pockets. Jay opens the armory and gives Kay his \\\"favorite weapon\\\": the Noisy Cricket (the same weapon Kay issued Jay in Men in Black (1997)). Jay then takes Kay to put on the last suit he'll ever wear -- again.After Kay gets his suit, Jay takes Kay to a room with plain white walls. The deneuralizer hangs from the ceiling over a hole in the middle of the floor. Jay explains its operation to Kay: \\\"In a few moments, transverse magneto energy will surge through your brain, unlocking information hidden deep and dormant that could hold the key to Earths very survival.\\\" Kay points to the deneuralizer (which is the only thing in the room) and asks what it is. Jay replies that it's the deneuralizer, then he sighs.At Earth customs, Scrad/Charlie wait while a customs agent (Peter Spruyt) asks for Serleena's name and planet of origin. She replies, \\\"Sylona Gorth. Planet Gorn. Kaluth system.\\\" When the agent asks if she has any fruits or vegetables, she motions to Scrad/Charlie and replies, \\\"Yeah, two heads of cabbage.\\\" The agent asks for her reason of visit, and she replies that it's for education, that she wants to learn how to be an underwear model. She unzips her vest and flashes her bra at the agent. Scrad/Charlie faint; Charlie recovers and yells for help, then attempts CPR on Scrad. Other MiB agents, who were watching Martha Stewart (Martha Stewart) on the big screen TV, run over to help. Serleena shoots her tentacles out and snares the agent who was waiting on her. The alarm sounds and a female voice announces \\\"Lockdown. Code 101.\\\" on the P.A. system. When Frank hears the alarm he hides behind the tentacles of the dead Tricrainasloph, which has been stuffed into a corner. Serleena subdues the rest of the MiB agents with her tentacles.Jay hears the alarm and tells Kay that there is a breach, and that they're being firewalled and flushed. He helps Kay out of the deneuralizer before it starts. Jay tells Kay that being flushed is like going to a water park, but Kay doesn't know if he ever went to one. There is a loud flushing noise, then blue liquid floods the room. The overhead view shows that the room is shaped like a giant toilet bowl, complete with a seat (and the deneuralizer has retracted). The water swirls through the drain hole, taking Kay and Jay with it. They shoot through clear tubes and end up in two metal capsules in Times Square. The capsule doors open and the water pours out. Jay jokes with Kay, telling him that when Kay was an agent he loved to be flushed. He tells Kay not quit on him. Kay responds with, \\\"I save the world, you tell me why I stare at the stars.\\\"Jay brings his car to the curb with the remote. He presses a button on the remote, and the automatic pilot gets sucked into the steering wheel. Kay asks if it's standard, and Jay replies that it came with a Black dude, but he kept getting pulled over.Serleena has stuffed the MiB agents in some offices, subdued by her writhing tentacles. As she walks away, she remarks that she could rule this silly little planet with the right set of mammary glands. While driving, Kay brings up MiB surveillance on the computer, which shows that MiB is deserted -- lockdown. He calls Frank on the communicator. Frank tells Jay that some \\\"hot-looking biker chick\\\" did it. Jay tells Frank to stay where he is, and that he'll keep in touch. Serleena asks Scrad/Charlie if they found Kay. They reply that he's a civilian; he was here to be deneuralized because his memory was erased, but he's gone. They assure Serleena that they will find Kay.Kay finds an old photo of himself in his coat pocket and shows it to Jay. It's the left half of a picture that was cut off, and Kay is smiling and pointing to his right. They both wonder what is means. Kay asks Jay if there is another deneuralizer besides the one at MiB. Jay replies that it's the only official one; the plans leaked out on the Internet a few years ago. Jay finds one for sale on eBay by Jack Jeebs (whom they went to in Men in Black (1997)).Jay and Kay arrive at Jeebs' pawnshop at night. Jeebs (Tony Shalhoub) greets Jay enthusiastically but is surprised to see Kay, because he thought Kay was retired. Jay tells Jeebs that they need the deneuralizer, but he looks at Kay and asks if Kay remembers him. Kay replies that he doesn't, that he's pretty good with faces, and would remember that (pointing to Jeebs nose). Jeebs laughs because Kay is \\\"a neutral.\\\" Kay tells Jeebs that he's in the way of his memories, and asks Jeebs if he has the deneuralizer. Jeebs says that he doesn't have it. After a stare down by Kay and Jay, Jeebs remarks that even if he did have it, Jay would blow his head off if it doesn't work and Kay dies, and Kay would blow his head if it works. Jay holds a fission carbonizer to Jeebs' head, so he takes them downstairs to the deneuralizer.Serleena has released MiB's alien prisoners, \\\"the scum of the universe\\\", to help her get Kay: a guy with a funny chin and wearing a scarf; a White guy; a bald guy with pointy ears, a misshapen nose, and tendrils on his face; and a Black Guy. She tells them that she needs the Light of Zartha and Kay knows where it is; whoever brings Kay to her gets Earth. She tells Scrad/Charlie to find a deneuralizer because Kay needs it to get his memories back. She then greets Jarra (John Alexander), a very tall alien, who glides forward to meet her.Kay is seated and strapped down in the deneuralizer and Jeebs is giving him safety instructions. Jeebs sticks a tube in Kay's mouth. Jeebs delays by asking Kay irrelevant questions, but Jay shouts at him so he starts the deneuralizer (with an outboard motor). Jeebs tells Jay that he only used the deneuralizer once, to make hot air popcorn with the exhaust. Clamps come down against Kay's head. A strobe light flashes in Kay's face and a large fan spins above the chair, then the chair shakes. Jeebs presses a key on the keyboard, then some eggbeaters spin and a bowling ball goes down a ramp around the deneuralizer chair. A alarm sounds and flashes, then the deneuralizer stops, then all the power there and in New York City goes out. After a few seconds, the power comes back on and the deneuralizer starts back up. The chair shakes violently then tilts back, then ejects Kay gasping (with the seat back) onto the floor. Jay and Jeebs lean over Kay to check on him, and then Kay blows off Jeebs' head with the Noisy Cricket. Jay thinks that Kay is \\\"back\\\", but he says that he's not. Jay asks him how he knew that Jeebs' head would grow back, but he didn't know that it would. As his head grows back, Jeebs says that it's the last time he helps out a friend. Jay asks Kay if he remembers anything, but he just says goodbye. As Kay rushes up the stairs, Jeebs tells him that that he never got the updated software for the deneuralizer, and that Kay's brain needs to reboot.Jeebs apologizes to Jay, and hopes that it doesn't affect their friendship, \\\"all those years of loyalty and trust, respect for one another.\\\" Immediately afterwards, Serleena's henchmen break through the walls, and Jeebs directs them to Jay. They shoot at Jay then ask for Kay, but Jay shoots Jeebs' head then tells them that Kay retired and he's his replacement. The alien with face tendrils jumps through the ceiling and they subdue Jay, throwing him to the floor. Scrad asks Jay where Kay is, but Jay feigns ignorance. The White alien grabs Jay but Jay punches his face, knocking the mask off. The alien looks like the Creature from the Black Lagoon with a lumpy face & head (Corn Face) (Michael Garvey). Jay tells him that he looks like crap, then another alien laughs (the one that looks like a dog with a poop-covered head) (Dog Poop) (Sonny Tipton). Jay corrects himself, saying that that the other alien looks like crap. The Black alien orders that they \\\"bend him.\\\" Corn Face picks up Jay over his head and starts \\\"bending\\\" him. Kay walks outside and looks around. He sees: the two lighted guys on the tandem bike; a homeless man pushing a shopping cart, with a crab-like creature with lights for eyes peeking out from under a blanket; two hookers dressed for Halloween; and a USPS mail carrier with a tail hanging out from his shorts. Kay then sees a cockroach crawling on the ground and goes to step on it, but he changes his mind. The roach thanks him. Kay looks up at the stars for a while, and then finally smiles. Corn Face is still \\\"bending\\\" Jay. Scrad tells the thugs that he thinks Jay is telling the truth, so Corn Face says that he's no good to them. Kay comes in and shoots Dog Poop and Corn Face. He defeats the other thugs using Jay's advice on their weaknesses. The Black guy is Pineal Eye (Kevin Grevioux); Kay removes the hat and pokes his eye. The alien with tendrils on his face is Mosh Tendrils (Derek Mears); Kay pulls his tendrils and slingshots him into the ceiling. When Kay kicks the last thug between the legs, it makes a metallic clank. Jay tells Kay that he's a Ball-Chinnean (Michael Dahlen); Kay pulls down his scarf, revealing testicles, and kicks them, knocking him out. Kay has his memory back and is Jay's partner again. Jay asks Kay what's going on, and what is the Light of Zartha, but Kay doesn't know.Outside, Jay asks Kay why he doesn't remember what the Light of Zartha is. He replies that he must have neuralized himself to keep the information from himself. Kay goes to the driver's side of Jay's car, telling Jay that he always does the driving. Pointing to Kay and himself, Jay replies that Kay and his car are old and busted, and Jay and his car are new hotness. Kay stares at Jay until he gives him the remote.At MiB, Serleena is holding Zed in the air with her tentacles. She releases her tentacles and he falls to the floor, then she kicks him. She tells him that they both need the same thing, and then she kicks him again, knocking him into his chair. She shoves Zed's cell phone to him, but he refuses to bring Kay in. She reminds him that the Light will self-destruct if it's not off the Earth by midnight, annihilating the planet. She tells him that they can both lose or both win, because he doesn't want the Light on Earth any more than she does. Zed dials his phone and hands it to her, telling her that she wins. Michael Jackson answers, still asking Zed if he could be Agent M. Zed knocks Serleena over the head with his lamp then jumps and flips over her. He kicks her in the face several times, but nothing fazes her. She knocks him to the floor with a tentacle, then kicks him in the face and knocks him out. She then notices a tentacle of the dead Tricrainasloph move.Jay tells Kay what the fastest way to MiB is but he passes it. Jay tells him that they need to go to MiB because headquarters has been breached; they have to \\\"bust in there, and peel some caps, and split some wigs up in that joint.\\\" Kay replies that he's not ready. Jay says that Kay's been gone for five years, which is a long time in this game; he understands if Kay is scared, because he is too. Kay replies that he's not scared, so Jay says that neither is he; he thought they were bonding. Kay tells him that after five years, he's still acting like a rookie by talking about splitting wigs and stepping on caps; it's no wonder Zed brought him back. Jay counters that Zed brought Kay back because he messed up. Kay says that Jay's attitude is creating a very stressful work environment. Jay says that MiB has a stressful work environment. Kay says that Serleena thinks that Kay knows where the Light is, so she broke into MiB to lure him back. Jay adds that it's a trap -- which is why they shouldn't bust into MiB. They go to the \\\"scene of the crime\\\": Famous Ben's pizza.Jay tells Kay that he's going to talk to the witness. Kay wonders why he didn't neuralize her, according to MiB procedures, which he quotes. Laura swings a pizza tray at Kay, but he ducks and she hits Jay's face instead. Jay introduces Kay to her. She thanks Jay for sending some agents to watch her last night. Kay rebukes Jay again, quoting MiB procedures. Jay talks about the crime, then Kay notices a photo of Ben holding a large fish. The clouds over the fish were removed, as if done by Photoshop. Jay takes Kay's picture and places it over the photo, matching it perfectly. Jay notices that Kay left himself clues. Kay is pointing at something, so Jay puts his head against the wall (bumping a green key & key ring hanging on the wall), and follows the direction across the room. Kay sees the key and sighs, and tries to stop Jay. Jay reaches a photo on the wall of an astronaut pointing, and repeats his procedure. Kay just shakes his head in disappointment. Jay reaches some pizza boxes stacked on their corners, and wonders who would stack pizza boxes like that. He deduces that the stacker was leaving clues, and that the pizza slice is an arrow. The camera zooms in on the photo then on the key, which is labeled \\\"GCT\\\". Kay again tries to stop Jay, but he says that Kay is slowing him down. Jay finally reaches a steel cabinet and takes out a can of anchovy fillets in virgin olive oil. Kay shakes the key and tells Jay that he hopes he's not slowing Jay down. Kay pulls out his deneuralizer but Jay stops him, saying that Laura could be important to him -- to them, and could help them later. Kay puts away his deneuralizer but says that she can't stay there because they (the aliens) will be back, then he walks out. Jay takes her to stay with some of his \\\"friends\\\".Jay takes Laura to the Worms' place, a large suite with a low ceiling, and he bumps his head. Jay tells them that MiB is Code 101, and introduces Laura. He stops their catcalls and apologizes for them, but Laura replies that she's dated worse. Jay tells her that the Worms are under suspension right now for stealing from the duty-free shop. Kay comes in and reminds Jay that the car is double-parked. Jay tells the Worms that Laura is very important to him, then adds to them (Jay and Kay), to the stuff they're doing. Kay then leaves. Jay asks them to watch Laura. They are very enthusiastic about it. Jay hands her his communicator in case she needs it and she kisses him. All the worms \\\"wooo\\\" and laugh. Jay tells her to watch out for Neeble, but has to ask them which one is Neeble; the Worm in the jacuzzi (voiced by Thom Fountain) answers. Jay tells her that it's safe but not to fall asleep, then leaves. The worms start a game of Twister, and Laura smiles.Jay catches up to Kay and reviews Kay's plan because it confuses him: since Kay neuralized himself and erased his memory of the Light of Zartha, he left himself clues; the photo from an old suit points to a key in a pizzeria; the key opens a locker at Grand Central Terminal, which will give them another clue. Kay replies that it's right, because he likes to keep his enemies confused. Jay says that they're all confused.At Grand Central Terminal, Kay tells Jay not to slow him down, and then sends him to get them coffee while he opens the locker. Jay becomes indignant, but Kay says that he doesn't know what's in there and Jay could get hurt. Kay opens the locker, revealing hundreds of tiny aliens in a tiny town. The town is full of discarded ordinary items from Earth, plus miniature buildings from a department store. The aliens hail Kay, and then start to sing the Star Spangle Banner, with Kay's name inserted. Kay asks them if he left anything there. They say that he did: the timekeeper (Kay's watch) -- to illuminate their streets and their hearts. Kay takes back his watch from the clock tower and puts it on, and they panic. Jay takes off his watch and puts it on the clock tower, so they now hail Jay. Kay starts to close the locker, but they tell him that he forgot the commandments on the tablet. They chant, \\\"The tablet! The tablet!\\\" The mayor (Peter Siragusa), an alien that looks like Moses, says that they have lived by its word, and peace has reigned throughout their world; pass it onto others, that they too may be enlightened. The others chant: \\\"Be kind. Rewind.\\\" Kay takes the \\\"tablet\\\", which is a business card from Tapeworm Video Store. The mayor tells Kay to go back and reconcile his past so that he can move tranquilly into his future. The others chant \\\"Two for one, every Wednesday\\\", then \\\"Large adult entertainment section in the back.\\\" All the aliens then turn around and laugh and rush into a XXX \\\"fun zone\\\". Jay says that it's just nasty, and closes the locker. Jay asks Kay what the video card is for, but he doesn't know. Jay then asks Kay what the watch is for. Kay replies that it's to remind him that they have until midnight, which according to his watch is less than an hour away.Kay and Jay arrive at Tapeworm Video. Jay wants to stop chasing ridiculous clues. He wants to get a couple of fission carbonizers and take back headquarters, but Kay tells him that it's all about to make sense. He gives his card to the clerk (Colombe Jacobsen-Derstine), but she says that it hasn't been used in years, before she was born. Kay tells her that he's been away on business. Jay adds, \\\"billions of frequent flier miles.\\\" The clerk says that it's hard to use them, and then rambles on about wanting to go to Cambodia, how you can get a lobster dinner for a dollar. Kay stops her, so she tells him that he never checked out a video, but reserved one and didn't pick it up. She calls her boyfriend Newton (David Cross), the manager, who comes back from the bathroom. He's paranoid about aliens. He tells Kay that he reserved \\\"Episode 27: Light of Zartha\\\", and tells Kay that they've got it.At MiB HQ, Serleena asks Jarra why he was locked up. He replies that Agent Jay caught him siphoning the Earth's ozone to sell it on the black market. She tells him that she needs a spacecraft that can go 300 times the speed of light. He tells her to give him Jay and it will be even. She agrees and gives him until midnight, and then he glides away. Serleena calls Gatbot, which looks like a steel cylindrical trash can, for a special job.Newton takes Kay and Jay upstairs to his bedroom, which he has devoted to aliens. He lives with his mother. Newton's girlfriend tells him that she wants to have his baby. His mother yells to him offering him mini pizza, and he offers some to Kay and Jay. They just stare at him. Newton yells back that they don't want any, then gets the videotape. Jay is relieved that they finally have some hard evidence. Newton starts rambling about aliens and anal probing, but Jay prods him to play the tape.As the video plays, Jay remarks that it looks like Spielberg's work. Newton starts saying the words along with the video, but Kay and Jay stare at him so he stops. When the video talks about the Keeper of the Light, Kay says softly,\\\" Lauranna,\\\" and Jay looks at him. Kay also says, \\\"No. It was night... and it was raining.\\\"The scene changes to a black-and-white flashback of the way it actually happened. Serleena tells Kay, \\\"You've been very wise.\\\" Ambassador Lauranna (Linda Kim) says, \\\"Kay, please, if Serleena gets the light, it's the end of our world.\\\" Kay replies, \\\"Madame Ambassador, if we extend the protection of the light beyond the Earth, we put the Earth itself in jeopardy. We have no choice. We must remain neutral.\\\" Serleena asks, \\\"Where is it?\\\" Kay replies, \\\"We're neutral, remember? You want it, go get it.\\\" He uses his watch to launch a spaceship. Serleena shouts \\\"No!\\\" She shoots Lauranna, killing her, and then chases after the spaceship with her own spaceship. Kay bends over Lauranna, and then opens his hand to reveal a bracelet.Back in the present, Kay is crying silently as the video finishes: \\\"And so, never knowing it happened, the people of Earth were once again saved by a secret society of protectors...\\\" Kay turns off the video and says that he \\\"shouldn't have.\\\" Jay deduces correctly that they didn't send the Light off the planet and hid it on Earth. Kay says, \\\"The Worm Guys,\\\" and goes downstairs; he neuralizes Newton's mother. Newton recognizes the neuralizer just before Jay neuralizes Newton and his girlfriend. Jay tells Newton to get contacts instead of his glasses, then to take his girlfriend to Cambodia for a lobster dinner (and to pay more than a dollar); when he gets back from Cambodia he should move out his mom's house. Jay finishes with saying that there are no such things as aliens or Men in Black. Newton takes off his glasses and asks his girlfriend if she wants to go to Cambodia, and she agrees. Newton picks up a shovel as they go downstairs and he calls his mother.While Kay drives, Jay calls Laura on his communicator. She tells him that they (she and the worms) are playing Twister. Jay asks her if she's wearing a bracelet. She replies that she is. Kay asks her if it's glowing, and she replies that it never did that before. (The bracelet is the same one that Kay held in the flashback; the triangle shape on it is glowing now.) Jay tells her that they're on the way. Jay calls Frank and tells him to deactivate the lockdown because they're on the way to the worm guys and they found the Light. Frank is tied up and Serleena acknowledges in Frank's voice. Serleena leaves Frank and calls for Scrad. Frank mumbles, \\\"Bitch.\\\"Kay asks Jay why he didn't tell Laura that he loved her. Kay knows that Jay is in love with her, which is why he didn't neuralize her; he got emotionally involved. Jay retorts that Kay did the same with Lauranna. Kay tells Jay that he (Kay) put Earth in danger because he got involved, and doesn't want to see Jay make his mistakes.Kay and Jay arrive at the Worm Guys' place; it's wrecked and the Worms are seriously injured. Jay asks them where Laura is. They reply that some dumb two-headed guy took her to MiB headquarters. Kay says that they (Serleena and the others) have the bracelet, and that there's only 39 minutes left, so Kay and Jay leave. The Worm Guys chase after them. Jay asks Kay why she took Laura if she has the bracelet. Kay replies that she also wants him (Kay). They go get some \\\"wig-splitting\\\" weapons.A man, his wife, and their daughter are watching Martha Stewart on TV. Kay and Jay barge into their apartment. Kay tells them that he used to live there and came to pick up a few things, then moves the thermostat control left and right and left quickly. The back wall of the living room slides up, revealing walls and cabinets full of weapons. Mannix the Worm (voiced by Brad Abrell) remarks that it's a nice place. The Worm Guys, Jay, and Kay get some weapons. Kay closes the back wall with the thermostat then Jay neuralizes the family.Inside MiB headquarters, Jarra has completed constructing a spaceship; pieces of rockets and machinery litter the room. Laura is in the spaceship. A female voice announces on the P.A. that there's 4 minutes to launch. Jarra informs Serleena that her ship is ready, so she tells him to send it to Kyloth now.Outside MiB headquarters, Jay aims his weapon to shoot a hole in the building, but Kay tries to stop him. Jay fires anyway, and they get sucked in and lose their weapons. Kay rebukes Jay for shooting MiB because it's in Code 101 lockdown. A hot dog stand gets sucked in too, and the umbrella plugs up the hole. The guard calmly picks a hot dog off his suit and says that it's about time they got there, because \\\"that pretty lady in there is causing all kinds of hell.\\\" He resumes reading The Weekly World News.The elevator opens to the MiB main bay, and Gatbot opens up, extending its rotary machine guns. It shoots the elevator full of holes, but Kay, Jay, and the Worms are hiding against the ceiling. Kay tells Jay to get to the launch pad on the roof; the bracelet shows the departure point. He also orders Jay not to come back for him. Kay hangs down and gives cover fire against Gatbot with his blasters while Jay runs to the other elevator, which leads to the roof. Kay then sends the worms through the elevator ceiling to shut off the power to the launch pad so that the spaceship can't take off. Gatbot enters the elevator and Kay throws a grenade down, and then jumps out of the elevator before the doors close and the grenade explodes. Serleena is waiting for him, and captures him with her tentacles.Jay reaches the spaceship, but Jarra blocks his way. Jarra has been locked up for 5 years and 42 days. Jarra drops his cloak to reveal that he's made up of four parts: one large flying ship and three smaller flying ships -- all with his head and torso, and metal tentacles hanging down. One of the smaller Jarras takes away Jay's blaster.Kay tells Serleena that he should have vaporized her when he had the chance. She remarks that he really loved Lauranna. She calls him a silly little man and sticks her tentacle tongue into his ear.Jay tries unsuccessfully to reach the larger Jarra because of the smaller ones. A female voice announces on the P.A. that there's two minutes to launch. Laura tells Jay to go and that she'll be fine, but Jay replies that he's winning. He tells Jarra that he's arresting him for being that ugly and making copies of himself. Jay picks up a scrap pipe and bats away one of the small Jarras, knocking it against a wall and destroying it. Another small Jarra takes Jay away and drops him, but he lands safely on some large clear tubing.The Worm Guys -- Mannix, Neeble, Sleeble (voiced by Greg Ballora), and Gleeble (voiced by Carl J. Johnson) -- walk down a passageway. They forgot Kay's instructions on where to shut off the power.Jay and the large Jarra charge at each other and collide, then Jarra takes Jay around the room. Jay punches a small Jarra and it hits a machine and gets destroyed. Jay covers large Jarra's eyes, then grabs the control lever, then large Jarra crashes into the remaining small Jarra, destroying them both. Jay jumps away in time and lands on the tubing. As Jay struggles to get off the tubing, a female voice announces on the P.A. that there's 30 seconds to launch. Jay finally gets off the tubing then turns off the countdown before it reaches zero. He releases Laura and tells her that he didn't leave her because he never runs out on a fight.Serleena has Kay in the air. She calls Kay an insignificant speck and tells him that he lost. She says that he wasted 25 years of her time for the complete and total annihilation of Zartha, because he went mushy. Kay tells her that she has one last chance to surrender. Serleena asks him how he can stop her, but Kay says that it's not him. Jay shoots her with a large weapon, telling her that her flight has been cancelled, and vaporizing her. Kay falls to the floor.Mannix lands in the control room and presses a random button, turning off all the power in MiB. Kay brings the car over with the remote. Jay tells Laura to give him the bracelet. She tells him that she's going with them, and Kay tells him that she should get in the car too. They drive away, revealing that Serleena was only stunned. The tiny creature sends out tentacles again.As they drive, Laura remarks that it's hard to believe that everyone is after her charm bracelet. Jay replies that she would be surprised how often it's something small like that. Kay tells him them that it's not the Light -- it shows the departure point; if they don't reach the departure point in 11 minutes & 15 seconds the bracelet will go nuclear and destroy all life on Earth. Suddenly Serleena rams the back of the car with her spaceship. Jay tries to stop him, but Kay presses the red button on the shift lever. The car transforms into a flying rocket car, slamming them against the seats. They fly through Times Square with Serleena chasing them. Jay tells Kay that the car is modified to hyper speed. Kay tells them to put on their seatbelts, but they don't. A handle-type steering wheel (with controls similar to that of a game console) comes out of the dash and Jay tells Kay that it's the navigational stalk; he has to use it during hyper speed. Kay grabs the navigational stalk and sends the car upside down; Jay and Laura didn't put on their seatbelts and fall to the ceiling. Serleena shoots the car several times as they fly over New York Harbor. Jay tells Kay how to use the controls and he rights the car; Laura and Jay fall onto the back seat. Jay climbs back into his seat and calls the worms at MiB. Frank and the Worm Guys are drinking martinis and smoking cigars, and Frank is telling them about one of his \\\"chicks\\\". Jay tells Frank to use the computer to lock onto Serleenas ship and destroy it. Serleena shoots the car, breaking the communication. Frank says that Jay was the best damn partner a Remoolian could ever have. Kay activates the automatic pilot, which pops up in front of him, but it doesn't work. Jay tells him that it doesn't operate at hyper speed and retracts the automatic pilot. Kay replies that he's used to a steering wheel, but Jay says that it's all they have. Jay asks Kay if his mother ever gave him a Game Boy, buy Kay asks what that is. Jay and Kay switch seats in mid flight. They fly into the subway with Serleena still shooting at them and she calls them idiots. Kay tells Jay that the subway is not the best place to lose her, but Jay shushes him and wonders where Jeff is. Kay asks who Jay is talking about and they see Jeff straight ahead. Jay lands the car at the last second and Serleena flies into Jeffs open mouth, who then chews and swallows her spaceship. The automatic pilot pops up in front of Jay.They land on the rooftop of a tall building. The car transforms back to normal and they get out. Jay tells Kay that they're running out of time and asks him where the Light is, and Kay says that Laura is the Light. Laura is incredulous. Kay tells her that she has a planet to save, but she replies that he has her confused with somebody else; she works part-time at a pizzeria. Kay tells her that two days ago he was running a post office in Truro, Massachusetts; you are who you are. While Kay explains Laura's purpose on Earth, Jay sees the triangular-shaped skylight, which matches the triangle shape on Laura's bracelet, and then pulls out the napkin from Famous Ben's Pizza. Kay is telling Laura that she is the Light; she's the leader of her people, their spirit and their hope; the power is within her to save the planet; \\\"I protected you until it was your time. Your time is now. You were hidden on Earth 25 years ago to...\\\" Jay looks at the Statue of Liberty then looks up and sees the star. \\\"Kay continues: You are going to save a world. You know things before they happen.\\\" She replies that she can't; she's a Libra. Kay tells her that she is a Zarthan; when she gets sad it always seems to rain. She replies that lots of people get sad when it rains. Kay tells her that it rains because she's sad. The \\\"star\\\" emits a bright beam of light onto a large egg-shaped object on the roof, transforming it into a transport pod, and it opens up. Jay leans against the car dejectedly, and then he and Laura look sadly at each other. Even though they realize it's not fair, Jay and Laura accept her destiny. Suddenly Jeff bursts through the skylight, roaring and baring his teeth. Jay shouts at Jeff, saying that he's not in the mood for him, and orders him to get back in the subway. Jeff bursts apart, revealing a giant serpent: Serleena. As Kay takes Laura to the transport pod, Serleena shoots out tentacles toward Laura. Jay jumps in front of Laura, so the tentacles get him instead. Jay shouts at Laura that she has to go. Kay shoots at Serleena with his blaster and assures Laura that Jay is fine and does this all the time. As Jay struggles with the tentacles, he shouts at Laura that it's her destiny. Kay shoots at Serleena then tells Laura that if she doesn't go they will all die. He shoots at Serleena again without looking, and then tells Laura that she's just as beautiful as her mother. Laura gets into the transport pod and it closes. Kay shoots many times at Serleena and it finally retracts, releasing Jay. It rains in the transport pod as it takes her into the sky to the \\\"star\\\". Serleena flies after Laura, a giant face visible in the front of the tentacles, so Jay and Kay take two large weapons from the car's trunk. Kay thanks Jay for bringing him back. Jay asks Kay why he didn't tell him about Laura. Kay rhetorically asks if Jay would have let her go. They shoot at Serleena, hitting her/it just before she/it reaches the transport pod. Serleena explodes over the Statue of Liberty, creating a giant fireworks display lasting several seconds. Jay asks Kay what it's like on the outside, \\\"you know, not doing this every day?\\\" Kay answers, \\\"It's nice. Sleep late on the weekends. Watch the weather channel.\\\" Kay sighs and says that he missed this city. The transport pod has disappeared into the \\\"star\\\" and the bright light fades. Jay asks Kay that if Laura is Princess Lauranna's daughter, did they...? (Jay surmises that Kay is Laura's father.) Kay ignores him and tells him that they have to go because MiB is a mess. They put the weapons back in the trunk. As they walk to the elevator, Jay asks Kay how they can go because thousands of people in New York and New Jersey just saw this event; they need a cool thought out plan. Kay puts on his sunglasses, prompting Jay to put on his. Kay presses a button on his watch, and then the torch on the Statue of Liberty buzzes and flashes: a giant neuralizer. Kay tells Jay that he'll get him trained yet. Jay gets jealous of Kay's watch.Back at MiB in the locker room, Kay sits down next to Jay, who is getting dressed. Kay tells Jay that they've all been there; the girl is gone and it hurts. He asks Jay if he wants to talk about it, because he can help. Jay replies, \\\"No.\\\" Zed sits down opposite them and thinks that Jay is still sulking, but Jay says that he's not. Zed says that Jay misses her; it happens to all of them. Zed then starts talking about how he and his girlfriend were entwined in positions from the Kama Sutra, which grosses out Jay so he makes Zed stop. Frank comes in from the shower and tells Jay about \\\"dames\\\", about what they really want. Frank shakes off, forcing the others to stand. Frank asks Jay if he's \\\"still sitting shiva.\\\" Jay tells Frank \\\"No advice\\\"; he tells Kay \\\"No talking\\\"; he tells Zed \\\"Hell no.\\\" Jay swears that he's fine. He opens his locker; the tiny aliens are in it with their town, and they hail him; he quickly closes his locker. Kay tells Jay that he brought them over from Grand Central Terminal and put them in Jay's locker because he thought it would put things in perspective for Jay. Jay tells Kay that they need to let the aliens out of his locker so they will know that the world is a bigger place than that. Kay takes him to a black door marked: \\\"DANGER! NO EXIT. DO NOT OPEN. NOT AN EXIT! UNAUTHORIZED USE WILL RESULT IN IMMEDIATE REVOCATION OF ALL M.I.B. ACCESS CLEARANCES. IN CASE OF EXTREME EMERGENCY DO NOT OPEN\\\". Kay sighs and tells Jay that he's still a rookie. Kay kicks the door open, revealing to Jay and Frank a giant room full of aliens; their door is actually a door to a locker that contains Earth, among hundreds of lockers at an alien type of Grand Central Terminal.Will Smith sings \\\"Black Suits Comin' (Nod Ya Head)\\\" during the closing credits.Synopsis written by Mu_Ve_Watchr_89.\",\n          \"A pre-credits scene shows an episode of the popular game show 'To Tell the Truth' set in 1977 where three contestants appear claiming to the panelests to be the legengary Frank Abagnale Jr. (Leonardo DiCaprio) who impersonated an airline pilot, a lawyer, and doctor, as well as scammed people on three continents for millions of dollars... all before reaching the age of 19.The film begins in 1969, with FBI agent Carl Hanratty Jr. (Tom Hanks) arriving at a French prison to meet the flu-stricken Frank Abagnale Jr, who attempts to escape from the prison prior to his extraction to the USA for a series of crimes.The scene flashes back to six years earlier. 16-year-old Frank Abagnale Jr lives in New Rochelle, New York with his father Frank Abagnale, Sr. (Christopher Walken), and French mother Paula (Nathalie Baye). Frank's father cons a woman into lending him a suit for Frank Jr., who later acts as a driver for Frank Sr. in a ruse to get a loan from Chase Manhattan Bank. When the loan is denied (due to a series of IRS tax frauds by Frank Sr.), the family is forced to move from their grand home to a small apartment, with tension building within the family.Frank soon realizes that his mother is having an adulterous affair with his father's friend Jack (James Brolin) and feeling that he will not fit in at his new school, poses as a substitute teacher in his French class for a short time. Eventually trouble builds between Frank's mother and father, who file for divorce and ask Frank to choose who he will live with. Horrified, Frank runs away from home, using checks that his father had given him. When Frank runs out of money, he begins to use confidence scams. Frank's cons grow ever bolder and he even impersonates an airline pilot. He forges Pan Am payroll checks and succeeds in stealing over $2.8 million by staying in fancy hotel suites, and eating at expensive restaurants, with the bills going to Pan Am.Meanwhile, Carl Hanratty, the nearly humorless but persistent FBI agent, begins to track down Frank in spite of his superiors not attaching much importance to the case (as most of them do not take bank fraud seriously). Tracking Frank to a hotel, Carl discovers to his surprise that he is still a resident there and breaks into his room to arrest him. Emerging from the bathroom and knowing only that Carl is from the FBI, Frank pretends to be Agent \\\"Barry Allen\\\" of the United States Secret Service and brazenly claims to have just caught the suspect himself. It is not until after Frank has escaped from the room that Carl realizes he has been fooled.Frank soon attempts to use the money that he has stolen to find a way to reunite his divorced parents. He invites his father to a fancy restaurant, and gives him the keys to a brand-new Cadillac. Frank Sr. explains that he can't accept the gift, since the IRS are still watching him, and makes an attempt to put a positive air to the meal.Some months later, on Christmas Eve, while Carl is working in the office late and alone, Frank calls him to apologize for tricking him back at the hotel. Carl announces that it doesn't work that way and, to Frank's horror, Carl realizes the reason for the call: Frank has no one else to talk to. Frank hangs up, and Carl continues to investigate. He later discovers that the name Barry Allen is from The Flash comic books and that Frank is actually a teenage minor, which explains why they have been unsuccessful in finding a record of him.Remembering that Frank had made a reference to the New York Yankees, Carl has his men check for runaways in New York. Their search eventually leads them to Frank's mother, who has now remarried. After seeing Frank's yearbook picture, Carl now knows who his suspect is.One year later. Frank has not only changed from impersonating a pilot to impersonating a doctor (complete with a forged Harvard Medical School degree) in Georgia, but is romancing Brenda Strong (Amy Adams), a Southern belle who works as a hospital nurse. He proposes marriage to her, at least partly to try to engineer a reconciliation with her parents who have disowned her since she had an abortion. The two travel to meet her parents in Louisiana. Announcing to them not only that he is like them a Lutheran but that he is a qualified lawyer as well as a doctor. Frank soon joins Brenda's father (Martin Sheen) as an assistant prosecutor after passing the Bar exam.Frank soon decides to marry Brenda, and decides to tell his father. It is here that Frank Sr. (now working as a US Postal worker) informs his son that Frank's mother has remarried, devastating Frank. After Frank leaves his father for good, he calls Carl, wanting the chase to end in the wake of his wanting to settle down. Carl informs Frank that this is not possible, since Frank has stolen some $4 million. Once Frank hangs up, Carl's men look through wedding announcements to track Frank down.When Carl tracks him down and arrives at their engagement party to arrest him, Frank admits the truth to Brenda, shows her all his stolen money and asks her to run away with him. Although shocked, she accepts his offer and agrees to meet him two days later at the airport. However, when she arrives as planned, he sees a devastated Brenda being coached by FBI agents, who have surrounded the airport. Realizing that Carl has convinced her to turn against him. When Frank doesn't appear, Carl has his men stake out the airport, certain that Frank will attempt to show him up somehow, and try to escape by plane.Frank puts a new plan into effect, where he claims that he works for Pan Am, and is recruiting stewardesses to travel to Europe. The girls he chooses work as \\\"eye candy\\\", and Frank manages to walk right past Carl's men, distracting them with a decoy in the unloading zone of the airport. Frank escapes to Europe.A year-and-a-half later in 1967, Carl angrily tells his boss that Frank has been forging checks all over the Eastern Hemisphere. Only this time, the checks are the real thing. Arguing that Frank is out of control, he requests permission to track him down in Europe. When his boss denies him permission, Carl takes one of Frank's bogus checks to professional printers who suggest it can have been printed in only a handful of European countries. Remembering from an interview with Franks mother Paula that she was born in France, Carl travels to her birthplace of Montrichard and he finds Frank there, on Christmas Eve, inside a massive printing factory. Carl tells Frank that the French police outside will kill him if he doesn't surrender quietly. Frank assumes he is joking at first, but Carl vows that he is not lying. Frank handcuffs himself and Carl takes him outside, where, seeing no police, he compliments Carl on his ability to fool him. Almost immediately, however, the French police arrive and escort Frank to prison. The French police take Frank away, with Carl promising to have Frank extradited back to the USA. After two years, Frank is released into Carl's custody.Later on Christmas Eve 1969, on the plane extraditing Frank to the United States, Carl informs him that his father had died accidentally the previous year. Devastated, Frank escapes from the plane in incredible fashion, and tracks down where his mother lives. Here he finds his mother with her second husband, as well as a young girl who Frank realizes is his half-sister. Before he can even speak to his mother, however, a posse of police arrive in pursuit and Frank surrenders (it is never explained if Frank's own mother called the police on him or if it was just a coincidence that they showed up at her house).Frank is tried, convicted, and given a 12-year prison sentence for check forgery, embezzlement, among many other charges, and sent to a maximum security Federal prison in Atlanta. During the next four years, Frank receives regular visits from Carl. During one of these visits, Frank easily deduces the identity of a forger by glancing at a check that Carl shows him. More visits from Carl has Frank cooperating with him in identifying other check forgers.In 1974, an impressed Carl arranges for Frank to be allowed to serve out the remainder of his sentence working for the check fraud department of the FBI under Carl's custody. Although Frank is out of prison, he is chained to his desk-job and misses the thrill of his old life and even attempts to pose as an airline pilot once again. Just as he tries to run again, Carl meets him at the airport. Carl allows him to go free, predicting that Frank will return to work on Monday since there is no one chasing him.Back in the office on Monday morning, Carl is nervous when Frank doesn't appear for work on time. He is afraid that he has run away and ruined both their lives. But Frank soon shows up and asks Carl about their next case. Bristling, Carl demands to know how Frank cheated on the Bar Exam in Louisiana, to which Frank replies that he didn't: he had studied for only two weeks and genuinely passed the exam. Astounded, Carl asks him \\\"Is that the truth, Frank?\\\" to which Frank merely smiles. Carl smiles back and the two continue to their investigation work together.Lastly, it is revealed through scrolling text that \\\"Frank has been happily married for 26 years\\\" had three sons, lives in the Midwest with his family, is still good friends with Carl, caught some of the world's most elusive money forgers and gets millions of dollars each year because of his work creating unforgeable checks.\"\n        ],\n        \"semantic_type\": \"\",\n        \"description\": \"\"\n      }\n    },\n    {\n      \"column\": \"plot_summary\",\n      \"properties\": {\n        \"dtype\": \"category\",\n        \"num_unique_values\": 1460,\n        \"samples\": [\n          \"This is the extraordinary tale of two brothers named Moses and Ramses, one born of royal blood, and one an orphan with a secret past. Growing up the best of friends, they share a strong bond of free-spirited youth and good-natured rivalry. But the truth will ultimately set them at odds, as one becomes the ruler of the most powerful empire on earth, and the other the chosen leader of his people! Their final confrontation will forever change their lives and the world.                Written by\\nAnthony Pereyra <hypersonic91@yahoo.com>\",\n          \"The movie is about the life of Tarzan. Tarzan was a small orphan who was raised by an ape named Kala since he was a child. He believed that this was his family, but on an expedition Jane Porter is rescued by Tarzan. He then finds out that he's human. Now Tarzan must make the decision as to which family he should belong to...                Written by\\nExtron\"\n        ],\n        \"semantic_type\": \"\",\n        \"description\": \"\"\n      }\n    },\n    {\n      \"column\": \"genre\",\n      \"properties\": {\n        \"dtype\": \"category\",\n        \"num_unique_values\": 227,\n        \"samples\": [\n          \"Action,Adventure,Sci-Fi\",\n          \"Comedy,Family,Musical\"\n        ],\n        \"semantic_type\": \"\",\n        \"description\": \"\"\n      }\n    }\n  ]\n}"
            }
          },
          "metadata": {},
          "execution_count": 22
        }
      ]
    },
    {
      "cell_type": "code",
      "source": [
        "# One-hot encoding the 'genre' column\n",
        "genre_dummies = df_reviews['genre'].str.get_dummies(sep=',')\n",
        "\n",
        "# Concatenating the one-hot encoded columns back to the original DataFrame\n",
        "df_reviews = pd.concat([df_reviews, genre_dummies], axis=1)\n",
        "\n",
        "# Displaying the resulting DataFrame to see the result\n",
        "df_reviews.head(2)"
      ],
      "metadata": {
        "colab": {
          "base_uri": "https://localhost:8080/",
          "height": 282
        },
        "id": "qZH5C7g3VD_v",
        "outputId": "58d237b7-ddd7-497a-eb38-c49ad1fb1d92",
        "collapsed": true
      },
      "execution_count": null,
      "outputs": [
        {
          "output_type": "execute_result",
          "data": {
            "text/plain": [
              "       review_date   movie_id     user_id  is_spoiler  \\\n",
              "0  16 January 2005  tt0105629   ur3494098           0   \n",
              "1   7 January 2009  tt0455824  ur17306445           1   \n",
              "\n",
              "                                         review_text  rating  \\\n",
              "0  While on the outside the movie seems absurd an...       9   \n",
              "1  I couldn't really decide what this film was, c...       3   \n",
              "\n",
              "                     review_summary  \\\n",
              "0                         Look past   \n",
              "1  Fumbling Antipodean nonsense....   \n",
              "\n",
              "                                       plot_synopsis  \\\n",
              "0  Amid a sea of gently-waving tall grass, lies t...   \n",
              "1  The movie opens with information about World W...   \n",
              "\n",
              "                                        plot_summary                    genre  \\\n",
              "0  An eccentric toymaker's last wish is that his ...   Adventure,Comedy,Drama   \n",
              "1  In northern Australia at the beginning of Worl...  Adventure,Drama,Romance   \n",
              "\n",
              "   ...  Horror  Music  Musical  Mystery  Romance  Sci-Fi  Sport  Thriller  \\\n",
              "0  ...       0      0        0        0        0       0      0         0   \n",
              "1  ...       0      0        0        0        1       0      0         0   \n",
              "\n",
              "   War  Western  \n",
              "0    0        0  \n",
              "1    0        0  \n",
              "\n",
              "[2 rows x 31 columns]"
            ],
            "text/html": [
              "\n",
              "  <div id=\"df-18cb7e43-c73d-4dfc-96e2-ae1300ae3c9f\" class=\"colab-df-container\">\n",
              "    <div>\n",
              "<style scoped>\n",
              "    .dataframe tbody tr th:only-of-type {\n",
              "        vertical-align: middle;\n",
              "    }\n",
              "\n",
              "    .dataframe tbody tr th {\n",
              "        vertical-align: top;\n",
              "    }\n",
              "\n",
              "    .dataframe thead th {\n",
              "        text-align: right;\n",
              "    }\n",
              "</style>\n",
              "<table border=\"1\" class=\"dataframe\">\n",
              "  <thead>\n",
              "    <tr style=\"text-align: right;\">\n",
              "      <th></th>\n",
              "      <th>review_date</th>\n",
              "      <th>movie_id</th>\n",
              "      <th>user_id</th>\n",
              "      <th>is_spoiler</th>\n",
              "      <th>review_text</th>\n",
              "      <th>rating</th>\n",
              "      <th>review_summary</th>\n",
              "      <th>plot_synopsis</th>\n",
              "      <th>plot_summary</th>\n",
              "      <th>genre</th>\n",
              "      <th>...</th>\n",
              "      <th>Horror</th>\n",
              "      <th>Music</th>\n",
              "      <th>Musical</th>\n",
              "      <th>Mystery</th>\n",
              "      <th>Romance</th>\n",
              "      <th>Sci-Fi</th>\n",
              "      <th>Sport</th>\n",
              "      <th>Thriller</th>\n",
              "      <th>War</th>\n",
              "      <th>Western</th>\n",
              "    </tr>\n",
              "  </thead>\n",
              "  <tbody>\n",
              "    <tr>\n",
              "      <th>0</th>\n",
              "      <td>16 January 2005</td>\n",
              "      <td>tt0105629</td>\n",
              "      <td>ur3494098</td>\n",
              "      <td>0</td>\n",
              "      <td>While on the outside the movie seems absurd an...</td>\n",
              "      <td>9</td>\n",
              "      <td>Look past</td>\n",
              "      <td>Amid a sea of gently-waving tall grass, lies t...</td>\n",
              "      <td>An eccentric toymaker's last wish is that his ...</td>\n",
              "      <td>Adventure,Comedy,Drama</td>\n",
              "      <td>...</td>\n",
              "      <td>0</td>\n",
              "      <td>0</td>\n",
              "      <td>0</td>\n",
              "      <td>0</td>\n",
              "      <td>0</td>\n",
              "      <td>0</td>\n",
              "      <td>0</td>\n",
              "      <td>0</td>\n",
              "      <td>0</td>\n",
              "      <td>0</td>\n",
              "    </tr>\n",
              "    <tr>\n",
              "      <th>1</th>\n",
              "      <td>7 January 2009</td>\n",
              "      <td>tt0455824</td>\n",
              "      <td>ur17306445</td>\n",
              "      <td>1</td>\n",
              "      <td>I couldn't really decide what this film was, c...</td>\n",
              "      <td>3</td>\n",
              "      <td>Fumbling Antipodean nonsense....</td>\n",
              "      <td>The movie opens with information about World W...</td>\n",
              "      <td>In northern Australia at the beginning of Worl...</td>\n",
              "      <td>Adventure,Drama,Romance</td>\n",
              "      <td>...</td>\n",
              "      <td>0</td>\n",
              "      <td>0</td>\n",
              "      <td>0</td>\n",
              "      <td>0</td>\n",
              "      <td>1</td>\n",
              "      <td>0</td>\n",
              "      <td>0</td>\n",
              "      <td>0</td>\n",
              "      <td>0</td>\n",
              "      <td>0</td>\n",
              "    </tr>\n",
              "  </tbody>\n",
              "</table>\n",
              "<p>2 rows × 31 columns</p>\n",
              "</div>\n",
              "    <div class=\"colab-df-buttons\">\n",
              "\n",
              "  <div class=\"colab-df-container\">\n",
              "    <button class=\"colab-df-convert\" onclick=\"convertToInteractive('df-18cb7e43-c73d-4dfc-96e2-ae1300ae3c9f')\"\n",
              "            title=\"Convert this dataframe to an interactive table.\"\n",
              "            style=\"display:none;\">\n",
              "\n",
              "  <svg xmlns=\"http://www.w3.org/2000/svg\" height=\"24px\" viewBox=\"0 -960 960 960\">\n",
              "    <path d=\"M120-120v-720h720v720H120Zm60-500h600v-160H180v160Zm220 220h160v-160H400v160Zm0 220h160v-160H400v160ZM180-400h160v-160H180v160Zm440 0h160v-160H620v160ZM180-180h160v-160H180v160Zm440 0h160v-160H620v160Z\"/>\n",
              "  </svg>\n",
              "    </button>\n",
              "\n",
              "  <style>\n",
              "    .colab-df-container {\n",
              "      display:flex;\n",
              "      gap: 12px;\n",
              "    }\n",
              "\n",
              "    .colab-df-convert {\n",
              "      background-color: #E8F0FE;\n",
              "      border: none;\n",
              "      border-radius: 50%;\n",
              "      cursor: pointer;\n",
              "      display: none;\n",
              "      fill: #1967D2;\n",
              "      height: 32px;\n",
              "      padding: 0 0 0 0;\n",
              "      width: 32px;\n",
              "    }\n",
              "\n",
              "    .colab-df-convert:hover {\n",
              "      background-color: #E2EBFA;\n",
              "      box-shadow: 0px 1px 2px rgba(60, 64, 67, 0.3), 0px 1px 3px 1px rgba(60, 64, 67, 0.15);\n",
              "      fill: #174EA6;\n",
              "    }\n",
              "\n",
              "    .colab-df-buttons div {\n",
              "      margin-bottom: 4px;\n",
              "    }\n",
              "\n",
              "    [theme=dark] .colab-df-convert {\n",
              "      background-color: #3B4455;\n",
              "      fill: #D2E3FC;\n",
              "    }\n",
              "\n",
              "    [theme=dark] .colab-df-convert:hover {\n",
              "      background-color: #434B5C;\n",
              "      box-shadow: 0px 1px 3px 1px rgba(0, 0, 0, 0.15);\n",
              "      filter: drop-shadow(0px 1px 2px rgba(0, 0, 0, 0.3));\n",
              "      fill: #FFFFFF;\n",
              "    }\n",
              "  </style>\n",
              "\n",
              "    <script>\n",
              "      const buttonEl =\n",
              "        document.querySelector('#df-18cb7e43-c73d-4dfc-96e2-ae1300ae3c9f button.colab-df-convert');\n",
              "      buttonEl.style.display =\n",
              "        google.colab.kernel.accessAllowed ? 'block' : 'none';\n",
              "\n",
              "      async function convertToInteractive(key) {\n",
              "        const element = document.querySelector('#df-18cb7e43-c73d-4dfc-96e2-ae1300ae3c9f');\n",
              "        const dataTable =\n",
              "          await google.colab.kernel.invokeFunction('convertToInteractive',\n",
              "                                                    [key], {});\n",
              "        if (!dataTable) return;\n",
              "\n",
              "        const docLinkHtml = 'Like what you see? Visit the ' +\n",
              "          '<a target=\"_blank\" href=https://colab.research.google.com/notebooks/data_table.ipynb>data table notebook</a>'\n",
              "          + ' to learn more about interactive tables.';\n",
              "        element.innerHTML = '';\n",
              "        dataTable['output_type'] = 'display_data';\n",
              "        await google.colab.output.renderOutput(dataTable, element);\n",
              "        const docLink = document.createElement('div');\n",
              "        docLink.innerHTML = docLinkHtml;\n",
              "        element.appendChild(docLink);\n",
              "      }\n",
              "    </script>\n",
              "  </div>\n",
              "\n",
              "\n",
              "<div id=\"df-903523ee-2e62-4ab4-9f29-016d59773323\">\n",
              "  <button class=\"colab-df-quickchart\" onclick=\"quickchart('df-903523ee-2e62-4ab4-9f29-016d59773323')\"\n",
              "            title=\"Suggest charts\"\n",
              "            style=\"display:none;\">\n",
              "\n",
              "<svg xmlns=\"http://www.w3.org/2000/svg\" height=\"24px\"viewBox=\"0 0 24 24\"\n",
              "     width=\"24px\">\n",
              "    <g>\n",
              "        <path d=\"M19 3H5c-1.1 0-2 .9-2 2v14c0 1.1.9 2 2 2h14c1.1 0 2-.9 2-2V5c0-1.1-.9-2-2-2zM9 17H7v-7h2v7zm4 0h-2V7h2v10zm4 0h-2v-4h2v4z\"/>\n",
              "    </g>\n",
              "</svg>\n",
              "  </button>\n",
              "\n",
              "<style>\n",
              "  .colab-df-quickchart {\n",
              "      --bg-color: #E8F0FE;\n",
              "      --fill-color: #1967D2;\n",
              "      --hover-bg-color: #E2EBFA;\n",
              "      --hover-fill-color: #174EA6;\n",
              "      --disabled-fill-color: #AAA;\n",
              "      --disabled-bg-color: #DDD;\n",
              "  }\n",
              "\n",
              "  [theme=dark] .colab-df-quickchart {\n",
              "      --bg-color: #3B4455;\n",
              "      --fill-color: #D2E3FC;\n",
              "      --hover-bg-color: #434B5C;\n",
              "      --hover-fill-color: #FFFFFF;\n",
              "      --disabled-bg-color: #3B4455;\n",
              "      --disabled-fill-color: #666;\n",
              "  }\n",
              "\n",
              "  .colab-df-quickchart {\n",
              "    background-color: var(--bg-color);\n",
              "    border: none;\n",
              "    border-radius: 50%;\n",
              "    cursor: pointer;\n",
              "    display: none;\n",
              "    fill: var(--fill-color);\n",
              "    height: 32px;\n",
              "    padding: 0;\n",
              "    width: 32px;\n",
              "  }\n",
              "\n",
              "  .colab-df-quickchart:hover {\n",
              "    background-color: var(--hover-bg-color);\n",
              "    box-shadow: 0 1px 2px rgba(60, 64, 67, 0.3), 0 1px 3px 1px rgba(60, 64, 67, 0.15);\n",
              "    fill: var(--button-hover-fill-color);\n",
              "  }\n",
              "\n",
              "  .colab-df-quickchart-complete:disabled,\n",
              "  .colab-df-quickchart-complete:disabled:hover {\n",
              "    background-color: var(--disabled-bg-color);\n",
              "    fill: var(--disabled-fill-color);\n",
              "    box-shadow: none;\n",
              "  }\n",
              "\n",
              "  .colab-df-spinner {\n",
              "    border: 2px solid var(--fill-color);\n",
              "    border-color: transparent;\n",
              "    border-bottom-color: var(--fill-color);\n",
              "    animation:\n",
              "      spin 1s steps(1) infinite;\n",
              "  }\n",
              "\n",
              "  @keyframes spin {\n",
              "    0% {\n",
              "      border-color: transparent;\n",
              "      border-bottom-color: var(--fill-color);\n",
              "      border-left-color: var(--fill-color);\n",
              "    }\n",
              "    20% {\n",
              "      border-color: transparent;\n",
              "      border-left-color: var(--fill-color);\n",
              "      border-top-color: var(--fill-color);\n",
              "    }\n",
              "    30% {\n",
              "      border-color: transparent;\n",
              "      border-left-color: var(--fill-color);\n",
              "      border-top-color: var(--fill-color);\n",
              "      border-right-color: var(--fill-color);\n",
              "    }\n",
              "    40% {\n",
              "      border-color: transparent;\n",
              "      border-right-color: var(--fill-color);\n",
              "      border-top-color: var(--fill-color);\n",
              "    }\n",
              "    60% {\n",
              "      border-color: transparent;\n",
              "      border-right-color: var(--fill-color);\n",
              "    }\n",
              "    80% {\n",
              "      border-color: transparent;\n",
              "      border-right-color: var(--fill-color);\n",
              "      border-bottom-color: var(--fill-color);\n",
              "    }\n",
              "    90% {\n",
              "      border-color: transparent;\n",
              "      border-bottom-color: var(--fill-color);\n",
              "    }\n",
              "  }\n",
              "</style>\n",
              "\n",
              "  <script>\n",
              "    async function quickchart(key) {\n",
              "      const quickchartButtonEl =\n",
              "        document.querySelector('#' + key + ' button');\n",
              "      quickchartButtonEl.disabled = true;  // To prevent multiple clicks.\n",
              "      quickchartButtonEl.classList.add('colab-df-spinner');\n",
              "      try {\n",
              "        const charts = await google.colab.kernel.invokeFunction(\n",
              "            'suggestCharts', [key], {});\n",
              "      } catch (error) {\n",
              "        console.error('Error during call to suggestCharts:', error);\n",
              "      }\n",
              "      quickchartButtonEl.classList.remove('colab-df-spinner');\n",
              "      quickchartButtonEl.classList.add('colab-df-quickchart-complete');\n",
              "    }\n",
              "    (() => {\n",
              "      let quickchartButtonEl =\n",
              "        document.querySelector('#df-903523ee-2e62-4ab4-9f29-016d59773323 button');\n",
              "      quickchartButtonEl.style.display =\n",
              "        google.colab.kernel.accessAllowed ? 'block' : 'none';\n",
              "    })();\n",
              "  </script>\n",
              "</div>\n",
              "\n",
              "    </div>\n",
              "  </div>\n"
            ],
            "application/vnd.google.colaboratory.intrinsic+json": {
              "type": "dataframe",
              "variable_name": "df_reviews"
            }
          },
          "metadata": {},
          "execution_count": 23
        }
      ]
    },
    {
      "cell_type": "code",
      "source": [
        "#dropping genre from movie_reviews_encoded\n",
        "df_reviews.drop('genre', inplace = True, axis = 1)"
      ],
      "metadata": {
        "id": "1ZurWHkcVbNb"
      },
      "execution_count": null,
      "outputs": []
    },
    {
      "cell_type": "code",
      "source": [
        "# Drop userID as it will not be useful for the analysis\n",
        "df_reviews.drop('user_id', inplace = True, axis = 1)"
      ],
      "metadata": {
        "id": "MQ7rW3w7fYTE"
      },
      "execution_count": null,
      "outputs": []
    },
    {
      "cell_type": "code",
      "source": [
        "df_reviews['is_spoiler'].value_counts()/len(df_reviews)"
      ],
      "metadata": {
        "colab": {
          "base_uri": "https://localhost:8080/"
        },
        "id": "6YBzVTtB7h7t",
        "outputId": "d9421580-114b-4885-c73b-03e5a3637eb1"
      },
      "execution_count": null,
      "outputs": [
        {
          "output_type": "execute_result",
          "data": {
            "text/plain": [
              "is_spoiler\n",
              "0    0.5\n",
              "1    0.5\n",
              "Name: count, dtype: float64"
            ]
          },
          "metadata": {},
          "execution_count": 26
        }
      ]
    },
    {
      "cell_type": "code",
      "source": [
        "df_reviews.to_csv('/content/drive/MyDrive/IK_Mini_Project2/movie_reviews_datapreprocessed.csv', index=False)"
      ],
      "metadata": {
        "id": "HD8wuImDA-_o"
      },
      "execution_count": null,
      "outputs": []
    },
    {
      "cell_type": "markdown",
      "metadata": {
        "id": "J2Hx0eqlnSwd"
      },
      "source": [
        "## Text Preprocessing"
      ]
    },
    {
      "cell_type": "markdown",
      "source": [
        "### 1. Remove Keywords"
      ],
      "metadata": {
        "id": "eVtHxwzIKK_I"
      }
    },
    {
      "cell_type": "code",
      "execution_count": null,
      "metadata": {
        "colab": {
          "base_uri": "https://localhost:8080/"
        },
        "id": "qaKB0FLpa9Ih",
        "outputId": "6ed57bda-fc7d-41ee-93ad-f5a62514b6c3",
        "collapsed": true
      },
      "outputs": [
        {
          "output_type": "stream",
          "name": "stdout",
          "text": [
            "<class 'pandas.core.frame.DataFrame'>\n",
            "RangeIndex: 10000 entries, 0 to 9999\n",
            "Data columns (total 29 columns):\n",
            " #   Column          Non-Null Count  Dtype \n",
            "---  ------          --------------  ----- \n",
            " 0   review_date     10000 non-null  object\n",
            " 1   movie_id        10000 non-null  object\n",
            " 2   is_spoiler      10000 non-null  int32 \n",
            " 3   review_text     10000 non-null  object\n",
            " 4   rating          10000 non-null  int64 \n",
            " 5   review_summary  10000 non-null  object\n",
            " 6   plot_synopsis   10000 non-null  object\n",
            " 7   plot_summary    10000 non-null  object\n",
            " 8   Action          10000 non-null  int64 \n",
            " 9   Adventure       10000 non-null  int64 \n",
            " 10  Animation       10000 non-null  int64 \n",
            " 11  Biography       10000 non-null  int64 \n",
            " 12  Comedy          10000 non-null  int64 \n",
            " 13  Crime           10000 non-null  int64 \n",
            " 14  Drama           10000 non-null  int64 \n",
            " 15  Family          10000 non-null  int64 \n",
            " 16  Fantasy         10000 non-null  int64 \n",
            " 17  Film-Noir       10000 non-null  int64 \n",
            " 18  History         10000 non-null  int64 \n",
            " 19  Horror          10000 non-null  int64 \n",
            " 20  Music           10000 non-null  int64 \n",
            " 21  Musical         10000 non-null  int64 \n",
            " 22  Mystery         10000 non-null  int64 \n",
            " 23  Romance         10000 non-null  int64 \n",
            " 24  Sci-Fi          10000 non-null  int64 \n",
            " 25  Sport           10000 non-null  int64 \n",
            " 26  Thriller        10000 non-null  int64 \n",
            " 27  War             10000 non-null  int64 \n",
            " 28  Western         10000 non-null  int64 \n",
            "dtypes: int32(1), int64(22), object(6)\n",
            "memory usage: 2.2+ MB\n"
          ]
        }
      ],
      "source": [
        "#Remove keywords\n",
        "_newline_keyword = '\\n'\n",
        "columns = ['review_text','plot_synopsis','plot_summary']\n",
        "for column in columns:\n",
        "  df_reviews[column] = df_reviews[column].str.replace(_newline_keyword, '')\n",
        "\n",
        "df_reviews.info()"
      ]
    },
    {
      "cell_type": "markdown",
      "source": [
        "### 2. Remove Stopwords"
      ],
      "metadata": {
        "id": "pBSR1YFXKPDF"
      }
    },
    {
      "cell_type": "code",
      "execution_count": null,
      "metadata": {
        "id": "gWQx-e41oqtV"
      },
      "outputs": [],
      "source": [
        "#Removing stopwords\n",
        "from nltk.corpus import stopwords\n",
        "from nltk.tokenize import word_tokenize\n",
        "\n",
        "# Load the stop words\n",
        "stop_words = stopwords.words('english')\n",
        "stop_words.extend(['@',\"'\",'.','\"','/','!',',',\"'ve\",\"...\",\"n't\",'$',\"'s\",'©','''\"''',\"''\",'..','&','*',';','”','``',':','#','!','-','–','?','%',\"'d\",\"'m\",'+','++','(',')','()'])\n",
        "stop_words = set(stop_words)\n",
        "\n",
        "#Function to remove the stopwords\n",
        "def remove_stopwords(text):\n",
        "    if isinstance(text, str):\n",
        "      tokens = word_tokenize(text.lower())\n",
        "      filtered_tokens = [token for token in tokens if token not in stop_words]\n",
        "      return ' '.join(filtered_tokens)\n",
        "    else:\n",
        "      return text"
      ]
    },
    {
      "cell_type": "code",
      "source": [
        "df_reviews['review_text'] = df_reviews['review_text'].apply(remove_stopwords)"
      ],
      "metadata": {
        "id": "voZ4o7chl37I",
        "collapsed": true
      },
      "execution_count": null,
      "outputs": []
    },
    {
      "cell_type": "code",
      "source": [
        "df_reviews['plot_summary'] = df_reviews['plot_summary'].apply(remove_stopwords)\n",
        "df_reviews['plot_synopsis'] = df_reviews['plot_synopsis'].apply(remove_stopwords)"
      ],
      "metadata": {
        "id": "auEC_M8TESQz"
      },
      "execution_count": null,
      "outputs": []
    },
    {
      "cell_type": "code",
      "source": [
        "df_reviews.isna().sum()"
      ],
      "metadata": {
        "colab": {
          "base_uri": "https://localhost:8080/"
        },
        "id": "JXqPazkuJ_XH",
        "outputId": "cd143cd2-096b-4b1a-b8a9-d397d02a11cb"
      },
      "execution_count": null,
      "outputs": [
        {
          "output_type": "execute_result",
          "data": {
            "text/plain": [
              "review_date       0\n",
              "movie_id          0\n",
              "is_spoiler        0\n",
              "review_text       0\n",
              "rating            0\n",
              "review_summary    0\n",
              "plot_synopsis     0\n",
              "plot_summary      0\n",
              "Action            0\n",
              "Adventure         0\n",
              "Animation         0\n",
              "Biography         0\n",
              "Comedy            0\n",
              "Crime             0\n",
              "Drama             0\n",
              "Family            0\n",
              "Fantasy           0\n",
              "Film-Noir         0\n",
              "History           0\n",
              "Horror            0\n",
              "Music             0\n",
              "Musical           0\n",
              "Mystery           0\n",
              "Romance           0\n",
              "Sci-Fi            0\n",
              "Sport             0\n",
              "Thriller          0\n",
              "War               0\n",
              "Western           0\n",
              "dtype: int64"
            ]
          },
          "metadata": {},
          "execution_count": 31
        }
      ]
    },
    {
      "cell_type": "markdown",
      "metadata": {
        "id": "MF3YQkJUpe7s"
      },
      "source": [
        "### 3.0 Lemmatization"
      ]
    },
    {
      "cell_type": "code",
      "execution_count": null,
      "metadata": {
        "colab": {
          "base_uri": "https://localhost:8080/"
        },
        "id": "8oPUoY4hwpai",
        "outputId": "4f53b62f-97ba-42a8-aa61-9b84188a2d3e"
      },
      "outputs": [
        {
          "output_type": "stream",
          "name": "stderr",
          "text": [
            "[nltk_data] Downloading package omw-1.4 to /root/nltk_data...\n"
          ]
        }
      ],
      "source": [
        "nltk.download('omw-1.4')\n",
        "from nltk.stem import WordNetLemmatizer"
      ]
    },
    {
      "cell_type": "code",
      "execution_count": null,
      "metadata": {
        "id": "vgYy3TNepmAD"
      },
      "outputs": [],
      "source": [
        "lemmatizer = WordNetLemmatizer()\n",
        "# Function to remove stop words and perform lemmatization on a text\n",
        "def preprocess_text(text):\n",
        "        tokens = word_tokenize(text.lower())\n",
        "        filtered_tokens = [lemmatizer.lemmatize(word) for word in tokens if word not in stop_words]\n",
        "        return ' '.join(filtered_tokens)"
      ]
    },
    {
      "cell_type": "markdown",
      "metadata": {
        "id": "f60PKP6UtgK0"
      },
      "source": [
        "## NLP Modeling\n"
      ]
    },
    {
      "cell_type": "markdown",
      "source": [
        "1. Bag of Words"
      ],
      "metadata": {
        "id": "YfjY9JntIiDN"
      }
    },
    {
      "cell_type": "code",
      "source": [
        "#initialize count vector\n",
        "vectorizer = CountVectorizer()"
      ],
      "metadata": {
        "id": "PFE4qRHiKoCf"
      },
      "execution_count": null,
      "outputs": []
    },
    {
      "cell_type": "code",
      "source": [
        "#Generate the tokens for each column - review_text, plot_synopsis, plot_summary\n",
        "# Apply the preprocess_text function in parallel\n",
        "processed_texts = Parallel(n_jobs=-1)(delayed(preprocess_text)(text) for text in df_reviews['review_text'])\n",
        "token_reviews = processed_texts"
      ],
      "metadata": {
        "id": "98Kb16zKKp5R"
      },
      "execution_count": null,
      "outputs": []
    },
    {
      "cell_type": "code",
      "source": [
        "processed_texts = Parallel(n_jobs=-1)(delayed(preprocess_text)(text) for text in df_reviews['plot_summary'])\n",
        "token_summary = processed_texts"
      ],
      "metadata": {
        "id": "Glhb6I0XOwZ-"
      },
      "execution_count": null,
      "outputs": []
    },
    {
      "cell_type": "code",
      "source": [
        "processed_texts = Parallel(n_jobs=-1)(delayed(preprocess_text)(text) for text in df_reviews['plot_synopsis'])\n",
        "token_synopsis = processed_texts"
      ],
      "metadata": {
        "id": "O4_khgSZPIuQ"
      },
      "execution_count": null,
      "outputs": []
    },
    {
      "cell_type": "code",
      "source": [
        "print(f\"length of token_reviews:{len(token_reviews)}\")\n",
        "print(f\"\\nlength of token_synopsis:{__builtins__.len(token_synopsis)}\")\n",
        "print(f\"\\nlength of token_summary:{__builtins__.len(token_summary)}\")"
      ],
      "metadata": {
        "colab": {
          "base_uri": "https://localhost:8080/"
        },
        "id": "4nSqAishP-AF",
        "outputId": "5d177ad9-fa25-432d-a3cd-353140c84402"
      },
      "execution_count": null,
      "outputs": [
        {
          "output_type": "stream",
          "name": "stdout",
          "text": [
            "length of token_reviews:10000\n",
            "\n",
            "length of token_synopsis:10000\n",
            "\n",
            "length of token_summary:10000\n"
          ]
        }
      ]
    },
    {
      "cell_type": "code",
      "source": [
        "#Combined all the tokens to create a list of vocabulary\n",
        "combined_token = token_reviews + token_synopsis + token_summary\n",
        "len(combined_token)"
      ],
      "metadata": {
        "colab": {
          "base_uri": "https://localhost:8080/"
        },
        "id": "kq_k49qiPuR1",
        "outputId": "878d960c-b8a1-468c-9244-24206a66035b"
      },
      "execution_count": null,
      "outputs": [
        {
          "output_type": "execute_result",
          "data": {
            "text/plain": [
              "30000"
            ]
          },
          "metadata": {},
          "execution_count": 39
        }
      ]
    },
    {
      "cell_type": "code",
      "source": [
        "len(token_reviews)"
      ],
      "metadata": {
        "colab": {
          "base_uri": "https://localhost:8080/"
        },
        "id": "L2CUWnErF4KK",
        "outputId": "f23e77e7-a29f-4160-fbcf-c18b4db93c95"
      },
      "execution_count": null,
      "outputs": [
        {
          "output_type": "execute_result",
          "data": {
            "text/plain": [
              "10000"
            ]
          },
          "metadata": {},
          "execution_count": 40
        }
      ]
    },
    {
      "cell_type": "code",
      "source": [
        "df_reviews.to_pickle('/content/drive/MyDrive/IK_Mini_Project2/df_reviews_lemma.pk1')"
      ],
      "metadata": {
        "id": "R3QDkM-C9wcB"
      },
      "execution_count": null,
      "outputs": []
    },
    {
      "cell_type": "code",
      "execution_count": null,
      "metadata": {
        "id": "U-23g_6AtKg-",
        "collapsed": true
      },
      "outputs": [],
      "source": [
        "X_combined_token = vectorizer.fit_transform(combined_token) # shape of (30000,63037)\n",
        "X_review = vectorizer.transform(token_reviews)              # shape of (10000, 63037)\n",
        "X_synopsis = vectorizer.transform(token_synopsis)\n",
        "X_summary = vectorizer.transform(token_summary)"
      ]
    },
    {
      "cell_type": "code",
      "source": [
        "#Compute cosine similarity score between review-summary and review-synopsis\n",
        "simscore_synopsis = cosine_similarity(X_review, X_synopsis).diagonal()\n",
        "simscore_summary = cosine_similarity(X_review, X_summary).diagonal()"
      ],
      "metadata": {
        "id": "_3I42jmATTT_"
      },
      "execution_count": null,
      "outputs": []
    },
    {
      "cell_type": "code",
      "source": [
        "#creating a dataframe with similarity scores as features\n",
        "df_BoW = pd.DataFrame({\n",
        "    'simscore_synopsis': simscore_synopsis,\n",
        "    'simscore_summary': simscore_summary\n",
        "})"
      ],
      "metadata": {
        "id": "wp9pjOroQ2Tr"
      },
      "execution_count": null,
      "outputs": []
    },
    {
      "cell_type": "code",
      "source": [
        "y_BoW= df_reviews['is_spoiler']"
      ],
      "metadata": {
        "id": "AG59aXBASGAF"
      },
      "execution_count": null,
      "outputs": []
    },
    {
      "cell_type": "code",
      "source": [
        "# Split the dataset into training and testing set\n",
        "X_train, X_test, y_train, y_test = train_test_split(df_BoW, y_BoW, test_size=0.2, random_state=42)"
      ],
      "metadata": {
        "id": "HAbhIvFdRu74"
      },
      "execution_count": null,
      "outputs": []
    },
    {
      "cell_type": "code",
      "source": [
        "# Initialize and train the classifier\n",
        "classifier_bow = LogisticRegression()\n",
        "classifier_bow.fit(X_train, y_train)\n",
        "\n",
        "# Predict on the test set\n",
        "y_pred = classifier_bow.predict(X_test)\n",
        "\n",
        "# Evaluate the model\n",
        "print(\"Accuracy:\", accuracy_score(y_test, y_pred))\n",
        "print(\"Classification Report:\\n\", classification_report(y_test, y_pred))"
      ],
      "metadata": {
        "id": "n-K4U46HrCh2",
        "colab": {
          "base_uri": "https://localhost:8080/"
        },
        "outputId": "315c61f5-35a6-40b9-e226-b921ac483cef"
      },
      "execution_count": null,
      "outputs": [
        {
          "output_type": "stream",
          "name": "stdout",
          "text": [
            "Accuracy: 0.5925\n",
            "Classification Report:\n",
            "               precision    recall  f1-score   support\n",
            "\n",
            "           0       0.57      0.69      0.62       987\n",
            "           1       0.62      0.50      0.55      1013\n",
            "\n",
            "    accuracy                           0.59      2000\n",
            "   macro avg       0.60      0.59      0.59      2000\n",
            "weighted avg       0.60      0.59      0.59      2000\n",
            "\n"
          ]
        }
      ]
    },
    {
      "cell_type": "code",
      "source": [
        "#Using random forest as classifier\n",
        "classifier_RF = RandomForestClassifier()\n",
        "classifier_RF.fit(X_train, y_train)\n",
        "\n",
        "# Predict on the test set\n",
        "y_pred_RF = classifier_RF.predict(X_test)\n",
        "\n",
        "# Evaluate the model\n",
        "print(\"Accuracy:\", accuracy_score(y_test, y_pred_RF))\n",
        "print(\"Classification Report:\\n\", classification_report(y_test, y_pred_RF))"
      ],
      "metadata": {
        "colab": {
          "base_uri": "https://localhost:8080/"
        },
        "id": "iuGpdacdgTME",
        "outputId": "ed23d6a8-6bba-4cbd-880c-523e0394a248"
      },
      "execution_count": null,
      "outputs": [
        {
          "output_type": "stream",
          "name": "stdout",
          "text": [
            "Accuracy: 0.5435\n",
            "Classification Report:\n",
            "               precision    recall  f1-score   support\n",
            "\n",
            "           0       0.54      0.53      0.54       987\n",
            "           1       0.55      0.55      0.55      1013\n",
            "\n",
            "    accuracy                           0.54      2000\n",
            "   macro avg       0.54      0.54      0.54      2000\n",
            "weighted avg       0.54      0.54      0.54      2000\n",
            "\n"
          ]
        }
      ]
    },
    {
      "cell_type": "markdown",
      "source": [
        "2. Using TFIDF"
      ],
      "metadata": {
        "id": "JDhe77J_tEX0"
      }
    },
    {
      "cell_type": "code",
      "source": [
        "#initialize TFIDF vector\n",
        "vectorizer_tf = TfidfVectorizer()\n",
        "\n",
        "vectorizer_tf.fit_transform(combined_token)\n",
        "X_review = vectorizer_tf.transform(token_reviews)\n",
        "X_synopsis = vectorizer_tf.transform(token_synopsis)\n",
        "X_summary = vectorizer_tf.transform(token_summary)"
      ],
      "metadata": {
        "id": "jUlrXFMNg5Op"
      },
      "execution_count": null,
      "outputs": []
    },
    {
      "cell_type": "code",
      "source": [
        "#Compute cosine similarity score between review-summary and review-synopsis\n",
        "simscore_synopsis_tf = cosine_similarity(X_review, X_synopsis).diagonal()\n",
        "simscore_summary_tf = cosine_similarity(X_review, X_summary).diagonal()\n",
        "\n",
        "#creating a dataframe with similarity scores as features\n",
        "df_tf = pd.DataFrame({\n",
        "    'simscore_synopsis': simscore_synopsis_tf,\n",
        "    'simscore_summary': simscore_summary_tf\n",
        "})"
      ],
      "metadata": {
        "id": "f-g3ywNLhZD8"
      },
      "execution_count": null,
      "outputs": []
    },
    {
      "cell_type": "code",
      "source": [
        "y_tf= df_reviews['is_spoiler']\n",
        "\n",
        "# Split the dataset into training and testing set\n",
        "X_train, X_test, y_train, y_test = train_test_split(df_tf, y_tf, test_size=0.2, random_state=42)"
      ],
      "metadata": {
        "id": "6espGo3GV4Qk"
      },
      "execution_count": null,
      "outputs": []
    },
    {
      "cell_type": "code",
      "source": [
        "# Initialize and train the classifier\n",
        "classifier_tflr = LogisticRegression()\n",
        "classifier_tflr.fit(X_train, y_train)\n",
        "\n",
        "# Predict on the test set\n",
        "y_pred = classifier_tflr.predict(X_test)\n",
        "\n",
        "# Evaluate the model\n",
        "print(\"Accuracy:\", accuracy_score(y_test, y_pred))\n",
        "print(\"Classification Report:\\n\", classification_report(y_test, y_pred))"
      ],
      "metadata": {
        "colab": {
          "base_uri": "https://localhost:8080/"
        },
        "id": "tZtIY_Y8hp87",
        "outputId": "ab883216-07c7-4156-b253-5ef5f61fe920"
      },
      "execution_count": null,
      "outputs": [
        {
          "output_type": "stream",
          "name": "stdout",
          "text": [
            "Accuracy: 0.5885\n",
            "Classification Report:\n",
            "               precision    recall  f1-score   support\n",
            "\n",
            "           0       0.57      0.70      0.63       987\n",
            "           1       0.62      0.48      0.54      1013\n",
            "\n",
            "    accuracy                           0.59      2000\n",
            "   macro avg       0.59      0.59      0.58      2000\n",
            "weighted avg       0.60      0.59      0.58      2000\n",
            "\n"
          ]
        }
      ]
    },
    {
      "cell_type": "code",
      "source": [
        "#Using random forest as classifier\n",
        "classifier_tfrf = RandomForestClassifier()\n",
        "classifier_tfrf.fit(X_train, y_train)\n",
        "\n",
        "# Predict on the test set\n",
        "y_pred = classifier_tfrf.predict(X_test)\n",
        "\n",
        "cm = confusion_matrix(y_test, y_pred)\n",
        "\n",
        "# Evaluate the model\n",
        "print(\"Accuracy:\", accuracy_score(y_test, y_pred))\n",
        "print(\"Classification Report:\\n\", classification_report(y_test, y_pred))\n",
        "\n",
        "# Visualize the confusion matrix\n",
        "disp = ConfusionMatrixDisplay(confusion_matrix=cm, display_labels=classifier_tfrf.classes_)\n",
        "disp.plot(cmap=plt.cm.Blues)\n",
        "plt.show()"
      ],
      "metadata": {
        "colab": {
          "base_uri": "https://localhost:8080/",
          "height": 640
        },
        "id": "v-dKRRaVTXzZ",
        "outputId": "ce779dc4-384d-4daf-d3d7-443acbe1beab"
      },
      "execution_count": null,
      "outputs": [
        {
          "output_type": "stream",
          "name": "stdout",
          "text": [
            "Accuracy: 0.546\n",
            "Classification Report:\n",
            "               precision    recall  f1-score   support\n",
            "\n",
            "           0       0.54      0.54      0.54       987\n",
            "           1       0.55      0.55      0.55      1013\n",
            "\n",
            "    accuracy                           0.55      2000\n",
            "   macro avg       0.55      0.55      0.55      2000\n",
            "weighted avg       0.55      0.55      0.55      2000\n",
            "\n"
          ]
        },
        {
          "output_type": "display_data",
          "data": {
            "text/plain": [
              "<Figure size 640x480 with 2 Axes>"
            ],
            "image/png": "[encoded data removed]"
          },
          "metadata": {}
        }
      ]
    },
    {
      "cell_type": "markdown",
      "source": [
        "## Word2Vec\n",
        "Using Word2Vec to generate embeddings and building a classifier to identify spoiler"
      ],
      "metadata": {
        "id": "9lt0KVDuf18T"
      }
    },
    {
      "cell_type": "code",
      "source": [
        "import gensim.downloader as api"
      ],
      "metadata": {
        "id": "9zyxFlA7WUJu"
      },
      "execution_count": null,
      "outputs": []
    },
    {
      "cell_type": "code",
      "source": [
        "#Load the pre-trained Word2Vec Model\n",
        "word2vec_model = api.load('word2vec-google-news-300')"
      ],
      "metadata": {
        "colab": {
          "base_uri": "https://localhost:8080/"
        },
        "id": "Xyh0LxnpTxWw",
        "outputId": "ecfdfa40-a4d6-4a5f-f582-0c7cb7e112a1"
      },
      "execution_count": null,
      "outputs": [
        {
          "output_type": "stream",
          "name": "stdout",
          "text": [
            "[==================================================] 100.0% 1662.8/1662.8MB downloaded\n"
          ]
        }
      ]
    },
    {
      "cell_type": "code",
      "source": [
        "def get_word_embeddings(text,model):\n",
        "  tokens = word_tokenize(text.lower())\n",
        "  embeddings = [model[token] for token in tokens if token in model]\n",
        "  if not embeddings:\n",
        "    return np.zeros(300)\n",
        "  return np.mean(embeddings, axis = 0)"
      ],
      "metadata": {
        "id": "Z8AGp-uahZ0-"
      },
      "execution_count": null,
      "outputs": []
    },
    {
      "cell_type": "code",
      "source": [
        "df_reviews['review_embeddings']=df_reviews['review_text'].apply(lambda x: get_word_embeddings(x,word2vec_model))\n",
        "df_reviews['synopsis_embeddings'] = df_reviews['plot_synopsis'].apply(lambda x: get_word_embeddings(x, word2vec_model))"
      ],
      "metadata": {
        "id": "bgRQYOWhiVxA"
      },
      "execution_count": null,
      "outputs": []
    },
    {
      "cell_type": "code",
      "source": [
        "df_reviews['review_embeddings'][1].shape"
      ],
      "metadata": {
        "colab": {
          "base_uri": "https://localhost:8080/"
        },
        "id": "WANoQuYCr2YR",
        "outputId": "a9191111-3b19-4733-c7a1-272d019c9855"
      },
      "execution_count": null,
      "outputs": [
        {
          "output_type": "execute_result",
          "data": {
            "text/plain": [
              "(300,)"
            ]
          },
          "metadata": {},
          "execution_count": 59
        }
      ]
    },
    {
      "cell_type": "code",
      "source": [
        "#Compute cosine similarity score between review-summary and review-synopsis\n",
        "df_reviews[\"W2Vscore_synopsis\"] = df_reviews.apply(\n",
        "    lambda x: cosine_similarity([x['review_embeddings']], [x['synopsis_embeddings']])[0][0],\n",
        "    axis=1\n",
        ")"
      ],
      "metadata": {
        "id": "eujCqNrxi8dY"
      },
      "execution_count": null,
      "outputs": []
    },
    {
      "cell_type": "code",
      "source": [
        "X_W2V = df_reviews[['W2Vscore_synopsis']]\n",
        "y_W2V = df_reviews['is_spoiler']"
      ],
      "metadata": {
        "id": "kvoer0X5vGNe"
      },
      "execution_count": null,
      "outputs": []
    },
    {
      "cell_type": "code",
      "source": [
        "# Split the dataset into training and testing set\n",
        "X_train, X_test, y_train, y_test = train_test_split(X_W2V, y_W2V, test_size=0.2, random_state=42)"
      ],
      "metadata": {
        "id": "gTx3rEuMjAJ-"
      },
      "execution_count": null,
      "outputs": []
    },
    {
      "cell_type": "code",
      "source": [
        "# Initialize and train the classifier\n",
        "classifier = LogisticRegression()\n",
        "classifier.fit(X_train, y_train)\n",
        "\n",
        "# Predict on the test set\n",
        "y_pred = classifier.predict(X_test)\n",
        "\n",
        "cm = confusion_matrix(y_test, y_pred)"
      ],
      "metadata": {
        "id": "617XgOMejScx"
      },
      "execution_count": null,
      "outputs": []
    },
    {
      "cell_type": "code",
      "source": [
        "# Evaluate the model\n",
        "print(\"Accuracy:\", accuracy_score(y_test, y_pred))\n",
        "print(\"Classification Report:\\n\", classification_report(y_test, y_pred))\n",
        "\n",
        "# Visualize the confusion matrix\n",
        "disp = ConfusionMatrixDisplay(confusion_matrix=cm, display_labels=classifier.classes_)\n",
        "disp.plot(cmap=plt.cm.Blues)\n",
        "plt.show()"
      ],
      "metadata": {
        "colab": {
          "base_uri": "https://localhost:8080/",
          "height": 640
        },
        "id": "w_KTAtTWjdde",
        "outputId": "1e065e53-1b6a-413e-c846-f459cfa2ac71"
      },
      "execution_count": null,
      "outputs": [
        {
          "output_type": "stream",
          "name": "stdout",
          "text": [
            "Accuracy: 0.59\n",
            "Classification Report:\n",
            "               precision    recall  f1-score   support\n",
            "\n",
            "           0       0.63      0.40      0.49       987\n",
            "           1       0.57      0.78      0.66      1013\n",
            "\n",
            "    accuracy                           0.59      2000\n",
            "   macro avg       0.60      0.59      0.57      2000\n",
            "weighted avg       0.60      0.59      0.57      2000\n",
            "\n"
          ]
        },
        {
          "output_type": "display_data",
          "data": {
            "text/plain": [
              "<Figure size 640x480 with 2 Axes>"
            ],
            "image/png": "[encoded data removed]"
          },
          "metadata": {}
        }
      ]
    },
    {
      "cell_type": "markdown",
      "source": [
        "# Hyperparameter tuning for Logistic Regression"
      ],
      "metadata": {
        "id": "dt0CYljy0aR_"
      }
    },
    {
      "cell_type": "code",
      "source": [
        "from sklearn.model_selection import GridSearchCV"
      ],
      "metadata": {
        "id": "_GXny-WA0f0E"
      },
      "execution_count": null,
      "outputs": []
    },
    {
      "cell_type": "code",
      "source": [
        "# Define the parameter grid for Logistic Regression\n",
        "param_grid = {\n",
        "    'C': [0.01, 0.1, 1, 10, 100],  # Inverse of regularization strength\n",
        "    'solver': ['liblinear', 'lbfgs', 'newton-cg', 'sag', 'saga'], # Optimization algorithm\n",
        "}\n",
        "\n",
        "# Initialize the Logistic Regression model\n",
        "log_reg = LogisticRegression()\n",
        "\n",
        "# Initialize GridSearchCV\n",
        "grid_search = GridSearchCV(log_reg, param_grid, cv=5, scoring='accuracy')\n",
        "\n",
        "# Fit GridSearchCV\n",
        "grid_search.fit(X_train, y_train)\n",
        "\n",
        "# Best parameters\n",
        "print(\"Best parameters found: \", grid_search.best_params_)\n",
        "\n",
        "# Best estimator\n",
        "best_log_reg = grid_search.best_estimator_\n",
        "\n",
        "# Predict on the test set\n",
        "ypred = best_log_reg.predict(X_test)\n",
        "\n",
        "# Evaluate the model\n",
        "print(\"Classification Report:\\n\", classification_report(y_test, y_pred))\n",
        "\n",
        "# Compute and display confusion matrix\n",
        "cm = confusion_matrix(y_test, y_pred)\n",
        "disp = ConfusionMatrixDisplay(confusion_matrix=cm, display_labels=best_log_reg.classes_)\n",
        "disp.plot(cmap=plt.cm.Blues)\n",
        "plt.title(\"Confusion Matrix for Logistic Regression with Word2Vec\")\n",
        "plt.show()"
      ],
      "metadata": {
        "colab": {
          "base_uri": "https://localhost:8080/",
          "height": 662
        },
        "id": "rP21gGi80jru",
        "outputId": "b1b23bc6-80ff-4b15-bd45-a9a70ea65642"
      },
      "execution_count": null,
      "outputs": [
        {
          "output_type": "stream",
          "name": "stdout",
          "text": [
            "Best parameters found:  {'C': 0.01, 'solver': 'lbfgs'}\n",
            "Classification Report:\n",
            "               precision    recall  f1-score   support\n",
            "\n",
            "           0       0.63      0.40      0.49       987\n",
            "           1       0.57      0.78      0.66      1013\n",
            "\n",
            "    accuracy                           0.59      2000\n",
            "   macro avg       0.60      0.59      0.57      2000\n",
            "weighted avg       0.60      0.59      0.57      2000\n",
            "\n"
          ]
        },
        {
          "output_type": "display_data",
          "data": {
            "text/plain": [
              "<Figure size 640x480 with 2 Axes>"
            ],
            "image/png": "[encoded data removed]"
          },
          "metadata": {}
        }
      ]
    },
    {
      "cell_type": "code",
      "source": [
        "# Hyperparameter tuning for Random Forest\n",
        "\n",
        "# Define the parameter grid for Random Forest\n",
        "param_grid = {\n",
        "    'n_estimators': [100, 200, 300],  # Number of trees in the forest\n",
        "    'max_features': ['sqrt', 'log2'],  # Number of features to consider at every split\n",
        "    'max_depth': [None, 10, 20, 30],  # Maximum number of levels in tree\n",
        "    'min_samples_split': [2, 5, 10],  # Minimum number of samples required to split a node\n",
        "    'min_samples_leaf': [1, 2, 4],  # Minimum number of samples required at each leaf node\n",
        "    'bootstrap': [True, False]  # Method of selecting samples for training each tree\n",
        "}\n",
        "\n",
        "# Initialize the Random Forest model\n",
        "rmforest = RandomForestClassifier()\n",
        "\n",
        "# Initialize GridSearchCV\n",
        "grid_search = GridSearchCV(rmforest, param_grid, cv=5, scoring='accuracy')\n",
        "\n",
        "# Fit GridSearchCV\n",
        "grid_search.fit(X_train, y_train)\n",
        "\n",
        "# Best parameters\n",
        "print(\"Best parameters found: \", grid_search.best_params_)\n",
        "\n",
        "# Best estimator\n",
        "best_rmforest = grid_search.best_estimator_\n",
        "\n",
        "# Predict on the test set\n",
        "ypred = best_rmforest.predict(X_test)\n",
        "\n",
        "# Evaluate the model\n",
        "print(\"Classification Report:\\n\", classification_report(y_test, y_pred))\n",
        "\n",
        "# Compute and display confusion matrix\n",
        "cm = confusion_matrix(y_test, y_pred)\n",
        "disp = ConfusionMatrixDisplay(confusion_matrix=cm, display_labels=best_log_reg.classes_)\n",
        "disp.plot(cmap=plt.cm.Blues)\n",
        "plt.title(\"Confusion Matrix for Logistic Regression with Word2Vec\")\n",
        "plt.show()"
      ],
      "metadata": {
        "id": "fC4xvigl1BJS"
      },
      "execution_count": null,
      "outputs": []
    },
    {
      "cell_type": "code",
      "source": [
        "df_reviews.to_pickle('/content/drive/MyDrive/IK_Mini_Project2/df_reviews_preBERT.pk1')"
      ],
      "metadata": {
        "id": "6EDTLOcGSizc"
      },
      "execution_count": null,
      "outputs": []
    },
    {
      "cell_type": "markdown",
      "source": [
        "## BERT - Transfer Learning and Fine Tuning"
      ],
      "metadata": {
        "id": "Q5q5Wyg54PCu"
      }
    },
    {
      "cell_type": "code",
      "source": [
        "#Reading the dataset for BERT model\n",
        "\n",
        "df_reviews = pd.read_pickle('/content/drive/MyDrive/IK_Mini_Project2/df_reviews_preBERT.pk1')"
      ],
      "metadata": {
        "id": "-y_0xCR5fBhh"
      },
      "execution_count": null,
      "outputs": []
    },
    {
      "cell_type": "code",
      "source": [
        "!pip install transformers"
      ],
      "metadata": {
        "id": "ctJA0U9q41TD",
        "colab": {
          "base_uri": "https://localhost:8080/"
        },
        "outputId": "0559b0ff-5500-49ca-9a4a-139fe5fbf331"
      },
      "execution_count": null,
      "outputs": [
        {
          "output_type": "stream",
          "name": "stdout",
          "text": [
            "Requirement already satisfied: transformers in /usr/local/lib/python3.10/dist-packages (4.41.2)\n",
            "Requirement already satisfied: filelock in /usr/local/lib/python3.10/dist-packages (from transformers) (3.15.4)\n",
            "Requirement already satisfied: huggingface-hub<1.0,>=0.23.0 in /usr/local/lib/python3.10/dist-packages (from transformers) (0.23.4)\n",
            "Requirement already satisfied: numpy>=1.17 in /usr/local/lib/python3.10/dist-packages (from transformers) (1.25.2)\n",
            "Requirement already satisfied: packaging>=20.0 in /usr/local/lib/python3.10/dist-packages (from transformers) (24.1)\n",
            "Requirement already satisfied: pyyaml>=5.1 in /usr/local/lib/python3.10/dist-packages (from transformers) (6.0.1)\n",
            "Requirement already satisfied: regex!=2019.12.17 in /usr/local/lib/python3.10/dist-packages (from transformers) (2024.5.15)\n",
            "Requirement already satisfied: requests in /usr/local/lib/python3.10/dist-packages (from transformers) (2.31.0)\n",
            "Requirement already satisfied: tokenizers<0.20,>=0.19 in /usr/local/lib/python3.10/dist-packages (from transformers) (0.19.1)\n",
            "Requirement already satisfied: safetensors>=0.4.1 in /usr/local/lib/python3.10/dist-packages (from transformers) (0.4.3)\n",
            "Requirement already satisfied: tqdm>=4.27 in /usr/local/lib/python3.10/dist-packages (from transformers) (4.66.4)\n",
            "Requirement already satisfied: fsspec>=2023.5.0 in /usr/local/lib/python3.10/dist-packages (from huggingface-hub<1.0,>=0.23.0->transformers) (2024.6.1)\n",
            "Requirement already satisfied: typing-extensions>=3.7.4.3 in /usr/local/lib/python3.10/dist-packages (from huggingface-hub<1.0,>=0.23.0->transformers) (4.12.2)\n",
            "Requirement already satisfied: charset-normalizer<4,>=2 in /usr/local/lib/python3.10/dist-packages (from requests->transformers) (3.3.2)\n",
            "Requirement already satisfied: idna<4,>=2.5 in /usr/local/lib/python3.10/dist-packages (from requests->transformers) (3.7)\n",
            "Requirement already satisfied: urllib3<3,>=1.21.1 in /usr/local/lib/python3.10/dist-packages (from requests->transformers) (2.0.7)\n",
            "Requirement already satisfied: certifi>=2017.4.17 in /usr/local/lib/python3.10/dist-packages (from requests->transformers) (2024.7.4)\n"
          ]
        }
      ]
    },
    {
      "cell_type": "code",
      "source": [
        "#Load pre-trained BERT model and Tokenizer\n",
        "from transformers import AlbertTokenizer, AlbertModel\n",
        "import torch"
      ],
      "metadata": {
        "id": "hKv-xeUg4UqG"
      },
      "execution_count": null,
      "outputs": []
    },
    {
      "cell_type": "code",
      "source": [
        "df_reviews.info()"
      ],
      "metadata": {
        "colab": {
          "base_uri": "https://localhost:8080/"
        },
        "id": "lVxt9o1YNQO1",
        "outputId": "f5933556-8bd8-4168-e66a-285fe88bf48a",
        "collapsed": true
      },
      "execution_count": null,
      "outputs": [
        {
          "output_type": "stream",
          "name": "stdout",
          "text": [
            "<class 'pandas.core.frame.DataFrame'>\n",
            "RangeIndex: 10000 entries, 0 to 9999\n",
            "Data columns (total 32 columns):\n",
            " #   Column               Non-Null Count  Dtype  \n",
            "---  ------               --------------  -----  \n",
            " 0   review_date          10000 non-null  object \n",
            " 1   movie_id             10000 non-null  object \n",
            " 2   is_spoiler           10000 non-null  int32  \n",
            " 3   review_text          10000 non-null  object \n",
            " 4   rating               10000 non-null  int64  \n",
            " 5   review_summary       10000 non-null  object \n",
            " 6   plot_synopsis        10000 non-null  object \n",
            " 7   plot_summary         10000 non-null  object \n",
            " 8   Action               10000 non-null  int64  \n",
            " 9   Adventure            10000 non-null  int64  \n",
            " 10  Animation            10000 non-null  int64  \n",
            " 11  Biography            10000 non-null  int64  \n",
            " 12  Comedy               10000 non-null  int64  \n",
            " 13  Crime                10000 non-null  int64  \n",
            " 14  Drama                10000 non-null  int64  \n",
            " 15  Family               10000 non-null  int64  \n",
            " 16  Fantasy              10000 non-null  int64  \n",
            " 17  Film-Noir            10000 non-null  int64  \n",
            " 18  History              10000 non-null  int64  \n",
            " 19  Horror               10000 non-null  int64  \n",
            " 20  Music                10000 non-null  int64  \n",
            " 21  Musical              10000 non-null  int64  \n",
            " 22  Mystery              10000 non-null  int64  \n",
            " 23  Romance              10000 non-null  int64  \n",
            " 24  Sci-Fi               10000 non-null  int64  \n",
            " 25  Sport                10000 non-null  int64  \n",
            " 26  Thriller             10000 non-null  int64  \n",
            " 27  War                  10000 non-null  int64  \n",
            " 28  Western              10000 non-null  int64  \n",
            " 29  review_embeddings    10000 non-null  object \n",
            " 30  synopsis_embeddings  10000 non-null  object \n",
            " 31  W2Vscore_synopsis    10000 non-null  float64\n",
            "dtypes: float64(1), int32(1), int64(22), object(8)\n",
            "memory usage: 2.4+ MB\n"
          ]
        }
      ]
    },
    {
      "cell_type": "code",
      "source": [
        "df_reviews.isna().sum()"
      ],
      "metadata": {
        "colab": {
          "base_uri": "https://localhost:8080/"
        },
        "id": "KKMPG8DVB5qi",
        "outputId": "c829d2bc-a83c-4f9e-892e-241d24b92531"
      },
      "execution_count": null,
      "outputs": [
        {
          "output_type": "execute_result",
          "data": {
            "text/plain": [
              "review_date            0\n",
              "movie_id               0\n",
              "is_spoiler             0\n",
              "review_text            0\n",
              "rating                 0\n",
              "review_summary         0\n",
              "plot_synopsis          0\n",
              "plot_summary           0\n",
              "Action                 0\n",
              "Adventure              0\n",
              "Animation              0\n",
              "Biography              0\n",
              "Comedy                 0\n",
              "Crime                  0\n",
              "Drama                  0\n",
              "Family                 0\n",
              "Fantasy                0\n",
              "Film-Noir              0\n",
              "History                0\n",
              "Horror                 0\n",
              "Music                  0\n",
              "Musical                0\n",
              "Mystery                0\n",
              "Romance                0\n",
              "Sci-Fi                 0\n",
              "Sport                  0\n",
              "Thriller               0\n",
              "War                    0\n",
              "Western                0\n",
              "review_embeddings      0\n",
              "synopsis_embeddings    0\n",
              "W2Vscore_synopsis      0\n",
              "dtype: int64"
            ]
          },
          "metadata": {},
          "execution_count": 86
        }
      ]
    },
    {
      "cell_type": "code",
      "source": [
        "# Load the pre-trained BERT tokenizer and model\n",
        "tokenizer = AlbertTokenizer.from_pretrained('albert-base-v2')\n",
        "model = AlbertModel.from_pretrained('albert-base-v2')"
      ],
      "metadata": {
        "collapsed": true,
        "id": "ozRN4k68N4tU"
      },
      "execution_count": null,
      "outputs": []
    },
    {
      "cell_type": "code",
      "source": [
        "review_lengths = df_reviews['review_text'].apply(lambda x: len(x))\n",
        "max_length = review_lengths.max()\n",
        "print(\"Maximum review length:\", max_length)"
      ],
      "metadata": {
        "colab": {
          "base_uri": "https://localhost:8080/"
        },
        "id": "O8nG7gDNeUDE",
        "outputId": "b03c6c2c-71c9-4d17-9a1e-7e530e833665"
      },
      "execution_count": null,
      "outputs": [
        {
          "output_type": "stream",
          "name": "stdout",
          "text": [
            "Maximum review length: 5992\n"
          ]
        }
      ]
    },
    {
      "cell_type": "code",
      "source": [
        "summary_lengths = df_reviews['plot_summary'].apply(lambda x: len(x))\n",
        "max_length = summary_lengths.max()\n",
        "print(\"Maximum summary length:\", max_length)"
      ],
      "metadata": {
        "colab": {
          "base_uri": "https://localhost:8080/"
        },
        "id": "I2J1JJXneygN",
        "outputId": "6801041b-4150-4b01-fc3c-1a1668d471eb"
      },
      "execution_count": null,
      "outputs": [
        {
          "output_type": "stream",
          "name": "stdout",
          "text": [
            "Maximum summary length: 840\n"
          ]
        }
      ]
    },
    {
      "cell_type": "markdown",
      "source": [
        "We have not defined the maximum length of review and summary as it will be truncated at 512 tokens by Albert and Bert."
      ],
      "metadata": {
        "id": "P8tIQ6dbVNcP"
      }
    },
    {
      "cell_type": "code",
      "source": [
        "#Convert text to AlbERT embeddings\n",
        "def get_albert_embeddings(text, tokenizer, model):\n",
        "  inputs = tokenizer(text, return_tensors='pt', max_length=512, truncation=True, padding=True)\n",
        "  with torch.no_grad():\n",
        "      outputs = model(**inputs)\n",
        "  return outputs.last_hidden_state.mean(dim=1).squeeze().numpy()"
      ],
      "metadata": {
        "id": "DOd5zfBzNlrt"
      },
      "execution_count": null,
      "outputs": []
    },
    {
      "cell_type": "code",
      "source": [
        "# Function to apply in parallel\n",
        "df_reviews['review_embeddings'] = df_reviews['review_text'].apply(lambda text:get_albert_embeddings(text, tokenizer, model))"
      ],
      "metadata": {
        "id": "VZAxPgjkORTM"
      },
      "execution_count": null,
      "outputs": []
    },
    {
      "cell_type": "code",
      "source": [
        "df_reviews['summary_embeddings'] = df_reviews['plot_summary'].apply(lambda text:get_albert_embeddings(text, tokenizer, model))"
      ],
      "metadata": {
        "id": "1sTweXL82Cvh"
      },
      "execution_count": null,
      "outputs": []
    },
    {
      "cell_type": "code",
      "source": [
        "len(df_reviews['summary_embeddings'][1])"
      ],
      "metadata": {
        "colab": {
          "base_uri": "https://localhost:8080/"
        },
        "id": "ML9rbqkjllWH",
        "outputId": "b20f52dc-cdd3-4fe6-90c3-35c215890aea"
      },
      "execution_count": null,
      "outputs": [
        {
          "output_type": "execute_result",
          "data": {
            "text/plain": [
              "768"
            ]
          },
          "metadata": {},
          "execution_count": 114
        }
      ]
    },
    {
      "cell_type": "code",
      "source": [
        "df_reviews.to_pickle('/content/drive/MyDrive/IK_Mini_Project2/df_review_Albertembeddings.pk1')"
      ],
      "metadata": {
        "id": "JHLRYBRUJz6X"
      },
      "execution_count": null,
      "outputs": []
    },
    {
      "cell_type": "markdown",
      "source": [
        "Parallelizing:\n",
        "1. Parallel and delayed functions from joblib helps to distribute the work across multiple CPU cores.\n",
        "2. n_jobs=-1: This argument tells joblib to use all available CPU cores for parallel processing\n"
      ],
      "metadata": {
        "id": "h980JoqzcHOk"
      }
    },
    {
      "cell_type": "code",
      "source": [
        "df_reviews['albert_similarityscore'] = df_reviews.apply(lambda x: cosine_similarity([x['review_embeddings']], [x['summary_embeddings']])[0][0],axis=1)"
      ],
      "metadata": {
        "id": "mc3b801aLhf-"
      },
      "execution_count": null,
      "outputs": []
    },
    {
      "cell_type": "code",
      "source": [
        "# Generating training data and labels in the desired (batch_size, 1)shape\n",
        "X = df_reviews['albert_similarityscore'].values.reshape(-1,1)\n",
        "y = df_reviews['is_spoiler'].values # y should be of the shape (batch_size, )"
      ],
      "metadata": {
        "id": "8AcuIJcXn62q"
      },
      "execution_count": null,
      "outputs": []
    },
    {
      "cell_type": "code",
      "source": [
        "y.shape"
      ],
      "metadata": {
        "colab": {
          "base_uri": "https://localhost:8080/"
        },
        "id": "BP2jYnwbkxJN",
        "outputId": "35cb7252-8bec-46b2-8828-beaed42d48cc"
      },
      "execution_count": null,
      "outputs": [
        {
          "output_type": "execute_result",
          "data": {
            "text/plain": [
              "(10000, 1)"
            ]
          },
          "metadata": {},
          "execution_count": 101
        }
      ]
    },
    {
      "cell_type": "code",
      "source": [
        "# Split the dataset into training and testing set\n",
        "X_train, X_test, y_train, y_test = train_test_split(X, y, test_size=0.2, random_state=42)"
      ],
      "metadata": {
        "id": "9stH-tLMcRV5"
      },
      "execution_count": null,
      "outputs": []
    },
    {
      "cell_type": "code",
      "source": [
        "# Initialize and train the classifier\n",
        "classifier = LogisticRegression()\n",
        "classifier.fit(X_train, y_train)\n",
        "\n",
        "# Predict on the test set\n",
        "y_pred = classifier.predict(X_test)\n",
        "\n",
        "cm = confusion_matrix(y_test, y_pred)\n",
        "\n",
        "# Evaluate the model\n",
        "print(\"Classification Report:\\n\", classification_report(y_test, y_pred))\n",
        "\n",
        "# Compute and display confusion matrix\n",
        "cm = confusion_matrix(y_test, y_pred)\n",
        "disp = ConfusionMatrixDisplay(confusion_matrix=cm)\n",
        "disp.plot(cmap=plt.cm.Blues)\n",
        "plt.title(\"Confusion Matrix for Logistic Regression with AlBert embeddings\")\n",
        "plt.show()"
      ],
      "metadata": {
        "colab": {
          "base_uri": "https://localhost:8080/",
          "height": 645
        },
        "id": "3RTKCVe9coJo",
        "outputId": "1e53d47e-9f50-4ccb-ac2a-0de30fb4d6d2"
      },
      "execution_count": null,
      "outputs": [
        {
          "output_type": "stream",
          "name": "stdout",
          "text": [
            "Classification Report:\n",
            "               precision    recall  f1-score   support\n",
            "\n",
            "           0       0.56      0.50      0.53       987\n",
            "           1       0.56      0.62      0.59      1013\n",
            "\n",
            "    accuracy                           0.56      2000\n",
            "   macro avg       0.56      0.56      0.56      2000\n",
            "weighted avg       0.56      0.56      0.56      2000\n",
            "\n"
          ]
        },
        {
          "output_type": "display_data",
          "data": {
            "text/plain": [
              "<Figure size 640x480 with 2 Axes>"
            ],
            "image/png": "[encoded data removed]"
          },
          "metadata": {}
        }
      ]
    },
    {
      "cell_type": "code",
      "source": [
        "y_pred"
      ],
      "metadata": {
        "colab": {
          "base_uri": "https://localhost:8080/"
        },
        "id": "S0IV7ozcl24b",
        "outputId": "2fec66ac-4067-473d-c624-41324c5471e5"
      },
      "execution_count": null,
      "outputs": [
        {
          "output_type": "execute_result",
          "data": {
            "text/plain": [
              "array([0, 1, 1, ..., 1, 1, 1], dtype=int32)"
            ]
          },
          "metadata": {},
          "execution_count": 108
        }
      ]
    },
    {
      "cell_type": "code",
      "source": [
        "df_reviews.to_pickle('/content/drive/MyDrive/IK_Mini_Project2/df_review_BertClassifier.pk1')"
      ],
      "metadata": {
        "id": "fCtmlwkNmjdC"
      },
      "execution_count": null,
      "outputs": []
    },
    {
      "cell_type": "markdown",
      "source": [
        "## Custom Manhattan LSTM"
      ],
      "metadata": {
        "id": "EACbAoyQ4XT9"
      }
    },
    {
      "cell_type": "markdown",
      "source": [
        "1. Building a custom Manhattan LSTM Model\n",
        "2. Using BERT for generating static tokens and embeddings that we will feed into training an LSTM Model\n",
        "3. Train using a subset of 10000 reviews given the computing resource constraint.\n",
        "\n"
      ],
      "metadata": {
        "id": "2pKyKV8K4dJb"
      }
    },
    {
      "cell_type": "markdown",
      "source": [
        "Build the custom LSTM model"
      ],
      "metadata": {
        "id": "U5PS1gsh5iF7"
      }
    },
    {
      "cell_type": "code",
      "source": [
        "#df_reviews= pd.read_pickle('/content/drive/MyDrive/IK_Mini_Project2/df_review_BertClassifier.pk1')\n",
        "df_reviews = pd.read_pickle('/content/df_review_BertClassifier.pk1')"
      ],
      "metadata": {
        "id": "9vdKbajV9opO"
      },
      "execution_count": 35,
      "outputs": []
    },
    {
      "cell_type": "code",
      "source": [
        "import torch\n",
        "import torch.nn as nn\n",
        "import torch.optim as optim"
      ],
      "metadata": {
        "id": "h7YhpWws4cLP"
      },
      "execution_count": 36,
      "outputs": []
    },
    {
      "cell_type": "code",
      "source": [
        "#Convert text to AlbERT embeddings\n",
        "def get_LSTM_embeddings(text, tokenizer, model):\n",
        "  inputs = tokenizer(text, return_tensors='pt', max_length=512, truncation=True, padding='max_length')\n",
        "  #print(f\"Tokenized input shape: {inputs['input_ids'].shape}\")\n",
        "\n",
        "  with torch.no_grad():\n",
        "      outputs = model(**inputs)\n",
        "  #print(f\"Model output shape: {outputs.last_hidden_state.shape}\")\n",
        "\n",
        "  embeddings = outputs.last_hidden_state.squeeze()\n",
        "  #print(f\"Embeddings shape: {embeddings.shape}\")\n",
        "\n",
        "  return embeddings.numpy()"
      ],
      "metadata": {
        "id": "uy3sC-4oFMRn"
      },
      "execution_count": 37,
      "outputs": []
    },
    {
      "cell_type": "code",
      "source": [
        "# Function to apply in parallel\n",
        "df_reviews['lstm_review_embeds'] = df_reviews['review_text'].apply(lambda text:get_LSTM_embeddings(text, tokenizer, model))"
      ],
      "metadata": {
        "collapsed": true,
        "id": "wEnQaixxFW1v"
      },
      "execution_count": 44,
      "outputs": []
    },
    {
      "cell_type": "code",
      "source": [
        "# Function to apply in parallel\n",
        "df_reviews['lstm_summary_embeds'] = df_reviews['plot_summary'].apply(lambda text:get_LSTM_embeddings(text, tokenizer, model))"
      ],
      "metadata": {
        "id": "I8L5SMyFaubR"
      },
      "execution_count": 45,
      "outputs": []
    },
    {
      "cell_type": "code",
      "source": [
        "df_reviews.to_pickle('/content/drive/MyDrive/IK_Mini_Project2/df_reviews_LSTM_embeddings.pk1')\n",
        "#df_reviews = pd.read_pickle('/content/drive/MyDrive/IK_Mini_Project2/df_reviews_LSTM_embeddings.pk1')"
      ],
      "metadata": {
        "id": "L654GxPvaisw"
      },
      "execution_count": null,
      "outputs": []
    },
    {
      "cell_type": "code",
      "source": [
        "df_reviews['review_embeddings'] = df_reviews['lstm_review_embeds'].apply(lambda x: np.mean(x, axis=0))\n",
        "df_reviews['summary_embeddings'] = df_reviews['lstm_summary_embeds'].apply(lambda x: np.mean(x, axis=0))"
      ],
      "metadata": {
        "id": "ho47G1DJKwpm",
        "colab": {
          "base_uri": "https://localhost:8080/",
          "height": 469
        },
        "outputId": "e2701174-250e-477b-daa7-e8307d6bd5b5"
      },
      "execution_count": 40,
      "outputs": [
        {
          "output_type": "error",
          "ename": "KeyError",
          "evalue": "'lstm_review_embeds'",
          "traceback": [
            "\u001b[0;31m---------------------------------------------------------------------------\u001b[0m",
            "\u001b[0;31mKeyError\u001b[0m                                  Traceback (most recent call last)",
            "\u001b[0;32m/usr/local/lib/python3.10/dist-packages/pandas/core/indexes/base.py\u001b[0m in \u001b[0;36mget_loc\u001b[0;34m(self, key)\u001b[0m\n\u001b[1;32m   3652\u001b[0m         \u001b[0;32mtry\u001b[0m\u001b[0;34m:\u001b[0m\u001b[0;34m\u001b[0m\u001b[0;34m\u001b[0m\u001b[0m\n\u001b[0;32m-> 3653\u001b[0;31m             \u001b[0;32mreturn\u001b[0m \u001b[0mself\u001b[0m\u001b[0;34m.\u001b[0m\u001b[0m_engine\u001b[0m\u001b[0;34m.\u001b[0m\u001b[0mget_loc\u001b[0m\u001b[0;34m(\u001b[0m\u001b[0mcasted_key\u001b[0m\u001b[0;34m)\u001b[0m\u001b[0;34m\u001b[0m\u001b[0;34m\u001b[0m\u001b[0m\n\u001b[0m\u001b[1;32m   3654\u001b[0m         \u001b[0;32mexcept\u001b[0m \u001b[0mKeyError\u001b[0m \u001b[0;32mas\u001b[0m \u001b[0merr\u001b[0m\u001b[0;34m:\u001b[0m\u001b[0;34m\u001b[0m\u001b[0;34m\u001b[0m\u001b[0m\n",
            "\u001b[0;32m/usr/local/lib/python3.10/dist-packages/pandas/_libs/index.pyx\u001b[0m in \u001b[0;36mpandas._libs.index.IndexEngine.get_loc\u001b[0;34m()\u001b[0m\n",
            "\u001b[0;32m/usr/local/lib/python3.10/dist-packages/pandas/_libs/index.pyx\u001b[0m in \u001b[0;36mpandas._libs.index.IndexEngine.get_loc\u001b[0;34m()\u001b[0m\n",
            "\u001b[0;32mpandas/_libs/hashtable_class_helper.pxi\u001b[0m in \u001b[0;36mpandas._libs.hashtable.PyObjectHashTable.get_item\u001b[0;34m()\u001b[0m\n",
            "\u001b[0;32mpandas/_libs/hashtable_class_helper.pxi\u001b[0m in \u001b[0;36mpandas._libs.hashtable.PyObjectHashTable.get_item\u001b[0;34m()\u001b[0m\n",
            "\u001b[0;31mKeyError\u001b[0m: 'lstm_review_embeds'",
            "\nThe above exception was the direct cause of the following exception:\n",
            "\u001b[0;31mKeyError\u001b[0m                                  Traceback (most recent call last)",
            "\u001b[0;32m<ipython-input-40-713e22e83b77>\u001b[0m in \u001b[0;36m<cell line: 1>\u001b[0;34m()\u001b[0m\n\u001b[0;32m----> 1\u001b[0;31m \u001b[0mdf_reviews\u001b[0m\u001b[0;34m[\u001b[0m\u001b[0;34m'review_embeddings'\u001b[0m\u001b[0;34m]\u001b[0m \u001b[0;34m=\u001b[0m \u001b[0mdf_reviews\u001b[0m\u001b[0;34m[\u001b[0m\u001b[0;34m'lstm_review_embeds'\u001b[0m\u001b[0;34m]\u001b[0m\u001b[0;34m.\u001b[0m\u001b[0mapply\u001b[0m\u001b[0;34m(\u001b[0m\u001b[0;32mlambda\u001b[0m \u001b[0mx\u001b[0m\u001b[0;34m:\u001b[0m \u001b[0mnp\u001b[0m\u001b[0;34m.\u001b[0m\u001b[0mmean\u001b[0m\u001b[0;34m(\u001b[0m\u001b[0mx\u001b[0m\u001b[0;34m,\u001b[0m \u001b[0maxis\u001b[0m\u001b[0;34m=\u001b[0m\u001b[0;36m0\u001b[0m\u001b[0;34m)\u001b[0m\u001b[0;34m)\u001b[0m\u001b[0;34m\u001b[0m\u001b[0;34m\u001b[0m\u001b[0m\n\u001b[0m\u001b[1;32m      2\u001b[0m \u001b[0mdf_reviews\u001b[0m\u001b[0;34m[\u001b[0m\u001b[0;34m'summary_embeddings'\u001b[0m\u001b[0;34m]\u001b[0m \u001b[0;34m=\u001b[0m \u001b[0mdf_reviews\u001b[0m\u001b[0;34m[\u001b[0m\u001b[0;34m'lstm_summary_embeds'\u001b[0m\u001b[0;34m]\u001b[0m\u001b[0;34m.\u001b[0m\u001b[0mapply\u001b[0m\u001b[0;34m(\u001b[0m\u001b[0;32mlambda\u001b[0m \u001b[0mx\u001b[0m\u001b[0;34m:\u001b[0m \u001b[0mnp\u001b[0m\u001b[0;34m.\u001b[0m\u001b[0mmean\u001b[0m\u001b[0;34m(\u001b[0m\u001b[0mx\u001b[0m\u001b[0;34m,\u001b[0m \u001b[0maxis\u001b[0m\u001b[0;34m=\u001b[0m\u001b[0;36m0\u001b[0m\u001b[0;34m)\u001b[0m\u001b[0;34m)\u001b[0m\u001b[0;34m\u001b[0m\u001b[0;34m\u001b[0m\u001b[0m\n",
            "\u001b[0;32m/usr/local/lib/python3.10/dist-packages/pandas/core/frame.py\u001b[0m in \u001b[0;36m__getitem__\u001b[0;34m(self, key)\u001b[0m\n\u001b[1;32m   3759\u001b[0m             \u001b[0;32mif\u001b[0m \u001b[0mself\u001b[0m\u001b[0;34m.\u001b[0m\u001b[0mcolumns\u001b[0m\u001b[0;34m.\u001b[0m\u001b[0mnlevels\u001b[0m \u001b[0;34m>\u001b[0m \u001b[0;36m1\u001b[0m\u001b[0;34m:\u001b[0m\u001b[0;34m\u001b[0m\u001b[0;34m\u001b[0m\u001b[0m\n\u001b[1;32m   3760\u001b[0m                 \u001b[0;32mreturn\u001b[0m \u001b[0mself\u001b[0m\u001b[0;34m.\u001b[0m\u001b[0m_getitem_multilevel\u001b[0m\u001b[0;34m(\u001b[0m\u001b[0mkey\u001b[0m\u001b[0;34m)\u001b[0m\u001b[0;34m\u001b[0m\u001b[0;34m\u001b[0m\u001b[0m\n\u001b[0;32m-> 3761\u001b[0;31m             \u001b[0mindexer\u001b[0m \u001b[0;34m=\u001b[0m \u001b[0mself\u001b[0m\u001b[0;34m.\u001b[0m\u001b[0mcolumns\u001b[0m\u001b[0;34m.\u001b[0m\u001b[0mget_loc\u001b[0m\u001b[0;34m(\u001b[0m\u001b[0mkey\u001b[0m\u001b[0;34m)\u001b[0m\u001b[0;34m\u001b[0m\u001b[0;34m\u001b[0m\u001b[0m\n\u001b[0m\u001b[1;32m   3762\u001b[0m             \u001b[0;32mif\u001b[0m \u001b[0mis_integer\u001b[0m\u001b[0;34m(\u001b[0m\u001b[0mindexer\u001b[0m\u001b[0;34m)\u001b[0m\u001b[0;34m:\u001b[0m\u001b[0;34m\u001b[0m\u001b[0;34m\u001b[0m\u001b[0m\n\u001b[1;32m   3763\u001b[0m                 \u001b[0mindexer\u001b[0m \u001b[0;34m=\u001b[0m \u001b[0;34m[\u001b[0m\u001b[0mindexer\u001b[0m\u001b[0;34m]\u001b[0m\u001b[0;34m\u001b[0m\u001b[0;34m\u001b[0m\u001b[0m\n",
            "\u001b[0;32m/usr/local/lib/python3.10/dist-packages/pandas/core/indexes/base.py\u001b[0m in \u001b[0;36mget_loc\u001b[0;34m(self, key)\u001b[0m\n\u001b[1;32m   3653\u001b[0m             \u001b[0;32mreturn\u001b[0m \u001b[0mself\u001b[0m\u001b[0;34m.\u001b[0m\u001b[0m_engine\u001b[0m\u001b[0;34m.\u001b[0m\u001b[0mget_loc\u001b[0m\u001b[0;34m(\u001b[0m\u001b[0mcasted_key\u001b[0m\u001b[0;34m)\u001b[0m\u001b[0;34m\u001b[0m\u001b[0;34m\u001b[0m\u001b[0m\n\u001b[1;32m   3654\u001b[0m         \u001b[0;32mexcept\u001b[0m \u001b[0mKeyError\u001b[0m \u001b[0;32mas\u001b[0m \u001b[0merr\u001b[0m\u001b[0;34m:\u001b[0m\u001b[0;34m\u001b[0m\u001b[0;34m\u001b[0m\u001b[0m\n\u001b[0;32m-> 3655\u001b[0;31m             \u001b[0;32mraise\u001b[0m \u001b[0mKeyError\u001b[0m\u001b[0;34m(\u001b[0m\u001b[0mkey\u001b[0m\u001b[0;34m)\u001b[0m \u001b[0;32mfrom\u001b[0m \u001b[0merr\u001b[0m\u001b[0;34m\u001b[0m\u001b[0;34m\u001b[0m\u001b[0m\n\u001b[0m\u001b[1;32m   3656\u001b[0m         \u001b[0;32mexcept\u001b[0m \u001b[0mTypeError\u001b[0m\u001b[0;34m:\u001b[0m\u001b[0;34m\u001b[0m\u001b[0;34m\u001b[0m\u001b[0m\n\u001b[1;32m   3657\u001b[0m             \u001b[0;31m# If we have a listlike key, _check_indexing_error will raise\u001b[0m\u001b[0;34m\u001b[0m\u001b[0;34m\u001b[0m\u001b[0m\n",
            "\u001b[0;31mKeyError\u001b[0m: 'lstm_review_embeds'"
          ]
        }
      ]
    },
    {
      "cell_type": "code",
      "source": [
        "# calculating cosine similarity between review_embeddings and summary_embeddings\n",
        "df_reviews['NN_score'] = df_reviews.apply(lambda x: cosine_similarity([x['review_embeddings']], [x['summary_embeddings']])[0][0],axis=1)"
      ],
      "metadata": {
        "id": "E3W_By_75ybG"
      },
      "execution_count": null,
      "outputs": []
    },
    {
      "cell_type": "code",
      "source": [
        "df_reviews.to_pickle('/content/drive/MyDrive/IK_Mini_Project2/df_reviews_LSTM_embeddings2.pk1')"
      ],
      "metadata": {
        "id": "OuRPcywkywiX",
        "colab": {
          "base_uri": "https://localhost:8080/",
          "height": 299
        },
        "outputId": "f7d9206e-df54-4957-9f7c-af61a3a83a57"
      },
      "execution_count": null,
      "outputs": [
        {
          "output_type": "error",
          "ename": "KeyboardInterrupt",
          "evalue": "",
          "traceback": [
            "\u001b[0;31m---------------------------------------------------------------------------\u001b[0m",
            "\u001b[0;31mKeyboardInterrupt\u001b[0m                         Traceback (most recent call last)",
            "\u001b[0;32m<ipython-input-12-55bac0f1beb3>\u001b[0m in \u001b[0;36m<cell line: 1>\u001b[0;34m()\u001b[0m\n\u001b[0;32m----> 1\u001b[0;31m \u001b[0mdf_reviews\u001b[0m\u001b[0;34m.\u001b[0m\u001b[0mto_pickle\u001b[0m\u001b[0;34m(\u001b[0m\u001b[0;34m'/content/drive/MyDrive/IK_Mini_Project2/df_reviews_LSTM_embeddings2.pk1'\u001b[0m\u001b[0;34m)\u001b[0m\u001b[0;34m\u001b[0m\u001b[0;34m\u001b[0m\u001b[0m\n\u001b[0m",
            "\u001b[0;32m/usr/local/lib/python3.10/dist-packages/pandas/core/generic.py\u001b[0m in \u001b[0;36mto_pickle\u001b[0;34m(self, path, compression, protocol, storage_options)\u001b[0m\n\u001b[1;32m   2953\u001b[0m         \u001b[0;32mfrom\u001b[0m \u001b[0mpandas\u001b[0m\u001b[0;34m.\u001b[0m\u001b[0mio\u001b[0m\u001b[0;34m.\u001b[0m\u001b[0mpickle\u001b[0m \u001b[0;32mimport\u001b[0m \u001b[0mto_pickle\u001b[0m\u001b[0;34m\u001b[0m\u001b[0;34m\u001b[0m\u001b[0m\n\u001b[1;32m   2954\u001b[0m \u001b[0;34m\u001b[0m\u001b[0m\n\u001b[0;32m-> 2955\u001b[0;31m         to_pickle(\n\u001b[0m\u001b[1;32m   2956\u001b[0m             \u001b[0mself\u001b[0m\u001b[0;34m,\u001b[0m\u001b[0;34m\u001b[0m\u001b[0;34m\u001b[0m\u001b[0m\n\u001b[1;32m   2957\u001b[0m             \u001b[0mpath\u001b[0m\u001b[0;34m,\u001b[0m\u001b[0;34m\u001b[0m\u001b[0;34m\u001b[0m\u001b[0m\n",
            "\u001b[0;32m/usr/local/lib/python3.10/dist-packages/pandas/io/pickle.py\u001b[0m in \u001b[0;36mto_pickle\u001b[0;34m(obj, filepath_or_buffer, compression, protocol, storage_options)\u001b[0m\n\u001b[1;32m     93\u001b[0m         \u001b[0mprotocol\u001b[0m \u001b[0;34m=\u001b[0m \u001b[0mpickle\u001b[0m\u001b[0;34m.\u001b[0m\u001b[0mHIGHEST_PROTOCOL\u001b[0m\u001b[0;34m\u001b[0m\u001b[0;34m\u001b[0m\u001b[0m\n\u001b[1;32m     94\u001b[0m \u001b[0;34m\u001b[0m\u001b[0m\n\u001b[0;32m---> 95\u001b[0;31m     with get_handle(\n\u001b[0m\u001b[1;32m     96\u001b[0m         \u001b[0mfilepath_or_buffer\u001b[0m\u001b[0;34m,\u001b[0m\u001b[0;34m\u001b[0m\u001b[0;34m\u001b[0m\u001b[0m\n\u001b[1;32m     97\u001b[0m         \u001b[0;34m\"wb\"\u001b[0m\u001b[0;34m,\u001b[0m\u001b[0;34m\u001b[0m\u001b[0;34m\u001b[0m\u001b[0m\n",
            "\u001b[0;32m/usr/local/lib/python3.10/dist-packages/pandas/io/common.py\u001b[0m in \u001b[0;36mget_handle\u001b[0;34m(path_or_buf, mode, encoding, compression, memory_map, is_text, errors, storage_options)\u001b[0m\n\u001b[1;32m    866\u001b[0m         \u001b[0;32melse\u001b[0m\u001b[0;34m:\u001b[0m\u001b[0;34m\u001b[0m\u001b[0;34m\u001b[0m\u001b[0m\n\u001b[1;32m    867\u001b[0m             \u001b[0;31m# Binary mode\u001b[0m\u001b[0;34m\u001b[0m\u001b[0;34m\u001b[0m\u001b[0m\n\u001b[0;32m--> 868\u001b[0;31m             \u001b[0mhandle\u001b[0m \u001b[0;34m=\u001b[0m \u001b[0mopen\u001b[0m\u001b[0;34m(\u001b[0m\u001b[0mhandle\u001b[0m\u001b[0;34m,\u001b[0m \u001b[0mioargs\u001b[0m\u001b[0;34m.\u001b[0m\u001b[0mmode\u001b[0m\u001b[0;34m)\u001b[0m\u001b[0;34m\u001b[0m\u001b[0;34m\u001b[0m\u001b[0m\n\u001b[0m\u001b[1;32m    869\u001b[0m         \u001b[0mhandles\u001b[0m\u001b[0;34m.\u001b[0m\u001b[0mappend\u001b[0m\u001b[0;34m(\u001b[0m\u001b[0mhandle\u001b[0m\u001b[0;34m)\u001b[0m\u001b[0;34m\u001b[0m\u001b[0;34m\u001b[0m\u001b[0m\n\u001b[1;32m    870\u001b[0m \u001b[0;34m\u001b[0m\u001b[0m\n",
            "\u001b[0;31mKeyboardInterrupt\u001b[0m: "
          ]
        }
      ]
    },
    {
      "cell_type": "markdown",
      "source": [
        "## Forward Neural Net Classifier"
      ],
      "metadata": {
        "id": "vTRwT_lMn1Fz"
      }
    },
    {
      "cell_type": "code",
      "source": [
        "df_reviews = pd.read_pickle('/content/drive/MyDrive/IK_Mini_Project2/df_reviews_LSTM_embeddings2.pk1')"
      ],
      "metadata": {
        "id": "2VRCwj2PzKkw",
        "colab": {
          "base_uri": "https://localhost:8080/",
          "height": 258
        },
        "outputId": "09861cbd-717f-43fd-a82d-6e375723d37a"
      },
      "execution_count": null,
      "outputs": [
        {
          "output_type": "error",
          "ename": "EOFError",
          "evalue": "Ran out of input",
          "traceback": [
            "\u001b[0;31m---------------------------------------------------------------------------\u001b[0m",
            "\u001b[0;31mEOFError\u001b[0m                                  Traceback (most recent call last)",
            "\u001b[0;32m<ipython-input-7-716b1f151ff9>\u001b[0m in \u001b[0;36m<cell line: 1>\u001b[0;34m()\u001b[0m\n\u001b[0;32m----> 1\u001b[0;31m \u001b[0mdf_reviews\u001b[0m \u001b[0;34m=\u001b[0m \u001b[0mpd\u001b[0m\u001b[0;34m.\u001b[0m\u001b[0mread_pickle\u001b[0m\u001b[0;34m(\u001b[0m\u001b[0;34m'/content/drive/MyDrive/IK_Mini_Project2/df_reviews_LSTM_embeddings2.pk1'\u001b[0m\u001b[0;34m)\u001b[0m\u001b[0;34m\u001b[0m\u001b[0;34m\u001b[0m\u001b[0m\n\u001b[0m",
            "\u001b[0;32m/usr/local/lib/python3.10/dist-packages/pandas/io/pickle.py\u001b[0m in \u001b[0;36mread_pickle\u001b[0;34m(filepath_or_buffer, compression, storage_options)\u001b[0m\n\u001b[1;32m    194\u001b[0m                     \u001b[0;31m# We want to silence any warnings about, e.g. moved modules.\u001b[0m\u001b[0;34m\u001b[0m\u001b[0;34m\u001b[0m\u001b[0m\n\u001b[1;32m    195\u001b[0m                     \u001b[0mwarnings\u001b[0m\u001b[0;34m.\u001b[0m\u001b[0msimplefilter\u001b[0m\u001b[0;34m(\u001b[0m\u001b[0;34m\"ignore\"\u001b[0m\u001b[0;34m,\u001b[0m \u001b[0mWarning\u001b[0m\u001b[0;34m)\u001b[0m\u001b[0;34m\u001b[0m\u001b[0;34m\u001b[0m\u001b[0m\n\u001b[0;32m--> 196\u001b[0;31m                     \u001b[0;32mreturn\u001b[0m \u001b[0mpickle\u001b[0m\u001b[0;34m.\u001b[0m\u001b[0mload\u001b[0m\u001b[0;34m(\u001b[0m\u001b[0mhandles\u001b[0m\u001b[0;34m.\u001b[0m\u001b[0mhandle\u001b[0m\u001b[0;34m)\u001b[0m\u001b[0;34m\u001b[0m\u001b[0;34m\u001b[0m\u001b[0m\n\u001b[0m\u001b[1;32m    197\u001b[0m             \u001b[0;32mexcept\u001b[0m \u001b[0mexcs_to_catch\u001b[0m\u001b[0;34m:\u001b[0m\u001b[0;34m\u001b[0m\u001b[0;34m\u001b[0m\u001b[0m\n\u001b[1;32m    198\u001b[0m                 \u001b[0;31m# e.g.\u001b[0m\u001b[0;34m\u001b[0m\u001b[0;34m\u001b[0m\u001b[0m\n",
            "\u001b[0;31mEOFError\u001b[0m: Ran out of input"
          ]
        }
      ]
    },
    {
      "cell_type": "code",
      "source": [
        "#Transforming the inputs into right input structure for NN model feed\n",
        "\n",
        "review_embeddings = np.array(df_reviews['review_embeddings'].tolist(), dtype=np.float32)\n",
        "summary_embeddings = np.array(df_reviews['summary_embeddings'].tolist(), dtype=np.float32)\n",
        "NN_similarityscore = np.array(df_reviews['NN_score'].tolist(), dtype=np.float32)\n",
        "\n",
        "# Converting inputs into pytorch tensor to feed into building LSTM model\n",
        "reviews = torch.tensor(review_embeddings, dtype=torch.float32)\n",
        "summaries = torch.tensor(summary_embeddings, dtype=torch.float32)\n",
        "NN_scores = torch.tensor(NN_similarityscore,dtype=torch.float32)\n",
        "labels = torch.tensor(df_reviews['is_spoiler'].values, dtype=torch.float32)"
      ],
      "metadata": {
        "id": "fB_VxUWsoxsv"
      },
      "execution_count": null,
      "outputs": []
    },
    {
      "cell_type": "code",
      "source": [
        "#splitting the dataset into training and testing dataset\n",
        "X_train, X_test, y_train, y_test = train_test_split(NN_scores, labels, test_size=0.2, random_state=42)"
      ],
      "metadata": {
        "id": "ExBMcZjaER5d"
      },
      "execution_count": null,
      "outputs": []
    },
    {
      "cell_type": "code",
      "source": [
        "class ReviewClassifier(nn.Module):\n",
        "    def __init__(self, input_dim, hidden_dim, output_dim):\n",
        "        super(ReviewClassifier, self).__init__()\n",
        "        # Define layers\n",
        "        self.fc1 = nn.Linear(input_dim, hidden_dim)  # First layer\n",
        "        self.relu = nn.ReLU()                        # Activation function\n",
        "        self.fc2 = nn.Linear(hidden_dim, int(hidden_dim*0.5)) # Output layer\n",
        "        self.fc3 = nn.Linear(int(hidden_dim*0.5), int(hidden_dim*0.25)) # Output layer\n",
        "        self.fc4 = nn.Linear(int(hidden_dim*0.25), output_dim) # Output layer\n",
        "\n",
        "    def forward(self, x):\n",
        "        x = x.unsqueeze(1)\n",
        "        x = self.fc1(x)    # Pass input through the first layer\n",
        "        x = self.relu(x)   # Apply activation function\n",
        "        x = self.fc2(x)    # Final layer to produce the output\n",
        "        x = self.relu(x)   # Apply activation function\n",
        "        x = self.fc3(x)    # Final layer to produce the output\n",
        "        x = self.relu(x)   # Apply activation function\n",
        "        x = self.fc4(x)    # Final layer to produce the output\n",
        "        return x\n",
        "\n",
        "#Parameters\n",
        "input_dim = 1  # Dimension of the averaged embeddings\n",
        "hidden_dim = 128 # Size of the hidden layer\n",
        "\n",
        "output_dim = 1   # For binary classification tasks, e.g., spoiler or not\n",
        "learning_rate = 0.05\n",
        "num_epochs = 1000\n",
        "\n",
        "model = ReviewClassifier(input_dim, hidden_dim, output_dim)"
      ],
      "metadata": {
        "id": "HLiJ22afn0vm"
      },
      "execution_count": null,
      "outputs": []
    },
    {
      "cell_type": "code",
      "source": [
        "#Training the model\n",
        "\n",
        "criterion = nn.BCEWithLogitsLoss()  # Binary cross-entropy loss for binary classification\n",
        "optimizer = torch.optim.Adam(model.parameters(), lr=0.001)  # Adam optimizer\n",
        "\n",
        "# Assuming you have data loaded in variables `features` and `labels`\n",
        "for epoch in range(num_epochs):\n",
        "    optimizer.zero_grad()          # Clear gradients\n",
        "    outputs = model(X_train)      # Compute model output\n",
        "    loss = criterion(outputs, y_train.unsqueeze(1))  # Compute loss\n",
        "    loss.backward()               # Backpropagate the loss\n",
        "    optimizer.step()              # Update weights\n",
        "\n",
        "    # print(f\"Epoch {epoch+1}, Loss: {loss.item()}\")"
      ],
      "metadata": {
        "id": "tmH1eSLDoYuk"
      },
      "execution_count": null,
      "outputs": []
    },
    {
      "cell_type": "code",
      "source": [
        "# Function to predict using the model\n",
        "def predict(model, inputs, threshold):\n",
        "    with torch.no_grad():  # Ensure no gradients are calculated\n",
        "        logits = model(inputs)      # Get raw logits from the model\n",
        "        probabilities = torch.sigmoid(logits)  # Convert logits to probabilities\n",
        "        labels = (probabilities > threshold).float()\n",
        "        return labels\n",
        "\n",
        "threshold = 0.5\n",
        "model.eval()  # Set the model to evaluation mode\n",
        "y_pred = predict(model, X_test, threshold)\n",
        "\n",
        "cm = confusion_matrix(y_test, y_pred)\n",
        "\n",
        "# Evaluate the model\n",
        "print(\"Classification Report:\\n\", classification_report(y_test, y_pred))\n",
        "\n",
        "# Compute and display confusion matrix\n",
        "cm = confusion_matrix(y_test, y_pred)\n",
        "disp = ConfusionMatrixDisplay(confusion_matrix=cm)\n",
        "disp.plot(cmap=plt.cm.Blues)\n",
        "plt.title(\"Confusion Matrix for NN Classifier\")\n",
        "plt.show()"
      ],
      "metadata": {
        "colab": {
          "base_uri": "https://localhost:8080/",
          "height": 642
        },
        "id": "6QcjG89kD9IP",
        "outputId": "67c595bb-9e0e-4484-9fdc-f3c60abe92f0"
      },
      "execution_count": null,
      "outputs": [
        {
          "output_type": "stream",
          "name": "stdout",
          "text": [
            "Classification Report:\n",
            "               precision    recall  f1-score   support\n",
            "\n",
            "         0.0       0.51      0.84      0.64       987\n",
            "         1.0       0.59      0.22      0.32      1013\n",
            "\n",
            "    accuracy                           0.53      2000\n",
            "   macro avg       0.55      0.53      0.48      2000\n",
            "weighted avg       0.55      0.53      0.48      2000\n",
            "\n"
          ]
        },
        {
          "output_type": "display_data",
          "data": {
            "text/plain": [
              "<Figure size 640x480 with 2 Axes>"
            ],
            "image/png": "[encoded data removed]"
          },
          "metadata": {}
        }
      ]
    },
    {
      "cell_type": "markdown",
      "source": [
        "## Siamese LSTM Model"
      ],
      "metadata": {
        "id": "v1tKGG3YnueP"
      }
    },
    {
      "cell_type": "code",
      "source": [
        "review_embeddings = np.array(df_reviews['lstm_review_embeds'].tolist(), dtype=np.float32)\n",
        "summary_embeddings = np.array(df_reviews['lstm_summary_embeds'].tolist(), dtype=np.float32)\n",
        "#lstm_labels = np.array(df_reviews['is_spoiler'].tolist(), dtype=np.float32)\n",
        "\n",
        "# Converting inputs into pytorch tensor to feed into building LSTM model\n",
        "reviews = torch.tensor(review_embeddings, dtype=torch.float32)\n",
        "summaries = torch.tensor(summary_embeddings, dtype=torch.float32)\n",
        "lstm_label = torch.tensor(df_reviews['is_spoiler'].values, dtype=torch.float32)"
      ],
      "metadata": {
        "id": "frwuBW-vdR3q"
      },
      "execution_count": null,
      "outputs": []
    },
    {
      "cell_type": "code",
      "source": [
        "reviews.shape"
      ],
      "metadata": {
        "colab": {
          "base_uri": "https://localhost:8080/"
        },
        "id": "tbnDQMR33nQL",
        "outputId": "a6327378-14d0-4674-b322-20b7e195338c"
      },
      "execution_count": null,
      "outputs": [
        {
          "output_type": "execute_result",
          "data": {
            "text/plain": [
              "torch.Size([10000, 512, 768])"
            ]
          },
          "metadata": {},
          "execution_count": 158
        }
      ]
    },
    {
      "cell_type": "code",
      "source": [
        "#Generating training and testing dataset\n",
        "X_train_review, X_test_review, X_train_summary, X_test_summary, y_train, y_test = train_test_split(reviews, summaries, lstm_label, test_size=0.2, random_state=42)"
      ],
      "metadata": {
        "id": "4xHcFcMEMJIO"
      },
      "execution_count": null,
      "outputs": []
    },
    {
      "cell_type": "code",
      "source": [
        "X_train_summary.shape"
      ],
      "metadata": {
        "colab": {
          "base_uri": "https://localhost:8080/"
        },
        "id": "czuLrTpqPPpb",
        "outputId": "82f3a8b3-dc22-46ba-afd8-cde6abdefc66"
      },
      "execution_count": null,
      "outputs": [
        {
          "output_type": "execute_result",
          "data": {
            "text/plain": [
              "torch.Size([8000, 512, 768])"
            ]
          },
          "metadata": {},
          "execution_count": 160
        }
      ]
    },
    {
      "cell_type": "code",
      "source": [
        "class lstm_model(nn.Module):\n",
        "  def __init__(self, input_dim, hidden_dim, n_layers, output_dim, dropout_rate):\n",
        "    super(lstm_model, self).__init__()\n",
        "\n",
        "    '''\n",
        "      The parent class's __init__ method needs to be called to ensure that all attributes and methods defined in the parent class are properly initialized.\n",
        "      Here, we are calling the super class of LSTM model\n",
        "    '''\n",
        "\n",
        "    self.lstm = nn.LSTM(input_dim,hidden_dim, n_layers, batch_first=True, dropout=dropout_rate)\n",
        "    self.fc = nn.Linear(hidden_dim, hidden_dim) # Fully connected layer- maps the last hidden state to the output dim\n",
        "\n",
        "  def forward(self, x):\n",
        "    print (f\"x.shape:{x.shape}\")\n",
        "    #x = x.unsqueeze(1)\n",
        "    print (f\"x.shape after unsqueezing:{x.shape}\")\n",
        "    h0 = torch.zeros(n_layers, x.shape[0], hidden_dim).to(x.device)\n",
        "    c0 = torch.zeros(n_layers, x.shape[0], hidden_dim).to(x.device)\n",
        "    out, _ = self.lstm(x, (h0, c0))\n",
        "    print (f\"Shape of LSTM output:{out.shape}\")\n",
        "    '''\n",
        "        out, (hidden state, cell_state) = self.lstm(x, (h0, c0)`\n",
        "        out: Contains the hidden state for each time step with shape (batch_size, sequence_length, hidden_dim)\n",
        "        hidden_state: Contains the final hidden state for each layer with shape (num_layers, batch_size, hidden_dim)\n",
        "        cell_state: Contains the final cell state for each layer with shape (num_layers, batch_size, hidden_dim)\n",
        "    '''\n",
        "    out = self.fc(out[:, -1, :]) # selects the hidden state output of the last time stamp from each sequence in the batch in the layer\n",
        "    print (f\"out.shape post fc:{out.shape}\")\n",
        "    return out"
      ],
      "metadata": {
        "id": "MxfSN-9Ac7HL"
      },
      "execution_count": null,
      "outputs": []
    },
    {
      "cell_type": "code",
      "source": [
        "#Defining the Siamese Network\n",
        "class SiameseNetwork(nn.Module):\n",
        "  def __init__(self, input_dim, hidden_dim, n_layers,output_dim,dropout_rate):\n",
        "    super(SiameseNetwork, self).__init__()\n",
        "\n",
        "    self.lstm_review = lstm_model(input_dim, hidden_dim, n_layers,output_dim,dropout_rate)\n",
        "    self.lstm_summary = lstm_model(input_dim, hidden_dim, n_layers,output_dim,dropout_rate)\n",
        "    self.fc = nn.Linear(hidden_dim, output_dim)\n",
        "    self.sigmoid = nn.Sigmoid()\n",
        "\n",
        "  def forward(self, review, summary):\n",
        "    review_encoded = self.lstm_review(review)\n",
        "    summary_encoded = self.lstm_summary(summary)\n",
        "    #print(f\"Encoded Reviews Shape:{review_encoded.shape}\")  # Should print something like (batch_size, hidden_dim)\n",
        "    #print(f\"Encoded Summaries Shape:{summary_encoded.shape}\")  # Should match above\n",
        "\n",
        "    combined_feature = torch.abs(review_encoded-summary_encoded)\n",
        "    #print(f\"Combined Feature Shape:{combined_feature.shape}\")  # Should be (batch_size, hidden_dim)\n",
        "\n",
        "    logits = self.fc(combined_feature)\n",
        "    output = self.sigmoid(logits)\n",
        "\n",
        "    return output"
      ],
      "metadata": {
        "id": "mLtPRKeldBwp",
        "colab": {
          "base_uri": "https://localhost:8080/",
          "height": 207
        },
        "outputId": "9d67bb52-9cf3-4f94-99de-93cf4bb97093"
      },
      "execution_count": null,
      "outputs": [
        {
          "output_type": "error",
          "ename": "NameError",
          "evalue": "name 'nn' is not defined",
          "traceback": [
            "\u001b[0;31m---------------------------------------------------------------------------\u001b[0m",
            "\u001b[0;31mNameError\u001b[0m                                 Traceback (most recent call last)",
            "\u001b[0;32m<ipython-input-2-e20e389b60f2>\u001b[0m in \u001b[0;36m<cell line: 2>\u001b[0;34m()\u001b[0m\n\u001b[1;32m      1\u001b[0m \u001b[0;31m#Defining the Siamese Network\u001b[0m\u001b[0;34m\u001b[0m\u001b[0;34m\u001b[0m\u001b[0m\n\u001b[0;32m----> 2\u001b[0;31m \u001b[0;32mclass\u001b[0m \u001b[0mSiameseNetwork\u001b[0m\u001b[0;34m(\u001b[0m\u001b[0mnn\u001b[0m\u001b[0;34m.\u001b[0m\u001b[0mModule\u001b[0m\u001b[0;34m)\u001b[0m\u001b[0;34m:\u001b[0m\u001b[0;34m\u001b[0m\u001b[0;34m\u001b[0m\u001b[0m\n\u001b[0m\u001b[1;32m      3\u001b[0m   \u001b[0;32mdef\u001b[0m \u001b[0m__init__\u001b[0m\u001b[0;34m(\u001b[0m\u001b[0mself\u001b[0m\u001b[0;34m,\u001b[0m \u001b[0minput_dim\u001b[0m\u001b[0;34m,\u001b[0m \u001b[0mhidden_dim\u001b[0m\u001b[0;34m,\u001b[0m \u001b[0mn_layers\u001b[0m\u001b[0;34m,\u001b[0m\u001b[0moutput_dim\u001b[0m\u001b[0;34m,\u001b[0m\u001b[0mdropout_rate\u001b[0m\u001b[0;34m)\u001b[0m\u001b[0;34m:\u001b[0m\u001b[0;34m\u001b[0m\u001b[0;34m\u001b[0m\u001b[0m\n\u001b[1;32m      4\u001b[0m     \u001b[0msuper\u001b[0m\u001b[0;34m(\u001b[0m\u001b[0mSiameseNetwork\u001b[0m\u001b[0;34m,\u001b[0m \u001b[0mself\u001b[0m\u001b[0;34m)\u001b[0m\u001b[0;34m.\u001b[0m\u001b[0m__init__\u001b[0m\u001b[0;34m(\u001b[0m\u001b[0;34m)\u001b[0m\u001b[0;34m\u001b[0m\u001b[0;34m\u001b[0m\u001b[0m\n\u001b[1;32m      5\u001b[0m \u001b[0;34m\u001b[0m\u001b[0m\n",
            "\u001b[0;31mNameError\u001b[0m: name 'nn' is not defined"
          ]
        }
      ]
    },
    {
      "cell_type": "code",
      "source": [
        "# Training the Siamese network\n",
        "#hyperparameters\n",
        "input_dim = 768 # df_reviews['review_embeddings'][0].shape[0]\n",
        "hidden_dim = 128\n",
        "output_dim = 1  # Example: binary classification\n",
        "n_layers = 5\n",
        "learning_rate = 0.005\n",
        "num_epochs = 10\n",
        "dropout_rate = 0.4\n",
        "\n",
        "model = SiameseNetwork(input_dim, hidden_dim, n_layers,output_dim,dropout_rate)\n",
        "criterion = nn.BCELoss()\n",
        "optimizer = optim.Adam(model.parameters(), lr = learning_rate)"
      ],
      "metadata": {
        "id": "Z8dRGshodGYU",
        "colab": {
          "base_uri": "https://localhost:8080/",
          "height": 207
        },
        "outputId": "e114d3bf-d413-4540-f8c4-a51679bfc6c8"
      },
      "execution_count": null,
      "outputs": [
        {
          "output_type": "error",
          "ename": "NameError",
          "evalue": "name 'SiameseNetwork' is not defined",
          "traceback": [
            "\u001b[0;31m---------------------------------------------------------------------------\u001b[0m",
            "\u001b[0;31mNameError\u001b[0m                                 Traceback (most recent call last)",
            "\u001b[0;32m<ipython-input-1-403d33ddf4fb>\u001b[0m in \u001b[0;36m<cell line: 11>\u001b[0;34m()\u001b[0m\n\u001b[1;32m      9\u001b[0m \u001b[0mdropout_rate\u001b[0m \u001b[0;34m=\u001b[0m \u001b[0;36m0.4\u001b[0m\u001b[0;34m\u001b[0m\u001b[0;34m\u001b[0m\u001b[0m\n\u001b[1;32m     10\u001b[0m \u001b[0;34m\u001b[0m\u001b[0m\n\u001b[0;32m---> 11\u001b[0;31m \u001b[0mmodel\u001b[0m \u001b[0;34m=\u001b[0m \u001b[0mSiameseNetwork\u001b[0m\u001b[0;34m(\u001b[0m\u001b[0minput_dim\u001b[0m\u001b[0;34m,\u001b[0m \u001b[0mhidden_dim\u001b[0m\u001b[0;34m,\u001b[0m \u001b[0mn_layers\u001b[0m\u001b[0;34m,\u001b[0m\u001b[0moutput_dim\u001b[0m\u001b[0;34m,\u001b[0m\u001b[0mdropout_rate\u001b[0m\u001b[0;34m)\u001b[0m\u001b[0;34m\u001b[0m\u001b[0;34m\u001b[0m\u001b[0m\n\u001b[0m\u001b[1;32m     12\u001b[0m \u001b[0mcriterion\u001b[0m \u001b[0;34m=\u001b[0m \u001b[0mnn\u001b[0m\u001b[0;34m.\u001b[0m\u001b[0mBCELoss\u001b[0m\u001b[0;34m(\u001b[0m\u001b[0;34m)\u001b[0m\u001b[0;34m\u001b[0m\u001b[0;34m\u001b[0m\u001b[0m\n\u001b[1;32m     13\u001b[0m \u001b[0moptimizer\u001b[0m \u001b[0;34m=\u001b[0m \u001b[0moptim\u001b[0m\u001b[0;34m.\u001b[0m\u001b[0mAdam\u001b[0m\u001b[0;34m(\u001b[0m\u001b[0mmodel\u001b[0m\u001b[0;34m.\u001b[0m\u001b[0mparameters\u001b[0m\u001b[0;34m(\u001b[0m\u001b[0;34m)\u001b[0m\u001b[0;34m,\u001b[0m \u001b[0mlr\u001b[0m \u001b[0;34m=\u001b[0m \u001b[0mlearning_rate\u001b[0m\u001b[0;34m)\u001b[0m\u001b[0;34m\u001b[0m\u001b[0;34m\u001b[0m\u001b[0m\n",
            "\u001b[0;31mNameError\u001b[0m: name 'SiameseNetwork' is not defined"
          ]
        }
      ]
    },
    {
      "cell_type": "code",
      "source": [
        "for epoch in range(num_epochs):\n",
        "  model.train()\n",
        "  optimizer.zero_grad()\n",
        "\n",
        "  #Forward Pass\n",
        "  outputs = model(X_train_review,X_train_summary) #invoking the forward pass of the siamesenetwork\n",
        "  #print(f\"Shape of output of Siamese network:{outputs.shape}\")\n",
        "  #print(f\"Shape of output of label:{y_train.shape}\")\n",
        "  loss = criterion(outputs, y_train.unsqueeze(1)) # outputs will have the shape of (Batch_size, 1). Squeeze will remove the extra dimension which is batch size\n",
        "  loss.backward()\n",
        "  optimizer.step()\n",
        "\n",
        "  print(f'Epoch [{epoch+1}/{num_epochs}], Loss: {loss.item():.4f}')\n"
      ],
      "metadata": {
        "collapsed": true,
        "id": "SSnavmuudUbN",
        "colab": {
          "base_uri": "https://localhost:8080/"
        },
        "outputId": "b118e40d-97bb-468b-d02c-304bf1ba4d1b"
      },
      "execution_count": null,
      "outputs": [
        {
          "output_type": "stream",
          "name": "stdout",
          "text": [
            "x.shape:torch.Size([8000, 512, 768])\n",
            "x.shape after unsqueezing:torch.Size([8000, 512, 768])\n",
            "Shape of LSTM output:torch.Size([8000, 512, 128])\n",
            "out.shape post fc:torch.Size([8000, 128])\n",
            "x.shape:torch.Size([8000, 512, 768])\n",
            "x.shape after unsqueezing:torch.Size([8000, 512, 768])\n"
          ]
        }
      ]
    },
    {
      "cell_type": "code",
      "source": [
        "# Function to predict using the model\n",
        "def predict(model, input1, input2, threshold):\n",
        "    with torch.no_grad():  # Ensure no gradients are calculated\n",
        "        logits = model(input1,input2)      # Get raw logits from the model\n",
        "        probabilities = torch.sigmoid(logits)  # Convert logits to probabilities\n",
        "        labels = (probabilities > threshold).float()\n",
        "        return labels\n",
        "\n",
        "threshold = 0.60\n",
        "model.eval()  # Set the model to evaluation mode\n",
        "y_pred = predict(model, X_test_review, X_test_summary, threshold)\n",
        "\n",
        "cm = confusion_matrix(y_test, y_pred)\n",
        "\n",
        "# Evaluate the model\n",
        "print(\"Classification Report:\\n\", classification_report(y_test, y_pred))\n",
        "\n",
        "# Compute and display confusion matrix\n",
        "cm = confusion_matrix(y_test, y_pred)\n",
        "disp = ConfusionMatrixDisplay(confusion_matrix=cm)\n",
        "disp.plot(cmap=plt.cm.Blues)\n",
        "plt.title(\"Confusion Matrix for Siamese LSTM Classifier\")\n",
        "plt.show()"
      ],
      "metadata": {
        "colab": {
          "base_uri": "https://localhost:8080/",
          "height": 642
        },
        "id": "AZqgQqyYQgNh",
        "outputId": "41252a47-c5da-4b4b-e2eb-fc838a460a28"
      },
      "execution_count": null,
      "outputs": [
        {
          "output_type": "stream",
          "name": "stdout",
          "text": [
            "Classification Report:\n",
            "               precision    recall  f1-score   support\n",
            "\n",
            "         0.0       0.66      0.51      0.57       987\n",
            "         1.0       0.61      0.75      0.67      1013\n",
            "\n",
            "    accuracy                           0.63      2000\n",
            "   macro avg       0.64      0.63      0.62      2000\n",
            "weighted avg       0.63      0.63      0.62      2000\n",
            "\n"
          ]
        },
        {
          "output_type": "display_data",
          "data": {
            "text/plain": [
              "<Figure size 640x480 with 2 Axes>"
            ],
            "image/png": "[encoded data removed]"
          },
          "metadata": {}
        }
      ]
    },
    {
      "cell_type": "markdown",
      "source": [
        "**Findings**:\n",
        "1. Increasing the number of LSTM layers from 2 to 50 led to loss function stagnating during training\n",
        "2. We will try using GRU instead of LSTM\n",
        "3. We will use dropout to reduce overfitting"
      ],
      "metadata": {
        "id": "FLH1B07Rquow"
      }
    }
  ],
  "metadata": {
    "colab": {
      "provenance": [],
      "machine_shape": "hm",
      "gpuType": "V28",
      "authorship_tag": "ABX9TyOPiPJk6pDfZBWm3ubHox/G",
      "include_colab_link": true
    },
    "kernelspec": {
      "display_name": "Python 3",
      "name": "python3"
    },
    "language_info": {
      "name": "python"
    },
    "accelerator": "TPU"
  },
  "nbformat": 4,
  "nbformat_minor": 0
}